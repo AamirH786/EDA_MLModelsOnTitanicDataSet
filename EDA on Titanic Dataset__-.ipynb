{
 "cells": [
  {
   "cell_type": "code",
   "execution_count": 1,
   "id": "9f548f44",
   "metadata": {},
   "outputs": [],
   "source": [
    "import numpy as np\n",
    "import pandas as pd\n",
    "import matplotlib.pyplot as plt\n",
    "import seaborn as sns\n",
    "import warnings\n",
    "warnings.filterwarnings('ignore')"
   ]
  },
  {
   "cell_type": "code",
   "execution_count": 2,
   "id": "02ed734c",
   "metadata": {},
   "outputs": [],
   "source": [
    "data = pd.read_csv(r'C:\\Users\\rajar\\OneDrive\\Desktop\\Excel Folder\\Titanic dataset.csv')"
   ]
  },
  {
   "cell_type": "code",
   "execution_count": 3,
   "id": "95bb376c",
   "metadata": {},
   "outputs": [
    {
     "data": {
      "text/html": [
       "<div>\n",
       "<style scoped>\n",
       "    .dataframe tbody tr th:only-of-type {\n",
       "        vertical-align: middle;\n",
       "    }\n",
       "\n",
       "    .dataframe tbody tr th {\n",
       "        vertical-align: top;\n",
       "    }\n",
       "\n",
       "    .dataframe thead th {\n",
       "        text-align: right;\n",
       "    }\n",
       "</style>\n",
       "<table border=\"1\" class=\"dataframe\">\n",
       "  <thead>\n",
       "    <tr style=\"text-align: right;\">\n",
       "      <th></th>\n",
       "      <th>PassengerId</th>\n",
       "      <th>Survived</th>\n",
       "      <th>Pclass</th>\n",
       "      <th>Name</th>\n",
       "      <th>Sex</th>\n",
       "      <th>Age</th>\n",
       "      <th>SibSp</th>\n",
       "      <th>Parch</th>\n",
       "      <th>Ticket</th>\n",
       "      <th>Fare</th>\n",
       "      <th>Cabin</th>\n",
       "      <th>Embarked</th>\n",
       "    </tr>\n",
       "  </thead>\n",
       "  <tbody>\n",
       "    <tr>\n",
       "      <th>0</th>\n",
       "      <td>1</td>\n",
       "      <td>0</td>\n",
       "      <td>3</td>\n",
       "      <td>Braund, Mr. Owen Harris</td>\n",
       "      <td>male</td>\n",
       "      <td>22.0</td>\n",
       "      <td>1</td>\n",
       "      <td>0</td>\n",
       "      <td>A/5 21171</td>\n",
       "      <td>7.2500</td>\n",
       "      <td>NaN</td>\n",
       "      <td>S</td>\n",
       "    </tr>\n",
       "    <tr>\n",
       "      <th>1</th>\n",
       "      <td>2</td>\n",
       "      <td>1</td>\n",
       "      <td>1</td>\n",
       "      <td>Cumings, Mrs. John Bradley (Florence Briggs Th...</td>\n",
       "      <td>female</td>\n",
       "      <td>38.0</td>\n",
       "      <td>1</td>\n",
       "      <td>0</td>\n",
       "      <td>PC 17599</td>\n",
       "      <td>71.2833</td>\n",
       "      <td>C85</td>\n",
       "      <td>C</td>\n",
       "    </tr>\n",
       "    <tr>\n",
       "      <th>2</th>\n",
       "      <td>3</td>\n",
       "      <td>1</td>\n",
       "      <td>3</td>\n",
       "      <td>Heikkinen, Miss. Laina</td>\n",
       "      <td>female</td>\n",
       "      <td>26.0</td>\n",
       "      <td>0</td>\n",
       "      <td>0</td>\n",
       "      <td>STON/O2. 3101282</td>\n",
       "      <td>7.9250</td>\n",
       "      <td>NaN</td>\n",
       "      <td>S</td>\n",
       "    </tr>\n",
       "    <tr>\n",
       "      <th>3</th>\n",
       "      <td>4</td>\n",
       "      <td>1</td>\n",
       "      <td>1</td>\n",
       "      <td>Futrelle, Mrs. Jacques Heath (Lily May Peel)</td>\n",
       "      <td>female</td>\n",
       "      <td>35.0</td>\n",
       "      <td>1</td>\n",
       "      <td>0</td>\n",
       "      <td>113803</td>\n",
       "      <td>53.1000</td>\n",
       "      <td>C123</td>\n",
       "      <td>S</td>\n",
       "    </tr>\n",
       "    <tr>\n",
       "      <th>4</th>\n",
       "      <td>5</td>\n",
       "      <td>0</td>\n",
       "      <td>3</td>\n",
       "      <td>Allen, Mr. William Henry</td>\n",
       "      <td>male</td>\n",
       "      <td>35.0</td>\n",
       "      <td>0</td>\n",
       "      <td>0</td>\n",
       "      <td>373450</td>\n",
       "      <td>8.0500</td>\n",
       "      <td>NaN</td>\n",
       "      <td>S</td>\n",
       "    </tr>\n",
       "  </tbody>\n",
       "</table>\n",
       "</div>"
      ],
      "text/plain": [
       "   PassengerId  Survived  Pclass  \\\n",
       "0            1         0       3   \n",
       "1            2         1       1   \n",
       "2            3         1       3   \n",
       "3            4         1       1   \n",
       "4            5         0       3   \n",
       "\n",
       "                                                Name     Sex   Age  SibSp  \\\n",
       "0                            Braund, Mr. Owen Harris    male  22.0      1   \n",
       "1  Cumings, Mrs. John Bradley (Florence Briggs Th...  female  38.0      1   \n",
       "2                             Heikkinen, Miss. Laina  female  26.0      0   \n",
       "3       Futrelle, Mrs. Jacques Heath (Lily May Peel)  female  35.0      1   \n",
       "4                           Allen, Mr. William Henry    male  35.0      0   \n",
       "\n",
       "   Parch            Ticket     Fare Cabin Embarked  \n",
       "0      0         A/5 21171   7.2500   NaN        S  \n",
       "1      0          PC 17599  71.2833   C85        C  \n",
       "2      0  STON/O2. 3101282   7.9250   NaN        S  \n",
       "3      0            113803  53.1000  C123        S  \n",
       "4      0            373450   8.0500   NaN        S  "
      ]
     },
     "execution_count": 3,
     "metadata": {},
     "output_type": "execute_result"
    }
   ],
   "source": [
    "data.head()"
   ]
  },
  {
   "cell_type": "code",
   "execution_count": 4,
   "id": "0c7aa954",
   "metadata": {},
   "outputs": [],
   "source": [
    "# EXPLORE the DATASET"
   ]
  },
  {
   "cell_type": "code",
   "execution_count": 5,
   "id": "fec7dd57",
   "metadata": {},
   "outputs": [
    {
     "name": "stdout",
     "output_type": "stream",
     "text": [
      "Rows: 891\n",
      "Columns: 12\n"
     ]
    }
   ],
   "source": [
    "data.shape\n",
    "print('Rows:',data.shape[0])\n",
    "print('Columns:',data.shape[1])"
   ]
  },
  {
   "cell_type": "code",
   "execution_count": 6,
   "id": "6506146e",
   "metadata": {},
   "outputs": [
    {
     "name": "stdout",
     "output_type": "stream",
     "text": [
      "<class 'pandas.core.frame.DataFrame'>\n",
      "RangeIndex: 891 entries, 0 to 890\n",
      "Data columns (total 12 columns):\n",
      " #   Column       Non-Null Count  Dtype  \n",
      "---  ------       --------------  -----  \n",
      " 0   PassengerId  891 non-null    int64  \n",
      " 1   Survived     891 non-null    int64  \n",
      " 2   Pclass       891 non-null    int64  \n",
      " 3   Name         891 non-null    object \n",
      " 4   Sex          891 non-null    object \n",
      " 5   Age          714 non-null    float64\n",
      " 6   SibSp        891 non-null    int64  \n",
      " 7   Parch        891 non-null    int64  \n",
      " 8   Ticket       891 non-null    object \n",
      " 9   Fare         891 non-null    float64\n",
      " 10  Cabin        204 non-null    object \n",
      " 11  Embarked     889 non-null    object \n",
      "dtypes: float64(2), int64(5), object(5)\n",
      "memory usage: 83.7+ KB\n"
     ]
    }
   ],
   "source": [
    "data.info()"
   ]
  },
  {
   "cell_type": "markdown",
   "id": "7c3c0569",
   "metadata": {},
   "source": [
    "Here it can be seen that there are missing values in Embarked, Cabin, Age"
   ]
  },
  {
   "cell_type": "code",
   "execution_count": 7,
   "id": "28105ec1",
   "metadata": {},
   "outputs": [
    {
     "data": {
      "text/html": [
       "<div>\n",
       "<style scoped>\n",
       "    .dataframe tbody tr th:only-of-type {\n",
       "        vertical-align: middle;\n",
       "    }\n",
       "\n",
       "    .dataframe tbody tr th {\n",
       "        vertical-align: top;\n",
       "    }\n",
       "\n",
       "    .dataframe thead th {\n",
       "        text-align: right;\n",
       "    }\n",
       "</style>\n",
       "<table border=\"1\" class=\"dataframe\">\n",
       "  <thead>\n",
       "    <tr style=\"text-align: right;\">\n",
       "      <th></th>\n",
       "      <th>count</th>\n",
       "      <th>mean</th>\n",
       "      <th>std</th>\n",
       "      <th>min</th>\n",
       "      <th>25%</th>\n",
       "      <th>50%</th>\n",
       "      <th>75%</th>\n",
       "      <th>max</th>\n",
       "    </tr>\n",
       "  </thead>\n",
       "  <tbody>\n",
       "    <tr>\n",
       "      <th>PassengerId</th>\n",
       "      <td>891.0</td>\n",
       "      <td>446.000000</td>\n",
       "      <td>257.353842</td>\n",
       "      <td>1.00</td>\n",
       "      <td>223.5000</td>\n",
       "      <td>446.0000</td>\n",
       "      <td>668.5</td>\n",
       "      <td>891.0000</td>\n",
       "    </tr>\n",
       "    <tr>\n",
       "      <th>Survived</th>\n",
       "      <td>891.0</td>\n",
       "      <td>0.383838</td>\n",
       "      <td>0.486592</td>\n",
       "      <td>0.00</td>\n",
       "      <td>0.0000</td>\n",
       "      <td>0.0000</td>\n",
       "      <td>1.0</td>\n",
       "      <td>1.0000</td>\n",
       "    </tr>\n",
       "    <tr>\n",
       "      <th>Pclass</th>\n",
       "      <td>891.0</td>\n",
       "      <td>2.308642</td>\n",
       "      <td>0.836071</td>\n",
       "      <td>1.00</td>\n",
       "      <td>2.0000</td>\n",
       "      <td>3.0000</td>\n",
       "      <td>3.0</td>\n",
       "      <td>3.0000</td>\n",
       "    </tr>\n",
       "    <tr>\n",
       "      <th>Age</th>\n",
       "      <td>714.0</td>\n",
       "      <td>29.699118</td>\n",
       "      <td>14.526497</td>\n",
       "      <td>0.42</td>\n",
       "      <td>20.1250</td>\n",
       "      <td>28.0000</td>\n",
       "      <td>38.0</td>\n",
       "      <td>80.0000</td>\n",
       "    </tr>\n",
       "    <tr>\n",
       "      <th>SibSp</th>\n",
       "      <td>891.0</td>\n",
       "      <td>0.523008</td>\n",
       "      <td>1.102743</td>\n",
       "      <td>0.00</td>\n",
       "      <td>0.0000</td>\n",
       "      <td>0.0000</td>\n",
       "      <td>1.0</td>\n",
       "      <td>8.0000</td>\n",
       "    </tr>\n",
       "    <tr>\n",
       "      <th>Parch</th>\n",
       "      <td>891.0</td>\n",
       "      <td>0.381594</td>\n",
       "      <td>0.806057</td>\n",
       "      <td>0.00</td>\n",
       "      <td>0.0000</td>\n",
       "      <td>0.0000</td>\n",
       "      <td>0.0</td>\n",
       "      <td>6.0000</td>\n",
       "    </tr>\n",
       "    <tr>\n",
       "      <th>Fare</th>\n",
       "      <td>891.0</td>\n",
       "      <td>32.204208</td>\n",
       "      <td>49.693429</td>\n",
       "      <td>0.00</td>\n",
       "      <td>7.9104</td>\n",
       "      <td>14.4542</td>\n",
       "      <td>31.0</td>\n",
       "      <td>512.3292</td>\n",
       "    </tr>\n",
       "  </tbody>\n",
       "</table>\n",
       "</div>"
      ],
      "text/plain": [
       "             count        mean         std   min       25%       50%    75%  \\\n",
       "PassengerId  891.0  446.000000  257.353842  1.00  223.5000  446.0000  668.5   \n",
       "Survived     891.0    0.383838    0.486592  0.00    0.0000    0.0000    1.0   \n",
       "Pclass       891.0    2.308642    0.836071  1.00    2.0000    3.0000    3.0   \n",
       "Age          714.0   29.699118   14.526497  0.42   20.1250   28.0000   38.0   \n",
       "SibSp        891.0    0.523008    1.102743  0.00    0.0000    0.0000    1.0   \n",
       "Parch        891.0    0.381594    0.806057  0.00    0.0000    0.0000    0.0   \n",
       "Fare         891.0   32.204208   49.693429  0.00    7.9104   14.4542   31.0   \n",
       "\n",
       "                  max  \n",
       "PassengerId  891.0000  \n",
       "Survived       1.0000  \n",
       "Pclass         3.0000  \n",
       "Age           80.0000  \n",
       "SibSp          8.0000  \n",
       "Parch          6.0000  \n",
       "Fare         512.3292  "
      ]
     },
     "execution_count": 7,
     "metadata": {},
     "output_type": "execute_result"
    }
   ],
   "source": [
    "data.describe().T"
   ]
  },
  {
   "cell_type": "markdown",
   "id": "0884a30d",
   "metadata": {},
   "source": [
    "Here there are posibilites of outliers in Age and Fare column"
   ]
  },
  {
   "cell_type": "code",
   "execution_count": 8,
   "id": "d28ba8e4",
   "metadata": {},
   "outputs": [
    {
     "data": {
      "text/html": [
       "<div>\n",
       "<style scoped>\n",
       "    .dataframe tbody tr th:only-of-type {\n",
       "        vertical-align: middle;\n",
       "    }\n",
       "\n",
       "    .dataframe tbody tr th {\n",
       "        vertical-align: top;\n",
       "    }\n",
       "\n",
       "    .dataframe thead th {\n",
       "        text-align: right;\n",
       "    }\n",
       "</style>\n",
       "<table border=\"1\" class=\"dataframe\">\n",
       "  <thead>\n",
       "    <tr style=\"text-align: right;\">\n",
       "      <th></th>\n",
       "      <th>count</th>\n",
       "      <th>unique</th>\n",
       "      <th>top</th>\n",
       "      <th>freq</th>\n",
       "    </tr>\n",
       "  </thead>\n",
       "  <tbody>\n",
       "    <tr>\n",
       "      <th>Name</th>\n",
       "      <td>891</td>\n",
       "      <td>891</td>\n",
       "      <td>Braund, Mr. Owen Harris</td>\n",
       "      <td>1</td>\n",
       "    </tr>\n",
       "    <tr>\n",
       "      <th>Sex</th>\n",
       "      <td>891</td>\n",
       "      <td>2</td>\n",
       "      <td>male</td>\n",
       "      <td>577</td>\n",
       "    </tr>\n",
       "    <tr>\n",
       "      <th>Ticket</th>\n",
       "      <td>891</td>\n",
       "      <td>681</td>\n",
       "      <td>347082</td>\n",
       "      <td>7</td>\n",
       "    </tr>\n",
       "    <tr>\n",
       "      <th>Cabin</th>\n",
       "      <td>204</td>\n",
       "      <td>147</td>\n",
       "      <td>B96 B98</td>\n",
       "      <td>4</td>\n",
       "    </tr>\n",
       "    <tr>\n",
       "      <th>Embarked</th>\n",
       "      <td>889</td>\n",
       "      <td>3</td>\n",
       "      <td>S</td>\n",
       "      <td>644</td>\n",
       "    </tr>\n",
       "  </tbody>\n",
       "</table>\n",
       "</div>"
      ],
      "text/plain": [
       "         count unique                      top freq\n",
       "Name       891    891  Braund, Mr. Owen Harris    1\n",
       "Sex        891      2                     male  577\n",
       "Ticket     891    681                   347082    7\n",
       "Cabin      204    147                  B96 B98    4\n",
       "Embarked   889      3                        S  644"
      ]
     },
     "execution_count": 8,
     "metadata": {},
     "output_type": "execute_result"
    }
   ],
   "source": [
    "data.describe(include=object).T"
   ]
  },
  {
   "cell_type": "code",
   "execution_count": 9,
   "id": "261b6946",
   "metadata": {},
   "outputs": [
    {
     "data": {
      "text/html": [
       "<div>\n",
       "<style scoped>\n",
       "    .dataframe tbody tr th:only-of-type {\n",
       "        vertical-align: middle;\n",
       "    }\n",
       "\n",
       "    .dataframe tbody tr th {\n",
       "        vertical-align: top;\n",
       "    }\n",
       "\n",
       "    .dataframe thead th {\n",
       "        text-align: right;\n",
       "    }\n",
       "</style>\n",
       "<table border=\"1\" class=\"dataframe\">\n",
       "  <thead>\n",
       "    <tr style=\"text-align: right;\">\n",
       "      <th></th>\n",
       "      <th>PassengerId</th>\n",
       "      <th>Survived</th>\n",
       "      <th>Pclass</th>\n",
       "      <th>Age</th>\n",
       "      <th>SibSp</th>\n",
       "      <th>Parch</th>\n",
       "      <th>Fare</th>\n",
       "    </tr>\n",
       "  </thead>\n",
       "  <tbody>\n",
       "    <tr>\n",
       "      <th>PassengerId</th>\n",
       "      <td>1.000000</td>\n",
       "      <td>-0.005007</td>\n",
       "      <td>-0.035144</td>\n",
       "      <td>0.036847</td>\n",
       "      <td>-0.057527</td>\n",
       "      <td>-0.001652</td>\n",
       "      <td>0.012658</td>\n",
       "    </tr>\n",
       "    <tr>\n",
       "      <th>Survived</th>\n",
       "      <td>-0.005007</td>\n",
       "      <td>1.000000</td>\n",
       "      <td>-0.338481</td>\n",
       "      <td>-0.077221</td>\n",
       "      <td>-0.035322</td>\n",
       "      <td>0.081629</td>\n",
       "      <td>0.257307</td>\n",
       "    </tr>\n",
       "    <tr>\n",
       "      <th>Pclass</th>\n",
       "      <td>-0.035144</td>\n",
       "      <td>-0.338481</td>\n",
       "      <td>1.000000</td>\n",
       "      <td>-0.369226</td>\n",
       "      <td>0.083081</td>\n",
       "      <td>0.018443</td>\n",
       "      <td>-0.549500</td>\n",
       "    </tr>\n",
       "    <tr>\n",
       "      <th>Age</th>\n",
       "      <td>0.036847</td>\n",
       "      <td>-0.077221</td>\n",
       "      <td>-0.369226</td>\n",
       "      <td>1.000000</td>\n",
       "      <td>-0.308247</td>\n",
       "      <td>-0.189119</td>\n",
       "      <td>0.096067</td>\n",
       "    </tr>\n",
       "    <tr>\n",
       "      <th>SibSp</th>\n",
       "      <td>-0.057527</td>\n",
       "      <td>-0.035322</td>\n",
       "      <td>0.083081</td>\n",
       "      <td>-0.308247</td>\n",
       "      <td>1.000000</td>\n",
       "      <td>0.414838</td>\n",
       "      <td>0.159651</td>\n",
       "    </tr>\n",
       "    <tr>\n",
       "      <th>Parch</th>\n",
       "      <td>-0.001652</td>\n",
       "      <td>0.081629</td>\n",
       "      <td>0.018443</td>\n",
       "      <td>-0.189119</td>\n",
       "      <td>0.414838</td>\n",
       "      <td>1.000000</td>\n",
       "      <td>0.216225</td>\n",
       "    </tr>\n",
       "    <tr>\n",
       "      <th>Fare</th>\n",
       "      <td>0.012658</td>\n",
       "      <td>0.257307</td>\n",
       "      <td>-0.549500</td>\n",
       "      <td>0.096067</td>\n",
       "      <td>0.159651</td>\n",
       "      <td>0.216225</td>\n",
       "      <td>1.000000</td>\n",
       "    </tr>\n",
       "  </tbody>\n",
       "</table>\n",
       "</div>"
      ],
      "text/plain": [
       "             PassengerId  Survived    Pclass       Age     SibSp     Parch  \\\n",
       "PassengerId     1.000000 -0.005007 -0.035144  0.036847 -0.057527 -0.001652   \n",
       "Survived       -0.005007  1.000000 -0.338481 -0.077221 -0.035322  0.081629   \n",
       "Pclass         -0.035144 -0.338481  1.000000 -0.369226  0.083081  0.018443   \n",
       "Age             0.036847 -0.077221 -0.369226  1.000000 -0.308247 -0.189119   \n",
       "SibSp          -0.057527 -0.035322  0.083081 -0.308247  1.000000  0.414838   \n",
       "Parch          -0.001652  0.081629  0.018443 -0.189119  0.414838  1.000000   \n",
       "Fare            0.012658  0.257307 -0.549500  0.096067  0.159651  0.216225   \n",
       "\n",
       "                 Fare  \n",
       "PassengerId  0.012658  \n",
       "Survived     0.257307  \n",
       "Pclass      -0.549500  \n",
       "Age          0.096067  \n",
       "SibSp        0.159651  \n",
       "Parch        0.216225  \n",
       "Fare         1.000000  "
      ]
     },
     "execution_count": 9,
     "metadata": {},
     "output_type": "execute_result"
    }
   ],
   "source": [
    "data.corr()"
   ]
  },
  {
   "cell_type": "code",
   "execution_count": 10,
   "id": "7b89e1c1",
   "metadata": {},
   "outputs": [
    {
     "data": {
      "image/png": "[encoded data removed]",
      "text/plain": [
       "<Figure size 504x360 with 2 Axes>"
      ]
     },
     "metadata": {
      "needs_background": "light"
     },
     "output_type": "display_data"
    }
   ],
   "source": [
    "plt.figure(figsize=(7,5))\n",
    "sns.heatmap(data.corr(),vmax=1,vmin=-1,cmap='RdBu',annot=True)\n",
    "plt.show()"
   ]
  },
  {
   "cell_type": "code",
   "execution_count": 11,
   "id": "25bc169b",
   "metadata": {},
   "outputs": [
    {
     "data": {
      "image/png": "[encoded data removed]",
      "text/plain": [
       "<Figure size 540x540 with 12 Axes>"
      ]
     },
     "metadata": {
      "needs_background": "light"
     },
     "output_type": "display_data"
    }
   ],
   "source": [
    "sns.pairplot(vars=['Pclass','Sex','Embarked'],data=data)\n",
    "plt.show()"
   ]
  },
  {
   "cell_type": "markdown",
   "id": "9c68346b",
   "metadata": {},
   "source": [
    "# Data Analysis on Survived"
   ]
  },
  {
   "cell_type": "code",
   "execution_count": 12,
   "id": "158474d0",
   "metadata": {},
   "outputs": [
    {
     "data": {
      "image/png": "[encoded data removed]",
      "text/plain": [
       "<Figure size 432x288 with 1 Axes>"
      ]
     },
     "metadata": {
      "needs_background": "light"
     },
     "output_type": "display_data"
    }
   ],
   "source": [
    "sns.countplot(data['Sex'], hue=data['Survived'])\n",
    "\n",
    "plt.show()"
   ]
  },
  {
   "cell_type": "code",
   "execution_count": 13,
   "id": "92643c74",
   "metadata": {},
   "outputs": [],
   "source": [
    "data_sex = data.groupby(by=['Sex','Survived'])['Survived'].count()"
   ]
  },
  {
   "cell_type": "code",
   "execution_count": 14,
   "id": "d4ef0d9f",
   "metadata": {},
   "outputs": [
    {
     "name": "stdout",
     "output_type": "stream",
     "text": [
      "Females Survived 74.20%\n",
      "Males Survived 18.89%\n"
     ]
    }
   ],
   "source": [
    "print('Females Survived %.2f%%'%((data_sex['female'][1]/(data_sex['female'][0]+data_sex['female'][1])*100)))\n",
    "print('Males Survived %.2f%%'%((data_sex['male'][1]/(data_sex['male'][0]+data_sex['male'][1])*100)))"
   ]
  },
  {
   "cell_type": "code",
   "execution_count": 15,
   "id": "0d30520d",
   "metadata": {},
   "outputs": [
    {
     "data": {
      "image/png": "[encoded data removed]",
      "text/plain": [
       "<Figure size 432x288 with 1 Axes>"
      ]
     },
     "metadata": {
      "needs_background": "light"
     },
     "output_type": "display_data"
    }
   ],
   "source": [
    "sns.countplot(data['Pclass'], hue=data['Survived'])\n",
    "\n",
    "plt.show()"
   ]
  },
  {
   "cell_type": "code",
   "execution_count": 16,
   "id": "60cd0458",
   "metadata": {},
   "outputs": [],
   "source": [
    "data_pclass = data.groupby(by=['Pclass','Survived'])['Survived'].count()"
   ]
  },
  {
   "cell_type": "code",
   "execution_count": 17,
   "id": "ef3bc3dd",
   "metadata": {},
   "outputs": [
    {
     "data": {
      "text/plain": [
       "Pclass  Survived\n",
       "1       0            80\n",
       "        1           136\n",
       "2       0            97\n",
       "        1            87\n",
       "3       0           372\n",
       "        1           119\n",
       "Name: Survived, dtype: int64"
      ]
     },
     "execution_count": 17,
     "metadata": {},
     "output_type": "execute_result"
    }
   ],
   "source": [
    "data_pclass"
   ]
  },
  {
   "cell_type": "code",
   "execution_count": 18,
   "id": "64f5e155",
   "metadata": {},
   "outputs": [
    {
     "name": "stdout",
     "output_type": "stream",
     "text": [
      "1st Class Survived 62.96%\n",
      "2nd Class Survived 47.28%\n",
      "3rd Class Survived 24.24%\n"
     ]
    }
   ],
   "source": [
    "print('1st Class Survived %.2f%%'%((data_pclass[1][1]/(data_pclass[1][0]+data_pclass[1][1])*100)))\n",
    "print('2nd Class Survived %.2f%%'%((data_pclass[2][1]/(data_pclass[2][0]+data_pclass[2][1])*100)))\n",
    "print('3rd Class Survived %.2f%%'%((data_pclass[3][1]/(data_pclass[3][0]+data_pclass[3][1])*100)))"
   ]
  },
  {
   "cell_type": "code",
   "execution_count": 19,
   "id": "c65344bd",
   "metadata": {},
   "outputs": [],
   "source": [
    "def age_category(age):\n",
    "    if age<=12:\n",
    "        return 'Children'\n",
    "    elif age>12 and age<=18:\n",
    "        return 'Teenage'\n",
    "    elif age>18 and age<=30:\n",
    "        return 'Youth'\n",
    "    elif age>30 and age<=45:\n",
    "        return 'Midage'\n",
    "    elif age>45 and age<60:\n",
    "        return 'Oldage'\n",
    "    else:\n",
    "        return 'Seniors'"
   ]
  },
  {
   "cell_type": "code",
   "execution_count": 20,
   "id": "a4f7e667",
   "metadata": {},
   "outputs": [],
   "source": [
    "data['AgeCategory'] = data['Age'].apply(age_category)"
   ]
  },
  {
   "cell_type": "code",
   "execution_count": 21,
   "id": "30ecd7a7",
   "metadata": {},
   "outputs": [
    {
     "data": {
      "text/html": [
       "<div>\n",
       "<style scoped>\n",
       "    .dataframe tbody tr th:only-of-type {\n",
       "        vertical-align: middle;\n",
       "    }\n",
       "\n",
       "    .dataframe tbody tr th {\n",
       "        vertical-align: top;\n",
       "    }\n",
       "\n",
       "    .dataframe thead th {\n",
       "        text-align: right;\n",
       "    }\n",
       "</style>\n",
       "<table border=\"1\" class=\"dataframe\">\n",
       "  <thead>\n",
       "    <tr style=\"text-align: right;\">\n",
       "      <th></th>\n",
       "      <th>PassengerId</th>\n",
       "      <th>Survived</th>\n",
       "      <th>Pclass</th>\n",
       "      <th>Name</th>\n",
       "      <th>Sex</th>\n",
       "      <th>Age</th>\n",
       "      <th>SibSp</th>\n",
       "      <th>Parch</th>\n",
       "      <th>Ticket</th>\n",
       "      <th>Fare</th>\n",
       "      <th>Cabin</th>\n",
       "      <th>Embarked</th>\n",
       "      <th>AgeCategory</th>\n",
       "    </tr>\n",
       "  </thead>\n",
       "  <tbody>\n",
       "    <tr>\n",
       "      <th>0</th>\n",
       "      <td>1</td>\n",
       "      <td>0</td>\n",
       "      <td>3</td>\n",
       "      <td>Braund, Mr. Owen Harris</td>\n",
       "      <td>male</td>\n",
       "      <td>22.0</td>\n",
       "      <td>1</td>\n",
       "      <td>0</td>\n",
       "      <td>A/5 21171</td>\n",
       "      <td>7.2500</td>\n",
       "      <td>NaN</td>\n",
       "      <td>S</td>\n",
       "      <td>Youth</td>\n",
       "    </tr>\n",
       "    <tr>\n",
       "      <th>1</th>\n",
       "      <td>2</td>\n",
       "      <td>1</td>\n",
       "      <td>1</td>\n",
       "      <td>Cumings, Mrs. John Bradley (Florence Briggs Th...</td>\n",
       "      <td>female</td>\n",
       "      <td>38.0</td>\n",
       "      <td>1</td>\n",
       "      <td>0</td>\n",
       "      <td>PC 17599</td>\n",
       "      <td>71.2833</td>\n",
       "      <td>C85</td>\n",
       "      <td>C</td>\n",
       "      <td>Midage</td>\n",
       "    </tr>\n",
       "    <tr>\n",
       "      <th>2</th>\n",
       "      <td>3</td>\n",
       "      <td>1</td>\n",
       "      <td>3</td>\n",
       "      <td>Heikkinen, Miss. Laina</td>\n",
       "      <td>female</td>\n",
       "      <td>26.0</td>\n",
       "      <td>0</td>\n",
       "      <td>0</td>\n",
       "      <td>STON/O2. 3101282</td>\n",
       "      <td>7.9250</td>\n",
       "      <td>NaN</td>\n",
       "      <td>S</td>\n",
       "      <td>Youth</td>\n",
       "    </tr>\n",
       "    <tr>\n",
       "      <th>3</th>\n",
       "      <td>4</td>\n",
       "      <td>1</td>\n",
       "      <td>1</td>\n",
       "      <td>Futrelle, Mrs. Jacques Heath (Lily May Peel)</td>\n",
       "      <td>female</td>\n",
       "      <td>35.0</td>\n",
       "      <td>1</td>\n",
       "      <td>0</td>\n",
       "      <td>113803</td>\n",
       "      <td>53.1000</td>\n",
       "      <td>C123</td>\n",
       "      <td>S</td>\n",
       "      <td>Midage</td>\n",
       "    </tr>\n",
       "    <tr>\n",
       "      <th>4</th>\n",
       "      <td>5</td>\n",
       "      <td>0</td>\n",
       "      <td>3</td>\n",
       "      <td>Allen, Mr. William Henry</td>\n",
       "      <td>male</td>\n",
       "      <td>35.0</td>\n",
       "      <td>0</td>\n",
       "      <td>0</td>\n",
       "      <td>373450</td>\n",
       "      <td>8.0500</td>\n",
       "      <td>NaN</td>\n",
       "      <td>S</td>\n",
       "      <td>Midage</td>\n",
       "    </tr>\n",
       "  </tbody>\n",
       "</table>\n",
       "</div>"
      ],
      "text/plain": [
       "   PassengerId  Survived  Pclass  \\\n",
       "0            1         0       3   \n",
       "1            2         1       1   \n",
       "2            3         1       3   \n",
       "3            4         1       1   \n",
       "4            5         0       3   \n",
       "\n",
       "                                                Name     Sex   Age  SibSp  \\\n",
       "0                            Braund, Mr. Owen Harris    male  22.0      1   \n",
       "1  Cumings, Mrs. John Bradley (Florence Briggs Th...  female  38.0      1   \n",
       "2                             Heikkinen, Miss. Laina  female  26.0      0   \n",
       "3       Futrelle, Mrs. Jacques Heath (Lily May Peel)  female  35.0      1   \n",
       "4                           Allen, Mr. William Henry    male  35.0      0   \n",
       "\n",
       "   Parch            Ticket     Fare Cabin Embarked AgeCategory  \n",
       "0      0         A/5 21171   7.2500   NaN        S       Youth  \n",
       "1      0          PC 17599  71.2833   C85        C      Midage  \n",
       "2      0  STON/O2. 3101282   7.9250   NaN        S       Youth  \n",
       "3      0            113803  53.1000  C123        S      Midage  \n",
       "4      0            373450   8.0500   NaN        S      Midage  "
      ]
     },
     "execution_count": 21,
     "metadata": {},
     "output_type": "execute_result"
    }
   ],
   "source": [
    "data.head()"
   ]
  },
  {
   "cell_type": "code",
   "execution_count": 22,
   "id": "28cad818",
   "metadata": {},
   "outputs": [
    {
     "data": {
      "image/png": "[encoded data removed]",
      "text/plain": [
       "<Figure size 432x288 with 1 Axes>"
      ]
     },
     "metadata": {
      "needs_background": "light"
     },
     "output_type": "display_data"
    }
   ],
   "source": [
    "sns.countplot(data['AgeCategory'], hue=data['Survived'])\n",
    "plt.show()"
   ]
  },
  {
   "cell_type": "code",
   "execution_count": 23,
   "id": "dad5ed77",
   "metadata": {},
   "outputs": [],
   "source": [
    "observed = pd.crosstab(data['AgeCategory'],data['Survived'])"
   ]
  },
  {
   "cell_type": "code",
   "execution_count": 24,
   "id": "0075429e",
   "metadata": {},
   "outputs": [
    {
     "name": "stdout",
     "output_type": "stream",
     "text": [
      "Chi sq:  21.76819364956196\n",
      "p-value:  0.0005794728331556137\n",
      "Accept The H1:\n"
     ]
    }
   ],
   "source": [
    "# H0: The Survived is Independent of Age Category\n",
    "# H1: The Survived  Depends upon the Age Category\n",
    "from scipy.stats import chi2_contingency\n",
    "\n",
    "chi,p,dof,expected = chi2_contingency(observed)\n",
    "print('Chi sq: ',chi)\n",
    "print('p-value: ',p)\n",
    "if p<0.05:\n",
    "    print('Accept The H1:')\n",
    "else:\n",
    "    print('Accept the H0:')"
   ]
  },
  {
   "cell_type": "code",
   "execution_count": 25,
   "id": "998dd3fa",
   "metadata": {},
   "outputs": [
    {
     "data": {
      "image/png": "[encoded data removed]",
      "text/plain": [
       "<Figure size 432x288 with 1 Axes>"
      ]
     },
     "metadata": {
      "needs_background": "light"
     },
     "output_type": "display_data"
    }
   ],
   "source": [
    "sns.countplot(data['Embarked'], hue=data['Survived'])\n",
    "plt.show()"
   ]
  },
  {
   "cell_type": "code",
   "execution_count": 26,
   "id": "8fa21306",
   "metadata": {},
   "outputs": [],
   "source": [
    "# Does the Survived Depends upon Fare Price??\n",
    "fare_surv = data[data['Survived']==1]['Fare']\n",
    "fare_nsurv = data[data['Survived']==0]['Fare']"
   ]
  },
  {
   "cell_type": "code",
   "execution_count": 27,
   "id": "b43a3cdc",
   "metadata": {},
   "outputs": [],
   "source": [
    "from statsmodels.stats.weightstats import ztest"
   ]
  },
  {
   "cell_type": "code",
   "execution_count": 28,
   "id": "8a75084a",
   "metadata": {},
   "outputs": [
    {
     "name": "stdout",
     "output_type": "stream",
     "text": [
      "z-score:  7.939191660871055\n",
      "p-value:  2.035031103573989e-15\n",
      "Accept The H1:\n"
     ]
    }
   ],
   "source": [
    "# H0: There is no difference in Fare of Surv and Fare of not Surv\n",
    "# H1: The two samples are different\n",
    "\n",
    "z_score,p_value = ztest(fare_surv,fare_nsurv)\n",
    "print('z-score: ',z_score)\n",
    "print('p-value: ',p_value)\n",
    "if p_value<0.05:\n",
    "    print('Accept The H1:')\n",
    "else:\n",
    "    print('Accept the H0:')"
   ]
  },
  {
   "cell_type": "raw",
   "id": "7b8f4632",
   "metadata": {},
   "source": [
    "Data Analysis Conclusion:-\n",
    "\n",
    "1) The survival rate of Female passengers is higher as compared to male passengers (females were given priority while rescue)\n",
    "\n",
    "2) The survival rate of passengers from 1st class was highest. (The passengers from 1st and 2 second class were given priority while rescue)\n",
    "\n",
    "3) Children, teenagers and senior citizens were given priority while rescue.\n",
    "\n",
    "4) Although the survival rate for passengers boarded from Chebourge was the highest while there were more number of passengers from southampton we cannot say that was any priority on the basis of boarding station."
   ]
  },
  {
   "cell_type": "markdown",
   "id": "dd36b823",
   "metadata": {},
   "source": [
    "# DATA PRE-PROCESSING"
   ]
  },
  {
   "cell_type": "markdown",
   "id": "db3c2958",
   "metadata": {},
   "source": [
    "## Detect and Treat the missing Values"
   ]
  },
  {
   "cell_type": "code",
   "execution_count": 29,
   "id": "5d4bd4bd",
   "metadata": {},
   "outputs": [
    {
     "data": {
      "text/plain": [
       "Cabin          77.104377\n",
       "Age            19.865320\n",
       "Embarked        0.224467\n",
       "PassengerId     0.000000\n",
       "Survived        0.000000\n",
       "Pclass          0.000000\n",
       "Name            0.000000\n",
       "Sex             0.000000\n",
       "SibSp           0.000000\n",
       "Parch           0.000000\n",
       "Ticket          0.000000\n",
       "Fare            0.000000\n",
       "AgeCategory     0.000000\n",
       "dtype: float64"
      ]
     },
     "execution_count": 29,
     "metadata": {},
     "output_type": "execute_result"
    }
   ],
   "source": [
    "((data.isnull().sum()/data.isnull().count())*100).sort_values(ascending=False)"
   ]
  },
  {
   "cell_type": "code",
   "execution_count": 30,
   "id": "c69fc8d8",
   "metadata": {},
   "outputs": [
    {
     "data": {
      "text/html": [
       "<div>\n",
       "<style scoped>\n",
       "    .dataframe tbody tr th:only-of-type {\n",
       "        vertical-align: middle;\n",
       "    }\n",
       "\n",
       "    .dataframe tbody tr th {\n",
       "        vertical-align: top;\n",
       "    }\n",
       "\n",
       "    .dataframe thead th {\n",
       "        text-align: right;\n",
       "    }\n",
       "</style>\n",
       "<table border=\"1\" class=\"dataframe\">\n",
       "  <thead>\n",
       "    <tr style=\"text-align: right;\">\n",
       "      <th></th>\n",
       "      <th>PassengerId</th>\n",
       "      <th>Survived</th>\n",
       "      <th>Pclass</th>\n",
       "      <th>Name</th>\n",
       "      <th>Sex</th>\n",
       "      <th>Age</th>\n",
       "      <th>SibSp</th>\n",
       "      <th>Parch</th>\n",
       "      <th>Ticket</th>\n",
       "      <th>Fare</th>\n",
       "      <th>Cabin</th>\n",
       "      <th>Embarked</th>\n",
       "      <th>AgeCategory</th>\n",
       "    </tr>\n",
       "  </thead>\n",
       "  <tbody>\n",
       "    <tr>\n",
       "      <th>61</th>\n",
       "      <td>62</td>\n",
       "      <td>1</td>\n",
       "      <td>1</td>\n",
       "      <td>Icard, Miss. Amelie</td>\n",
       "      <td>female</td>\n",
       "      <td>38.0</td>\n",
       "      <td>0</td>\n",
       "      <td>0</td>\n",
       "      <td>113572</td>\n",
       "      <td>80.0</td>\n",
       "      <td>B28</td>\n",
       "      <td>NaN</td>\n",
       "      <td>Midage</td>\n",
       "    </tr>\n",
       "    <tr>\n",
       "      <th>829</th>\n",
       "      <td>830</td>\n",
       "      <td>1</td>\n",
       "      <td>1</td>\n",
       "      <td>Stone, Mrs. George Nelson (Martha Evelyn)</td>\n",
       "      <td>female</td>\n",
       "      <td>62.0</td>\n",
       "      <td>0</td>\n",
       "      <td>0</td>\n",
       "      <td>113572</td>\n",
       "      <td>80.0</td>\n",
       "      <td>B28</td>\n",
       "      <td>NaN</td>\n",
       "      <td>Seniors</td>\n",
       "    </tr>\n",
       "  </tbody>\n",
       "</table>\n",
       "</div>"
      ],
      "text/plain": [
       "     PassengerId  Survived  Pclass                                       Name  \\\n",
       "61            62         1       1                        Icard, Miss. Amelie   \n",
       "829          830         1       1  Stone, Mrs. George Nelson (Martha Evelyn)   \n",
       "\n",
       "        Sex   Age  SibSp  Parch  Ticket  Fare Cabin Embarked AgeCategory  \n",
       "61   female  38.0      0      0  113572  80.0   B28      NaN      Midage  \n",
       "829  female  62.0      0      0  113572  80.0   B28      NaN     Seniors  "
      ]
     },
     "execution_count": 30,
     "metadata": {},
     "output_type": "execute_result"
    }
   ],
   "source": [
    "data[data['Embarked'].isnull()]"
   ]
  },
  {
   "cell_type": "code",
   "execution_count": 31,
   "id": "338be760",
   "metadata": {},
   "outputs": [
    {
     "data": {
      "text/plain": [
       "Embarked\n",
       "C    78.2667\n",
       "Q    90.0000\n",
       "S    52.0000\n",
       "Name: Fare, dtype: float64"
      ]
     },
     "execution_count": 31,
     "metadata": {},
     "output_type": "execute_result"
    }
   ],
   "source": [
    "data.groupby(by=['Pclass','Embarked'])['Fare'].median()[1]"
   ]
  },
  {
   "cell_type": "code",
   "execution_count": 32,
   "id": "c8eb9051",
   "metadata": {},
   "outputs": [],
   "source": [
    "data['Embarked']= np.where(data['Embarked'].isnull(),'C',data['Embarked'])"
   ]
  },
  {
   "cell_type": "code",
   "execution_count": 33,
   "id": "58e01506",
   "metadata": {},
   "outputs": [
    {
     "data": {
      "text/html": [
       "<div>\n",
       "<style scoped>\n",
       "    .dataframe tbody tr th:only-of-type {\n",
       "        vertical-align: middle;\n",
       "    }\n",
       "\n",
       "    .dataframe tbody tr th {\n",
       "        vertical-align: top;\n",
       "    }\n",
       "\n",
       "    .dataframe thead th {\n",
       "        text-align: right;\n",
       "    }\n",
       "</style>\n",
       "<table border=\"1\" class=\"dataframe\">\n",
       "  <thead>\n",
       "    <tr style=\"text-align: right;\">\n",
       "      <th></th>\n",
       "      <th>PassengerId</th>\n",
       "      <th>Survived</th>\n",
       "      <th>Pclass</th>\n",
       "      <th>Name</th>\n",
       "      <th>Sex</th>\n",
       "      <th>Age</th>\n",
       "      <th>SibSp</th>\n",
       "      <th>Parch</th>\n",
       "      <th>Ticket</th>\n",
       "      <th>Fare</th>\n",
       "      <th>Cabin</th>\n",
       "      <th>Embarked</th>\n",
       "      <th>AgeCategory</th>\n",
       "    </tr>\n",
       "  </thead>\n",
       "  <tbody>\n",
       "    <tr>\n",
       "      <th>61</th>\n",
       "      <td>62</td>\n",
       "      <td>1</td>\n",
       "      <td>1</td>\n",
       "      <td>Icard, Miss. Amelie</td>\n",
       "      <td>female</td>\n",
       "      <td>38.0</td>\n",
       "      <td>0</td>\n",
       "      <td>0</td>\n",
       "      <td>113572</td>\n",
       "      <td>80.0</td>\n",
       "      <td>B28</td>\n",
       "      <td>C</td>\n",
       "      <td>Midage</td>\n",
       "    </tr>\n",
       "    <tr>\n",
       "      <th>829</th>\n",
       "      <td>830</td>\n",
       "      <td>1</td>\n",
       "      <td>1</td>\n",
       "      <td>Stone, Mrs. George Nelson (Martha Evelyn)</td>\n",
       "      <td>female</td>\n",
       "      <td>62.0</td>\n",
       "      <td>0</td>\n",
       "      <td>0</td>\n",
       "      <td>113572</td>\n",
       "      <td>80.0</td>\n",
       "      <td>B28</td>\n",
       "      <td>C</td>\n",
       "      <td>Seniors</td>\n",
       "    </tr>\n",
       "  </tbody>\n",
       "</table>\n",
       "</div>"
      ],
      "text/plain": [
       "     PassengerId  Survived  Pclass                                       Name  \\\n",
       "61            62         1       1                        Icard, Miss. Amelie   \n",
       "829          830         1       1  Stone, Mrs. George Nelson (Martha Evelyn)   \n",
       "\n",
       "        Sex   Age  SibSp  Parch  Ticket  Fare Cabin Embarked AgeCategory  \n",
       "61   female  38.0      0      0  113572  80.0   B28        C      Midage  \n",
       "829  female  62.0      0      0  113572  80.0   B28        C     Seniors  "
      ]
     },
     "execution_count": 33,
     "metadata": {},
     "output_type": "execute_result"
    }
   ],
   "source": [
    "data.iloc[[61,829],:]"
   ]
  },
  {
   "cell_type": "code",
   "execution_count": 34,
   "id": "859c198b",
   "metadata": {},
   "outputs": [
    {
     "data": {
      "text/html": [
       "<div>\n",
       "<style scoped>\n",
       "    .dataframe tbody tr th:only-of-type {\n",
       "        vertical-align: middle;\n",
       "    }\n",
       "\n",
       "    .dataframe tbody tr th {\n",
       "        vertical-align: top;\n",
       "    }\n",
       "\n",
       "    .dataframe thead th {\n",
       "        text-align: right;\n",
       "    }\n",
       "</style>\n",
       "<table border=\"1\" class=\"dataframe\">\n",
       "  <thead>\n",
       "    <tr style=\"text-align: right;\">\n",
       "      <th></th>\n",
       "      <th>PassengerId</th>\n",
       "      <th>Survived</th>\n",
       "      <th>Pclass</th>\n",
       "      <th>Name</th>\n",
       "      <th>Sex</th>\n",
       "      <th>Age</th>\n",
       "      <th>SibSp</th>\n",
       "      <th>Parch</th>\n",
       "      <th>Ticket</th>\n",
       "      <th>Fare</th>\n",
       "      <th>Cabin</th>\n",
       "      <th>Embarked</th>\n",
       "      <th>AgeCategory</th>\n",
       "    </tr>\n",
       "  </thead>\n",
       "  <tbody>\n",
       "  </tbody>\n",
       "</table>\n",
       "</div>"
      ],
      "text/plain": [
       "Empty DataFrame\n",
       "Columns: [PassengerId, Survived, Pclass, Name, Sex, Age, SibSp, Parch, Ticket, Fare, Cabin, Embarked, AgeCategory]\n",
       "Index: []"
      ]
     },
     "execution_count": 34,
     "metadata": {},
     "output_type": "execute_result"
    }
   ],
   "source": [
    "data[data['Embarked'].isnull()]"
   ]
  },
  {
   "cell_type": "code",
   "execution_count": 35,
   "id": "a0c54d46",
   "metadata": {},
   "outputs": [
    {
     "data": {
      "text/html": [
       "<div>\n",
       "<style scoped>\n",
       "    .dataframe tbody tr th:only-of-type {\n",
       "        vertical-align: middle;\n",
       "    }\n",
       "\n",
       "    .dataframe tbody tr th {\n",
       "        vertical-align: top;\n",
       "    }\n",
       "\n",
       "    .dataframe thead th {\n",
       "        text-align: right;\n",
       "    }\n",
       "</style>\n",
       "<table border=\"1\" class=\"dataframe\">\n",
       "  <thead>\n",
       "    <tr style=\"text-align: right;\">\n",
       "      <th></th>\n",
       "      <th>PassengerId</th>\n",
       "      <th>Survived</th>\n",
       "      <th>Pclass</th>\n",
       "      <th>Name</th>\n",
       "      <th>Sex</th>\n",
       "      <th>Age</th>\n",
       "      <th>SibSp</th>\n",
       "      <th>Parch</th>\n",
       "      <th>Ticket</th>\n",
       "      <th>Fare</th>\n",
       "      <th>Cabin</th>\n",
       "      <th>Embarked</th>\n",
       "      <th>AgeCategory</th>\n",
       "    </tr>\n",
       "  </thead>\n",
       "  <tbody>\n",
       "    <tr>\n",
       "      <th>5</th>\n",
       "      <td>6</td>\n",
       "      <td>0</td>\n",
       "      <td>3</td>\n",
       "      <td>Moran, Mr. James</td>\n",
       "      <td>male</td>\n",
       "      <td>NaN</td>\n",
       "      <td>0</td>\n",
       "      <td>0</td>\n",
       "      <td>330877</td>\n",
       "      <td>8.4583</td>\n",
       "      <td>NaN</td>\n",
       "      <td>Q</td>\n",
       "      <td>Seniors</td>\n",
       "    </tr>\n",
       "    <tr>\n",
       "      <th>17</th>\n",
       "      <td>18</td>\n",
       "      <td>1</td>\n",
       "      <td>2</td>\n",
       "      <td>Williams, Mr. Charles Eugene</td>\n",
       "      <td>male</td>\n",
       "      <td>NaN</td>\n",
       "      <td>0</td>\n",
       "      <td>0</td>\n",
       "      <td>244373</td>\n",
       "      <td>13.0000</td>\n",
       "      <td>NaN</td>\n",
       "      <td>S</td>\n",
       "      <td>Seniors</td>\n",
       "    </tr>\n",
       "    <tr>\n",
       "      <th>19</th>\n",
       "      <td>20</td>\n",
       "      <td>1</td>\n",
       "      <td>3</td>\n",
       "      <td>Masselmani, Mrs. Fatima</td>\n",
       "      <td>female</td>\n",
       "      <td>NaN</td>\n",
       "      <td>0</td>\n",
       "      <td>0</td>\n",
       "      <td>2649</td>\n",
       "      <td>7.2250</td>\n",
       "      <td>NaN</td>\n",
       "      <td>C</td>\n",
       "      <td>Seniors</td>\n",
       "    </tr>\n",
       "    <tr>\n",
       "      <th>26</th>\n",
       "      <td>27</td>\n",
       "      <td>0</td>\n",
       "      <td>3</td>\n",
       "      <td>Emir, Mr. Farred Chehab</td>\n",
       "      <td>male</td>\n",
       "      <td>NaN</td>\n",
       "      <td>0</td>\n",
       "      <td>0</td>\n",
       "      <td>2631</td>\n",
       "      <td>7.2250</td>\n",
       "      <td>NaN</td>\n",
       "      <td>C</td>\n",
       "      <td>Seniors</td>\n",
       "    </tr>\n",
       "    <tr>\n",
       "      <th>28</th>\n",
       "      <td>29</td>\n",
       "      <td>1</td>\n",
       "      <td>3</td>\n",
       "      <td>O'Dwyer, Miss. Ellen \"Nellie\"</td>\n",
       "      <td>female</td>\n",
       "      <td>NaN</td>\n",
       "      <td>0</td>\n",
       "      <td>0</td>\n",
       "      <td>330959</td>\n",
       "      <td>7.8792</td>\n",
       "      <td>NaN</td>\n",
       "      <td>Q</td>\n",
       "      <td>Seniors</td>\n",
       "    </tr>\n",
       "    <tr>\n",
       "      <th>...</th>\n",
       "      <td>...</td>\n",
       "      <td>...</td>\n",
       "      <td>...</td>\n",
       "      <td>...</td>\n",
       "      <td>...</td>\n",
       "      <td>...</td>\n",
       "      <td>...</td>\n",
       "      <td>...</td>\n",
       "      <td>...</td>\n",
       "      <td>...</td>\n",
       "      <td>...</td>\n",
       "      <td>...</td>\n",
       "      <td>...</td>\n",
       "    </tr>\n",
       "    <tr>\n",
       "      <th>859</th>\n",
       "      <td>860</td>\n",
       "      <td>0</td>\n",
       "      <td>3</td>\n",
       "      <td>Razi, Mr. Raihed</td>\n",
       "      <td>male</td>\n",
       "      <td>NaN</td>\n",
       "      <td>0</td>\n",
       "      <td>0</td>\n",
       "      <td>2629</td>\n",
       "      <td>7.2292</td>\n",
       "      <td>NaN</td>\n",
       "      <td>C</td>\n",
       "      <td>Seniors</td>\n",
       "    </tr>\n",
       "    <tr>\n",
       "      <th>863</th>\n",
       "      <td>864</td>\n",
       "      <td>0</td>\n",
       "      <td>3</td>\n",
       "      <td>Sage, Miss. Dorothy Edith \"Dolly\"</td>\n",
       "      <td>female</td>\n",
       "      <td>NaN</td>\n",
       "      <td>8</td>\n",
       "      <td>2</td>\n",
       "      <td>CA. 2343</td>\n",
       "      <td>69.5500</td>\n",
       "      <td>NaN</td>\n",
       "      <td>S</td>\n",
       "      <td>Seniors</td>\n",
       "    </tr>\n",
       "    <tr>\n",
       "      <th>868</th>\n",
       "      <td>869</td>\n",
       "      <td>0</td>\n",
       "      <td>3</td>\n",
       "      <td>van Melkebeke, Mr. Philemon</td>\n",
       "      <td>male</td>\n",
       "      <td>NaN</td>\n",
       "      <td>0</td>\n",
       "      <td>0</td>\n",
       "      <td>345777</td>\n",
       "      <td>9.5000</td>\n",
       "      <td>NaN</td>\n",
       "      <td>S</td>\n",
       "      <td>Seniors</td>\n",
       "    </tr>\n",
       "    <tr>\n",
       "      <th>878</th>\n",
       "      <td>879</td>\n",
       "      <td>0</td>\n",
       "      <td>3</td>\n",
       "      <td>Laleff, Mr. Kristo</td>\n",
       "      <td>male</td>\n",
       "      <td>NaN</td>\n",
       "      <td>0</td>\n",
       "      <td>0</td>\n",
       "      <td>349217</td>\n",
       "      <td>7.8958</td>\n",
       "      <td>NaN</td>\n",
       "      <td>S</td>\n",
       "      <td>Seniors</td>\n",
       "    </tr>\n",
       "    <tr>\n",
       "      <th>888</th>\n",
       "      <td>889</td>\n",
       "      <td>0</td>\n",
       "      <td>3</td>\n",
       "      <td>Johnston, Miss. Catherine Helen \"Carrie\"</td>\n",
       "      <td>female</td>\n",
       "      <td>NaN</td>\n",
       "      <td>1</td>\n",
       "      <td>2</td>\n",
       "      <td>W./C. 6607</td>\n",
       "      <td>23.4500</td>\n",
       "      <td>NaN</td>\n",
       "      <td>S</td>\n",
       "      <td>Seniors</td>\n",
       "    </tr>\n",
       "  </tbody>\n",
       "</table>\n",
       "<p>177 rows × 13 columns</p>\n",
       "</div>"
      ],
      "text/plain": [
       "     PassengerId  Survived  Pclass                                      Name  \\\n",
       "5              6         0       3                          Moran, Mr. James   \n",
       "17            18         1       2              Williams, Mr. Charles Eugene   \n",
       "19            20         1       3                   Masselmani, Mrs. Fatima   \n",
       "26            27         0       3                   Emir, Mr. Farred Chehab   \n",
       "28            29         1       3             O'Dwyer, Miss. Ellen \"Nellie\"   \n",
       "..           ...       ...     ...                                       ...   \n",
       "859          860         0       3                          Razi, Mr. Raihed   \n",
       "863          864         0       3         Sage, Miss. Dorothy Edith \"Dolly\"   \n",
       "868          869         0       3               van Melkebeke, Mr. Philemon   \n",
       "878          879         0       3                        Laleff, Mr. Kristo   \n",
       "888          889         0       3  Johnston, Miss. Catherine Helen \"Carrie\"   \n",
       "\n",
       "        Sex  Age  SibSp  Parch      Ticket     Fare Cabin Embarked AgeCategory  \n",
       "5      male  NaN      0      0      330877   8.4583   NaN        Q     Seniors  \n",
       "17     male  NaN      0      0      244373  13.0000   NaN        S     Seniors  \n",
       "19   female  NaN      0      0        2649   7.2250   NaN        C     Seniors  \n",
       "26     male  NaN      0      0        2631   7.2250   NaN        C     Seniors  \n",
       "28   female  NaN      0      0      330959   7.8792   NaN        Q     Seniors  \n",
       "..      ...  ...    ...    ...         ...      ...   ...      ...         ...  \n",
       "859    male  NaN      0      0        2629   7.2292   NaN        C     Seniors  \n",
       "863  female  NaN      8      2    CA. 2343  69.5500   NaN        S     Seniors  \n",
       "868    male  NaN      0      0      345777   9.5000   NaN        S     Seniors  \n",
       "878    male  NaN      0      0      349217   7.8958   NaN        S     Seniors  \n",
       "888  female  NaN      1      2  W./C. 6607  23.4500   NaN        S     Seniors  \n",
       "\n",
       "[177 rows x 13 columns]"
      ]
     },
     "execution_count": 35,
     "metadata": {},
     "output_type": "execute_result"
    }
   ],
   "source": [
    "# treating Age for missing value\n",
    "data[data['Age'].isnull()]"
   ]
  },
  {
   "cell_type": "code",
   "execution_count": 36,
   "id": "07426e2c",
   "metadata": {},
   "outputs": [
    {
     "data": {
      "text/plain": [
       "28.0"
      ]
     },
     "execution_count": 36,
     "metadata": {},
     "output_type": "execute_result"
    }
   ],
   "source": [
    "data['Age'].median()"
   ]
  },
  {
   "cell_type": "code",
   "execution_count": 37,
   "id": "952ae2bd",
   "metadata": {},
   "outputs": [],
   "source": [
    "data['Age'].fillna(data['Age'].median(), inplace=True)"
   ]
  },
  {
   "cell_type": "code",
   "execution_count": 38,
   "id": "dcc67e33",
   "metadata": {},
   "outputs": [
    {
     "data": {
      "text/html": [
       "<div>\n",
       "<style scoped>\n",
       "    .dataframe tbody tr th:only-of-type {\n",
       "        vertical-align: middle;\n",
       "    }\n",
       "\n",
       "    .dataframe tbody tr th {\n",
       "        vertical-align: top;\n",
       "    }\n",
       "\n",
       "    .dataframe thead th {\n",
       "        text-align: right;\n",
       "    }\n",
       "</style>\n",
       "<table border=\"1\" class=\"dataframe\">\n",
       "  <thead>\n",
       "    <tr style=\"text-align: right;\">\n",
       "      <th></th>\n",
       "      <th>PassengerId</th>\n",
       "      <th>Survived</th>\n",
       "      <th>Pclass</th>\n",
       "      <th>Name</th>\n",
       "      <th>Sex</th>\n",
       "      <th>Age</th>\n",
       "      <th>SibSp</th>\n",
       "      <th>Parch</th>\n",
       "      <th>Ticket</th>\n",
       "      <th>Fare</th>\n",
       "      <th>Cabin</th>\n",
       "      <th>Embarked</th>\n",
       "      <th>AgeCategory</th>\n",
       "    </tr>\n",
       "  </thead>\n",
       "  <tbody>\n",
       "  </tbody>\n",
       "</table>\n",
       "</div>"
      ],
      "text/plain": [
       "Empty DataFrame\n",
       "Columns: [PassengerId, Survived, Pclass, Name, Sex, Age, SibSp, Parch, Ticket, Fare, Cabin, Embarked, AgeCategory]\n",
       "Index: []"
      ]
     },
     "execution_count": 38,
     "metadata": {},
     "output_type": "execute_result"
    }
   ],
   "source": [
    "data[data['Age'].isnull()]"
   ]
  },
  {
   "cell_type": "code",
   "execution_count": 39,
   "id": "c4997a9c",
   "metadata": {},
   "outputs": [],
   "source": [
    "# We need to drop the cabin column beacuse 77% data is missing"
   ]
  },
  {
   "cell_type": "code",
   "execution_count": 40,
   "id": "f362ca88",
   "metadata": {},
   "outputs": [],
   "source": [
    "data.drop(columns=['Cabin'], inplace=True)"
   ]
  },
  {
   "cell_type": "code",
   "execution_count": 41,
   "id": "b05c30fc",
   "metadata": {},
   "outputs": [
    {
     "data": {
      "text/plain": [
       "PassengerId    0.0\n",
       "Survived       0.0\n",
       "Pclass         0.0\n",
       "Name           0.0\n",
       "Sex            0.0\n",
       "Age            0.0\n",
       "SibSp          0.0\n",
       "Parch          0.0\n",
       "Ticket         0.0\n",
       "Fare           0.0\n",
       "Embarked       0.0\n",
       "AgeCategory    0.0\n",
       "dtype: float64"
      ]
     },
     "execution_count": 41,
     "metadata": {},
     "output_type": "execute_result"
    }
   ],
   "source": [
    "((data.isnull().sum()/data.isnull().count())*100).sort_values(ascending=False)"
   ]
  },
  {
   "cell_type": "markdown",
   "id": "e44da8fc",
   "metadata": {},
   "source": [
    "## Detecting and treating the outliers"
   ]
  },
  {
   "cell_type": "code",
   "execution_count": 42,
   "id": "ebee611c",
   "metadata": {},
   "outputs": [
    {
     "data": {
      "image/png": "[encoded data removed]",
      "text/plain": [
       "<Figure size 432x288 with 1 Axes>"
      ]
     },
     "metadata": {
      "needs_background": "light"
     },
     "output_type": "display_data"
    }
   ],
   "source": [
    "sns.boxplot(data['Age'])\n",
    "plt.show()"
   ]
  },
  {
   "cell_type": "code",
   "execution_count": 43,
   "id": "b9deff03",
   "metadata": {},
   "outputs": [
    {
     "data": {
      "text/html": [
       "<div>\n",
       "<style scoped>\n",
       "    .dataframe tbody tr th:only-of-type {\n",
       "        vertical-align: middle;\n",
       "    }\n",
       "\n",
       "    .dataframe tbody tr th {\n",
       "        vertical-align: top;\n",
       "    }\n",
       "\n",
       "    .dataframe thead th {\n",
       "        text-align: right;\n",
       "    }\n",
       "</style>\n",
       "<table border=\"1\" class=\"dataframe\">\n",
       "  <thead>\n",
       "    <tr style=\"text-align: right;\">\n",
       "      <th></th>\n",
       "      <th>PassengerId</th>\n",
       "      <th>Survived</th>\n",
       "      <th>Pclass</th>\n",
       "      <th>Name</th>\n",
       "      <th>Sex</th>\n",
       "      <th>Age</th>\n",
       "      <th>SibSp</th>\n",
       "      <th>Parch</th>\n",
       "      <th>Ticket</th>\n",
       "      <th>Fare</th>\n",
       "      <th>Embarked</th>\n",
       "      <th>AgeCategory</th>\n",
       "    </tr>\n",
       "  </thead>\n",
       "  <tbody>\n",
       "    <tr>\n",
       "      <th>96</th>\n",
       "      <td>97</td>\n",
       "      <td>0</td>\n",
       "      <td>1</td>\n",
       "      <td>Goldschmidt, Mr. George B</td>\n",
       "      <td>male</td>\n",
       "      <td>71.0</td>\n",
       "      <td>0</td>\n",
       "      <td>0</td>\n",
       "      <td>PC 17754</td>\n",
       "      <td>34.6542</td>\n",
       "      <td>C</td>\n",
       "      <td>Seniors</td>\n",
       "    </tr>\n",
       "    <tr>\n",
       "      <th>116</th>\n",
       "      <td>117</td>\n",
       "      <td>0</td>\n",
       "      <td>3</td>\n",
       "      <td>Connors, Mr. Patrick</td>\n",
       "      <td>male</td>\n",
       "      <td>70.5</td>\n",
       "      <td>0</td>\n",
       "      <td>0</td>\n",
       "      <td>370369</td>\n",
       "      <td>7.7500</td>\n",
       "      <td>Q</td>\n",
       "      <td>Seniors</td>\n",
       "    </tr>\n",
       "    <tr>\n",
       "      <th>493</th>\n",
       "      <td>494</td>\n",
       "      <td>0</td>\n",
       "      <td>1</td>\n",
       "      <td>Artagaveytia, Mr. Ramon</td>\n",
       "      <td>male</td>\n",
       "      <td>71.0</td>\n",
       "      <td>0</td>\n",
       "      <td>0</td>\n",
       "      <td>PC 17609</td>\n",
       "      <td>49.5042</td>\n",
       "      <td>C</td>\n",
       "      <td>Seniors</td>\n",
       "    </tr>\n",
       "    <tr>\n",
       "      <th>630</th>\n",
       "      <td>631</td>\n",
       "      <td>1</td>\n",
       "      <td>1</td>\n",
       "      <td>Barkworth, Mr. Algernon Henry Wilson</td>\n",
       "      <td>male</td>\n",
       "      <td>80.0</td>\n",
       "      <td>0</td>\n",
       "      <td>0</td>\n",
       "      <td>27042</td>\n",
       "      <td>30.0000</td>\n",
       "      <td>S</td>\n",
       "      <td>Seniors</td>\n",
       "    </tr>\n",
       "    <tr>\n",
       "      <th>851</th>\n",
       "      <td>852</td>\n",
       "      <td>0</td>\n",
       "      <td>3</td>\n",
       "      <td>Svensson, Mr. Johan</td>\n",
       "      <td>male</td>\n",
       "      <td>74.0</td>\n",
       "      <td>0</td>\n",
       "      <td>0</td>\n",
       "      <td>347060</td>\n",
       "      <td>7.7750</td>\n",
       "      <td>S</td>\n",
       "      <td>Seniors</td>\n",
       "    </tr>\n",
       "  </tbody>\n",
       "</table>\n",
       "</div>"
      ],
      "text/plain": [
       "     PassengerId  Survived  Pclass                                  Name  \\\n",
       "96            97         0       1             Goldschmidt, Mr. George B   \n",
       "116          117         0       3                  Connors, Mr. Patrick   \n",
       "493          494         0       1               Artagaveytia, Mr. Ramon   \n",
       "630          631         1       1  Barkworth, Mr. Algernon Henry Wilson   \n",
       "851          852         0       3                   Svensson, Mr. Johan   \n",
       "\n",
       "      Sex   Age  SibSp  Parch    Ticket     Fare Embarked AgeCategory  \n",
       "96   male  71.0      0      0  PC 17754  34.6542        C     Seniors  \n",
       "116  male  70.5      0      0    370369   7.7500        Q     Seniors  \n",
       "493  male  71.0      0      0  PC 17609  49.5042        C     Seniors  \n",
       "630  male  80.0      0      0     27042  30.0000        S     Seniors  \n",
       "851  male  74.0      0      0    347060   7.7750        S     Seniors  "
      ]
     },
     "execution_count": 43,
     "metadata": {},
     "output_type": "execute_result"
    }
   ],
   "source": [
    "data[data['Age']>70]"
   ]
  },
  {
   "cell_type": "code",
   "execution_count": 44,
   "id": "904d6f1f",
   "metadata": {},
   "outputs": [
    {
     "data": {
      "image/png": "[encoded data removed]",
      "text/plain": [
       "<Figure size 432x288 with 1 Axes>"
      ]
     },
     "metadata": {
      "needs_background": "light"
     },
     "output_type": "display_data"
    }
   ],
   "source": [
    "sns.boxplot(data['Fare'])\n",
    "plt.show()"
   ]
  },
  {
   "cell_type": "code",
   "execution_count": 45,
   "id": "2159e868",
   "metadata": {},
   "outputs": [
    {
     "data": {
      "text/html": [
       "<div>\n",
       "<style scoped>\n",
       "    .dataframe tbody tr th:only-of-type {\n",
       "        vertical-align: middle;\n",
       "    }\n",
       "\n",
       "    .dataframe tbody tr th {\n",
       "        vertical-align: top;\n",
       "    }\n",
       "\n",
       "    .dataframe thead th {\n",
       "        text-align: right;\n",
       "    }\n",
       "</style>\n",
       "<table border=\"1\" class=\"dataframe\">\n",
       "  <thead>\n",
       "    <tr style=\"text-align: right;\">\n",
       "      <th></th>\n",
       "      <th>PassengerId</th>\n",
       "      <th>Survived</th>\n",
       "      <th>Pclass</th>\n",
       "      <th>Name</th>\n",
       "      <th>Sex</th>\n",
       "      <th>Age</th>\n",
       "      <th>SibSp</th>\n",
       "      <th>Parch</th>\n",
       "      <th>Ticket</th>\n",
       "      <th>Fare</th>\n",
       "      <th>Embarked</th>\n",
       "      <th>AgeCategory</th>\n",
       "    </tr>\n",
       "  </thead>\n",
       "  <tbody>\n",
       "    <tr>\n",
       "      <th>258</th>\n",
       "      <td>259</td>\n",
       "      <td>1</td>\n",
       "      <td>1</td>\n",
       "      <td>Ward, Miss. Anna</td>\n",
       "      <td>female</td>\n",
       "      <td>35.0</td>\n",
       "      <td>0</td>\n",
       "      <td>0</td>\n",
       "      <td>PC 17755</td>\n",
       "      <td>512.3292</td>\n",
       "      <td>C</td>\n",
       "      <td>Midage</td>\n",
       "    </tr>\n",
       "    <tr>\n",
       "      <th>679</th>\n",
       "      <td>680</td>\n",
       "      <td>1</td>\n",
       "      <td>1</td>\n",
       "      <td>Cardeza, Mr. Thomas Drake Martinez</td>\n",
       "      <td>male</td>\n",
       "      <td>36.0</td>\n",
       "      <td>0</td>\n",
       "      <td>1</td>\n",
       "      <td>PC 17755</td>\n",
       "      <td>512.3292</td>\n",
       "      <td>C</td>\n",
       "      <td>Midage</td>\n",
       "    </tr>\n",
       "    <tr>\n",
       "      <th>737</th>\n",
       "      <td>738</td>\n",
       "      <td>1</td>\n",
       "      <td>1</td>\n",
       "      <td>Lesurer, Mr. Gustave J</td>\n",
       "      <td>male</td>\n",
       "      <td>35.0</td>\n",
       "      <td>0</td>\n",
       "      <td>0</td>\n",
       "      <td>PC 17755</td>\n",
       "      <td>512.3292</td>\n",
       "      <td>C</td>\n",
       "      <td>Midage</td>\n",
       "    </tr>\n",
       "  </tbody>\n",
       "</table>\n",
       "</div>"
      ],
      "text/plain": [
       "     PassengerId  Survived  Pclass                                Name  \\\n",
       "258          259         1       1                    Ward, Miss. Anna   \n",
       "679          680         1       1  Cardeza, Mr. Thomas Drake Martinez   \n",
       "737          738         1       1              Lesurer, Mr. Gustave J   \n",
       "\n",
       "        Sex   Age  SibSp  Parch    Ticket      Fare Embarked AgeCategory  \n",
       "258  female  35.0      0      0  PC 17755  512.3292        C      Midage  \n",
       "679    male  36.0      0      1  PC 17755  512.3292        C      Midage  \n",
       "737    male  35.0      0      0  PC 17755  512.3292        C      Midage  "
      ]
     },
     "execution_count": 45,
     "metadata": {},
     "output_type": "execute_result"
    }
   ],
   "source": [
    "data[data['Fare']>500]"
   ]
  },
  {
   "cell_type": "code",
   "execution_count": null,
   "id": "b4485af7",
   "metadata": {},
   "outputs": [],
   "source": []
  },
  {
   "cell_type": "code",
   "execution_count": 46,
   "id": "bdad1065",
   "metadata": {},
   "outputs": [
    {
     "data": {
      "text/plain": [
       "112.07915"
      ]
     },
     "execution_count": 46,
     "metadata": {},
     "output_type": "execute_result"
    }
   ],
   "source": [
    "# We will cap the values in fare to 95th percentile value\n",
    "np.percentile(data['Fare'],95)"
   ]
  },
  {
   "cell_type": "code",
   "execution_count": 47,
   "id": "c4d33fd5",
   "metadata": {},
   "outputs": [],
   "source": [
    "ul = np.percentile(data['Fare'],95)"
   ]
  },
  {
   "cell_type": "code",
   "execution_count": 48,
   "id": "a249fd57",
   "metadata": {},
   "outputs": [],
   "source": [
    "data['Fare']= np.where(data['Fare']>ul,ul,data['Fare'])"
   ]
  },
  {
   "cell_type": "code",
   "execution_count": 49,
   "id": "87f2fd06",
   "metadata": {},
   "outputs": [
    {
     "data": {
      "image/png": "[encoded data removed]",
      "text/plain": [
       "<Figure size 432x288 with 1 Axes>"
      ]
     },
     "metadata": {
      "needs_background": "light"
     },
     "output_type": "display_data"
    }
   ],
   "source": [
    "sns.boxplot(data['Fare'])\n",
    "plt.show()"
   ]
  },
  {
   "cell_type": "markdown",
   "id": "c478ccd8",
   "metadata": {},
   "source": [
    "## Feature Selection"
   ]
  },
  {
   "cell_type": "code",
   "execution_count": 50,
   "id": "b9dbcd26",
   "metadata": {},
   "outputs": [
    {
     "data": {
      "image/png": "[encoded data removed]",
      "text/plain": [
       "<Figure size 504x360 with 2 Axes>"
      ]
     },
     "metadata": {
      "needs_background": "light"
     },
     "output_type": "display_data"
    }
   ],
   "source": [
    "plt.figure(figsize=(7,5))\n",
    "sns.heatmap(data.corr(),vmax=1,vmin=-1,cmap='RdBu',annot=True)\n",
    "plt.show()"
   ]
  },
  {
   "cell_type": "code",
   "execution_count": 51,
   "id": "547764dd",
   "metadata": {},
   "outputs": [],
   "source": [
    "# To avoid multicolinearity we need to remove Pclass"
   ]
  },
  {
   "cell_type": "code",
   "execution_count": 52,
   "id": "bc87327d",
   "metadata": {},
   "outputs": [],
   "source": [
    "data.drop(columns=['PassengerId','Pclass','Name','Ticket','AgeCategory'],inplace=True)"
   ]
  },
  {
   "cell_type": "code",
   "execution_count": 53,
   "id": "390c4f45",
   "metadata": {},
   "outputs": [
    {
     "data": {
      "text/html": [
       "<div>\n",
       "<style scoped>\n",
       "    .dataframe tbody tr th:only-of-type {\n",
       "        vertical-align: middle;\n",
       "    }\n",
       "\n",
       "    .dataframe tbody tr th {\n",
       "        vertical-align: top;\n",
       "    }\n",
       "\n",
       "    .dataframe thead th {\n",
       "        text-align: right;\n",
       "    }\n",
       "</style>\n",
       "<table border=\"1\" class=\"dataframe\">\n",
       "  <thead>\n",
       "    <tr style=\"text-align: right;\">\n",
       "      <th></th>\n",
       "      <th>Survived</th>\n",
       "      <th>Sex</th>\n",
       "      <th>Age</th>\n",
       "      <th>SibSp</th>\n",
       "      <th>Parch</th>\n",
       "      <th>Fare</th>\n",
       "      <th>Embarked</th>\n",
       "    </tr>\n",
       "  </thead>\n",
       "  <tbody>\n",
       "    <tr>\n",
       "      <th>0</th>\n",
       "      <td>0</td>\n",
       "      <td>male</td>\n",
       "      <td>22.0</td>\n",
       "      <td>1</td>\n",
       "      <td>0</td>\n",
       "      <td>7.2500</td>\n",
       "      <td>S</td>\n",
       "    </tr>\n",
       "    <tr>\n",
       "      <th>1</th>\n",
       "      <td>1</td>\n",
       "      <td>female</td>\n",
       "      <td>38.0</td>\n",
       "      <td>1</td>\n",
       "      <td>0</td>\n",
       "      <td>71.2833</td>\n",
       "      <td>C</td>\n",
       "    </tr>\n",
       "    <tr>\n",
       "      <th>2</th>\n",
       "      <td>1</td>\n",
       "      <td>female</td>\n",
       "      <td>26.0</td>\n",
       "      <td>0</td>\n",
       "      <td>0</td>\n",
       "      <td>7.9250</td>\n",
       "      <td>S</td>\n",
       "    </tr>\n",
       "    <tr>\n",
       "      <th>3</th>\n",
       "      <td>1</td>\n",
       "      <td>female</td>\n",
       "      <td>35.0</td>\n",
       "      <td>1</td>\n",
       "      <td>0</td>\n",
       "      <td>53.1000</td>\n",
       "      <td>S</td>\n",
       "    </tr>\n",
       "    <tr>\n",
       "      <th>4</th>\n",
       "      <td>0</td>\n",
       "      <td>male</td>\n",
       "      <td>35.0</td>\n",
       "      <td>0</td>\n",
       "      <td>0</td>\n",
       "      <td>8.0500</td>\n",
       "      <td>S</td>\n",
       "    </tr>\n",
       "  </tbody>\n",
       "</table>\n",
       "</div>"
      ],
      "text/plain": [
       "   Survived     Sex   Age  SibSp  Parch     Fare Embarked\n",
       "0         0    male  22.0      1      0   7.2500        S\n",
       "1         1  female  38.0      1      0  71.2833        C\n",
       "2         1  female  26.0      0      0   7.9250        S\n",
       "3         1  female  35.0      1      0  53.1000        S\n",
       "4         0    male  35.0      0      0   8.0500        S"
      ]
     },
     "execution_count": 53,
     "metadata": {},
     "output_type": "execute_result"
    }
   ],
   "source": [
    "data.head()"
   ]
  },
  {
   "cell_type": "markdown",
   "id": "9b32db42",
   "metadata": {},
   "source": [
    "## Feature Engineering"
   ]
  },
  {
   "cell_type": "code",
   "execution_count": 54,
   "id": "5afc64b5",
   "metadata": {},
   "outputs": [],
   "source": [
    "data = pd.get_dummies(data, drop_first=True)"
   ]
  },
  {
   "cell_type": "code",
   "execution_count": 55,
   "id": "4571226f",
   "metadata": {},
   "outputs": [
    {
     "data": {
      "text/html": [
       "<div>\n",
       "<style scoped>\n",
       "    .dataframe tbody tr th:only-of-type {\n",
       "        vertical-align: middle;\n",
       "    }\n",
       "\n",
       "    .dataframe tbody tr th {\n",
       "        vertical-align: top;\n",
       "    }\n",
       "\n",
       "    .dataframe thead th {\n",
       "        text-align: right;\n",
       "    }\n",
       "</style>\n",
       "<table border=\"1\" class=\"dataframe\">\n",
       "  <thead>\n",
       "    <tr style=\"text-align: right;\">\n",
       "      <th></th>\n",
       "      <th>Survived</th>\n",
       "      <th>Age</th>\n",
       "      <th>SibSp</th>\n",
       "      <th>Parch</th>\n",
       "      <th>Fare</th>\n",
       "      <th>Sex_male</th>\n",
       "      <th>Embarked_Q</th>\n",
       "      <th>Embarked_S</th>\n",
       "    </tr>\n",
       "  </thead>\n",
       "  <tbody>\n",
       "    <tr>\n",
       "      <th>0</th>\n",
       "      <td>0</td>\n",
       "      <td>22.0</td>\n",
       "      <td>1</td>\n",
       "      <td>0</td>\n",
       "      <td>7.2500</td>\n",
       "      <td>1</td>\n",
       "      <td>0</td>\n",
       "      <td>1</td>\n",
       "    </tr>\n",
       "    <tr>\n",
       "      <th>1</th>\n",
       "      <td>1</td>\n",
       "      <td>38.0</td>\n",
       "      <td>1</td>\n",
       "      <td>0</td>\n",
       "      <td>71.2833</td>\n",
       "      <td>0</td>\n",
       "      <td>0</td>\n",
       "      <td>0</td>\n",
       "    </tr>\n",
       "    <tr>\n",
       "      <th>2</th>\n",
       "      <td>1</td>\n",
       "      <td>26.0</td>\n",
       "      <td>0</td>\n",
       "      <td>0</td>\n",
       "      <td>7.9250</td>\n",
       "      <td>0</td>\n",
       "      <td>0</td>\n",
       "      <td>1</td>\n",
       "    </tr>\n",
       "    <tr>\n",
       "      <th>3</th>\n",
       "      <td>1</td>\n",
       "      <td>35.0</td>\n",
       "      <td>1</td>\n",
       "      <td>0</td>\n",
       "      <td>53.1000</td>\n",
       "      <td>0</td>\n",
       "      <td>0</td>\n",
       "      <td>1</td>\n",
       "    </tr>\n",
       "    <tr>\n",
       "      <th>4</th>\n",
       "      <td>0</td>\n",
       "      <td>35.0</td>\n",
       "      <td>0</td>\n",
       "      <td>0</td>\n",
       "      <td>8.0500</td>\n",
       "      <td>1</td>\n",
       "      <td>0</td>\n",
       "      <td>1</td>\n",
       "    </tr>\n",
       "  </tbody>\n",
       "</table>\n",
       "</div>"
      ],
      "text/plain": [
       "   Survived   Age  SibSp  Parch     Fare  Sex_male  Embarked_Q  Embarked_S\n",
       "0         0  22.0      1      0   7.2500         1           0           1\n",
       "1         1  38.0      1      0  71.2833         0           0           0\n",
       "2         1  26.0      0      0   7.9250         0           0           1\n",
       "3         1  35.0      1      0  53.1000         0           0           1\n",
       "4         0  35.0      0      0   8.0500         1           0           1"
      ]
     },
     "execution_count": 55,
     "metadata": {},
     "output_type": "execute_result"
    }
   ],
   "source": [
    "data.head()"
   ]
  },
  {
   "cell_type": "markdown",
   "id": "1d947a9c",
   "metadata": {},
   "source": [
    "## Feature Scaling"
   ]
  },
  {
   "cell_type": "code",
   "execution_count": 56,
   "id": "0ed3444c",
   "metadata": {},
   "outputs": [],
   "source": [
    "from sklearn.preprocessing import StandardScaler"
   ]
  },
  {
   "cell_type": "code",
   "execution_count": 57,
   "id": "a1269a67",
   "metadata": {},
   "outputs": [],
   "source": [
    "sc = StandardScaler()"
   ]
  },
  {
   "cell_type": "code",
   "execution_count": 58,
   "id": "e8c10343",
   "metadata": {},
   "outputs": [],
   "source": [
    "data_s = sc.fit_transform(data)"
   ]
  },
  {
   "cell_type": "code",
   "execution_count": 59,
   "id": "bc5b4b8a",
   "metadata": {},
   "outputs": [
    {
     "data": {
      "text/plain": [
       "array([[-0.78927234, -0.56573646,  0.43279337, ...,  0.73769513,\n",
       "        -0.30756234,  0.61930636],\n",
       "       [ 1.2669898 ,  0.66386103,  0.43279337, ..., -1.35557354,\n",
       "        -0.30756234, -1.61470971],\n",
       "       [ 1.2669898 , -0.25833709, -0.4745452 , ..., -1.35557354,\n",
       "        -0.30756234,  0.61930636],\n",
       "       ...,\n",
       "       [-0.78927234, -0.1046374 ,  0.43279337, ..., -1.35557354,\n",
       "        -0.30756234,  0.61930636],\n",
       "       [ 1.2669898 , -0.25833709, -0.4745452 , ...,  0.73769513,\n",
       "        -0.30756234, -1.61470971],\n",
       "       [-0.78927234,  0.20276197, -0.4745452 , ...,  0.73769513,\n",
       "         3.25137334, -1.61470971]])"
      ]
     },
     "execution_count": 59,
     "metadata": {},
     "output_type": "execute_result"
    }
   ],
   "source": [
    "data_s"
   ]
  },
  {
   "cell_type": "code",
   "execution_count": 60,
   "id": "9560fda1",
   "metadata": {},
   "outputs": [
    {
     "data": {
      "text/html": [
       "<div>\n",
       "<style scoped>\n",
       "    .dataframe tbody tr th:only-of-type {\n",
       "        vertical-align: middle;\n",
       "    }\n",
       "\n",
       "    .dataframe tbody tr th {\n",
       "        vertical-align: top;\n",
       "    }\n",
       "\n",
       "    .dataframe thead th {\n",
       "        text-align: right;\n",
       "    }\n",
       "</style>\n",
       "<table border=\"1\" class=\"dataframe\">\n",
       "  <thead>\n",
       "    <tr style=\"text-align: right;\">\n",
       "      <th></th>\n",
       "      <th>Survived</th>\n",
       "      <th>Age</th>\n",
       "      <th>SibSp</th>\n",
       "      <th>Parch</th>\n",
       "      <th>Fare</th>\n",
       "      <th>Sex_male</th>\n",
       "      <th>Embarked_Q</th>\n",
       "      <th>Embarked_S</th>\n",
       "    </tr>\n",
       "  </thead>\n",
       "  <tbody>\n",
       "    <tr>\n",
       "      <th>0</th>\n",
       "      <td>-0.789272</td>\n",
       "      <td>-0.565736</td>\n",
       "      <td>0.432793</td>\n",
       "      <td>-0.473674</td>\n",
       "      <td>-0.700836</td>\n",
       "      <td>0.737695</td>\n",
       "      <td>-0.307562</td>\n",
       "      <td>0.619306</td>\n",
       "    </tr>\n",
       "    <tr>\n",
       "      <th>1</th>\n",
       "      <td>1.266990</td>\n",
       "      <td>0.663861</td>\n",
       "      <td>0.432793</td>\n",
       "      <td>-0.473674</td>\n",
       "      <td>1.491434</td>\n",
       "      <td>-1.355574</td>\n",
       "      <td>-0.307562</td>\n",
       "      <td>-1.614710</td>\n",
       "    </tr>\n",
       "    <tr>\n",
       "      <th>2</th>\n",
       "      <td>1.266990</td>\n",
       "      <td>-0.258337</td>\n",
       "      <td>-0.474545</td>\n",
       "      <td>-0.473674</td>\n",
       "      <td>-0.677726</td>\n",
       "      <td>-1.355574</td>\n",
       "      <td>-0.307562</td>\n",
       "      <td>0.619306</td>\n",
       "    </tr>\n",
       "    <tr>\n",
       "      <th>3</th>\n",
       "      <td>1.266990</td>\n",
       "      <td>0.433312</td>\n",
       "      <td>0.432793</td>\n",
       "      <td>-0.473674</td>\n",
       "      <td>0.868903</td>\n",
       "      <td>-1.355574</td>\n",
       "      <td>-0.307562</td>\n",
       "      <td>0.619306</td>\n",
       "    </tr>\n",
       "    <tr>\n",
       "      <th>4</th>\n",
       "      <td>-0.789272</td>\n",
       "      <td>0.433312</td>\n",
       "      <td>-0.474545</td>\n",
       "      <td>-0.473674</td>\n",
       "      <td>-0.673447</td>\n",
       "      <td>0.737695</td>\n",
       "      <td>-0.307562</td>\n",
       "      <td>0.619306</td>\n",
       "    </tr>\n",
       "    <tr>\n",
       "      <th>...</th>\n",
       "      <td>...</td>\n",
       "      <td>...</td>\n",
       "      <td>...</td>\n",
       "      <td>...</td>\n",
       "      <td>...</td>\n",
       "      <td>...</td>\n",
       "      <td>...</td>\n",
       "      <td>...</td>\n",
       "    </tr>\n",
       "    <tr>\n",
       "      <th>886</th>\n",
       "      <td>-0.789272</td>\n",
       "      <td>-0.181487</td>\n",
       "      <td>-0.474545</td>\n",
       "      <td>-0.473674</td>\n",
       "      <td>-0.503976</td>\n",
       "      <td>0.737695</td>\n",
       "      <td>-0.307562</td>\n",
       "      <td>0.619306</td>\n",
       "    </tr>\n",
       "    <tr>\n",
       "      <th>887</th>\n",
       "      <td>1.266990</td>\n",
       "      <td>-0.796286</td>\n",
       "      <td>-0.474545</td>\n",
       "      <td>-0.473674</td>\n",
       "      <td>0.078042</td>\n",
       "      <td>-1.355574</td>\n",
       "      <td>-0.307562</td>\n",
       "      <td>0.619306</td>\n",
       "    </tr>\n",
       "    <tr>\n",
       "      <th>888</th>\n",
       "      <td>-0.789272</td>\n",
       "      <td>-0.104637</td>\n",
       "      <td>0.432793</td>\n",
       "      <td>2.008933</td>\n",
       "      <td>-0.146206</td>\n",
       "      <td>-1.355574</td>\n",
       "      <td>-0.307562</td>\n",
       "      <td>0.619306</td>\n",
       "    </tr>\n",
       "    <tr>\n",
       "      <th>889</th>\n",
       "      <td>1.266990</td>\n",
       "      <td>-0.258337</td>\n",
       "      <td>-0.474545</td>\n",
       "      <td>-0.473674</td>\n",
       "      <td>0.078042</td>\n",
       "      <td>0.737695</td>\n",
       "      <td>-0.307562</td>\n",
       "      <td>-1.614710</td>\n",
       "    </tr>\n",
       "    <tr>\n",
       "      <th>890</th>\n",
       "      <td>-0.789272</td>\n",
       "      <td>0.202762</td>\n",
       "      <td>-0.474545</td>\n",
       "      <td>-0.473674</td>\n",
       "      <td>-0.683718</td>\n",
       "      <td>0.737695</td>\n",
       "      <td>3.251373</td>\n",
       "      <td>-1.614710</td>\n",
       "    </tr>\n",
       "  </tbody>\n",
       "</table>\n",
       "<p>891 rows × 8 columns</p>\n",
       "</div>"
      ],
      "text/plain": [
       "     Survived       Age     SibSp     Parch      Fare  Sex_male  Embarked_Q  \\\n",
       "0   -0.789272 -0.565736  0.432793 -0.473674 -0.700836  0.737695   -0.307562   \n",
       "1    1.266990  0.663861  0.432793 -0.473674  1.491434 -1.355574   -0.307562   \n",
       "2    1.266990 -0.258337 -0.474545 -0.473674 -0.677726 -1.355574   -0.307562   \n",
       "3    1.266990  0.433312  0.432793 -0.473674  0.868903 -1.355574   -0.307562   \n",
       "4   -0.789272  0.433312 -0.474545 -0.473674 -0.673447  0.737695   -0.307562   \n",
       "..        ...       ...       ...       ...       ...       ...         ...   \n",
       "886 -0.789272 -0.181487 -0.474545 -0.473674 -0.503976  0.737695   -0.307562   \n",
       "887  1.266990 -0.796286 -0.474545 -0.473674  0.078042 -1.355574   -0.307562   \n",
       "888 -0.789272 -0.104637  0.432793  2.008933 -0.146206 -1.355574   -0.307562   \n",
       "889  1.266990 -0.258337 -0.474545 -0.473674  0.078042  0.737695   -0.307562   \n",
       "890 -0.789272  0.202762 -0.474545 -0.473674 -0.683718  0.737695    3.251373   \n",
       "\n",
       "     Embarked_S  \n",
       "0      0.619306  \n",
       "1     -1.614710  \n",
       "2      0.619306  \n",
       "3      0.619306  \n",
       "4      0.619306  \n",
       "..          ...  \n",
       "886    0.619306  \n",
       "887    0.619306  \n",
       "888    0.619306  \n",
       "889   -1.614710  \n",
       "890   -1.614710  \n",
       "\n",
       "[891 rows x 8 columns]"
      ]
     },
     "execution_count": 60,
     "metadata": {},
     "output_type": "execute_result"
    }
   ],
   "source": [
    "pd.DataFrame(data_s, columns=data.columns)"
   ]
  },
  {
   "cell_type": "markdown",
   "id": "e5a85c57",
   "metadata": {},
   "source": [
    "## Train Test Split"
   ]
  },
  {
   "cell_type": "code",
   "execution_count": 61,
   "id": "1226d18f",
   "metadata": {},
   "outputs": [],
   "source": [
    "y =data['Survived']\n",
    "x = data.drop(columns=['Survived'])"
   ]
  },
  {
   "cell_type": "code",
   "execution_count": 62,
   "id": "df202131",
   "metadata": {},
   "outputs": [
    {
     "data": {
      "text/html": [
       "<div>\n",
       "<style scoped>\n",
       "    .dataframe tbody tr th:only-of-type {\n",
       "        vertical-align: middle;\n",
       "    }\n",
       "\n",
       "    .dataframe tbody tr th {\n",
       "        vertical-align: top;\n",
       "    }\n",
       "\n",
       "    .dataframe thead th {\n",
       "        text-align: right;\n",
       "    }\n",
       "</style>\n",
       "<table border=\"1\" class=\"dataframe\">\n",
       "  <thead>\n",
       "    <tr style=\"text-align: right;\">\n",
       "      <th></th>\n",
       "      <th>Age</th>\n",
       "      <th>SibSp</th>\n",
       "      <th>Parch</th>\n",
       "      <th>Fare</th>\n",
       "      <th>Sex_male</th>\n",
       "      <th>Embarked_Q</th>\n",
       "      <th>Embarked_S</th>\n",
       "    </tr>\n",
       "  </thead>\n",
       "  <tbody>\n",
       "    <tr>\n",
       "      <th>0</th>\n",
       "      <td>22.0</td>\n",
       "      <td>1</td>\n",
       "      <td>0</td>\n",
       "      <td>7.2500</td>\n",
       "      <td>1</td>\n",
       "      <td>0</td>\n",
       "      <td>1</td>\n",
       "    </tr>\n",
       "    <tr>\n",
       "      <th>1</th>\n",
       "      <td>38.0</td>\n",
       "      <td>1</td>\n",
       "      <td>0</td>\n",
       "      <td>71.2833</td>\n",
       "      <td>0</td>\n",
       "      <td>0</td>\n",
       "      <td>0</td>\n",
       "    </tr>\n",
       "    <tr>\n",
       "      <th>2</th>\n",
       "      <td>26.0</td>\n",
       "      <td>0</td>\n",
       "      <td>0</td>\n",
       "      <td>7.9250</td>\n",
       "      <td>0</td>\n",
       "      <td>0</td>\n",
       "      <td>1</td>\n",
       "    </tr>\n",
       "    <tr>\n",
       "      <th>3</th>\n",
       "      <td>35.0</td>\n",
       "      <td>1</td>\n",
       "      <td>0</td>\n",
       "      <td>53.1000</td>\n",
       "      <td>0</td>\n",
       "      <td>0</td>\n",
       "      <td>1</td>\n",
       "    </tr>\n",
       "    <tr>\n",
       "      <th>4</th>\n",
       "      <td>35.0</td>\n",
       "      <td>0</td>\n",
       "      <td>0</td>\n",
       "      <td>8.0500</td>\n",
       "      <td>1</td>\n",
       "      <td>0</td>\n",
       "      <td>1</td>\n",
       "    </tr>\n",
       "    <tr>\n",
       "      <th>...</th>\n",
       "      <td>...</td>\n",
       "      <td>...</td>\n",
       "      <td>...</td>\n",
       "      <td>...</td>\n",
       "      <td>...</td>\n",
       "      <td>...</td>\n",
       "      <td>...</td>\n",
       "    </tr>\n",
       "    <tr>\n",
       "      <th>886</th>\n",
       "      <td>27.0</td>\n",
       "      <td>0</td>\n",
       "      <td>0</td>\n",
       "      <td>13.0000</td>\n",
       "      <td>1</td>\n",
       "      <td>0</td>\n",
       "      <td>1</td>\n",
       "    </tr>\n",
       "    <tr>\n",
       "      <th>887</th>\n",
       "      <td>19.0</td>\n",
       "      <td>0</td>\n",
       "      <td>0</td>\n",
       "      <td>30.0000</td>\n",
       "      <td>0</td>\n",
       "      <td>0</td>\n",
       "      <td>1</td>\n",
       "    </tr>\n",
       "    <tr>\n",
       "      <th>888</th>\n",
       "      <td>28.0</td>\n",
       "      <td>1</td>\n",
       "      <td>2</td>\n",
       "      <td>23.4500</td>\n",
       "      <td>0</td>\n",
       "      <td>0</td>\n",
       "      <td>1</td>\n",
       "    </tr>\n",
       "    <tr>\n",
       "      <th>889</th>\n",
       "      <td>26.0</td>\n",
       "      <td>0</td>\n",
       "      <td>0</td>\n",
       "      <td>30.0000</td>\n",
       "      <td>1</td>\n",
       "      <td>0</td>\n",
       "      <td>0</td>\n",
       "    </tr>\n",
       "    <tr>\n",
       "      <th>890</th>\n",
       "      <td>32.0</td>\n",
       "      <td>0</td>\n",
       "      <td>0</td>\n",
       "      <td>7.7500</td>\n",
       "      <td>1</td>\n",
       "      <td>1</td>\n",
       "      <td>0</td>\n",
       "    </tr>\n",
       "  </tbody>\n",
       "</table>\n",
       "<p>891 rows × 7 columns</p>\n",
       "</div>"
      ],
      "text/plain": [
       "      Age  SibSp  Parch     Fare  Sex_male  Embarked_Q  Embarked_S\n",
       "0    22.0      1      0   7.2500         1           0           1\n",
       "1    38.0      1      0  71.2833         0           0           0\n",
       "2    26.0      0      0   7.9250         0           0           1\n",
       "3    35.0      1      0  53.1000         0           0           1\n",
       "4    35.0      0      0   8.0500         1           0           1\n",
       "..    ...    ...    ...      ...       ...         ...         ...\n",
       "886  27.0      0      0  13.0000         1           0           1\n",
       "887  19.0      0      0  30.0000         0           0           1\n",
       "888  28.0      1      2  23.4500         0           0           1\n",
       "889  26.0      0      0  30.0000         1           0           0\n",
       "890  32.0      0      0   7.7500         1           1           0\n",
       "\n",
       "[891 rows x 7 columns]"
      ]
     },
     "execution_count": 62,
     "metadata": {},
     "output_type": "execute_result"
    }
   ],
   "source": [
    "x"
   ]
  },
  {
   "cell_type": "code",
   "execution_count": 63,
   "id": "154628ce",
   "metadata": {},
   "outputs": [
    {
     "data": {
      "text/plain": [
       "0      0\n",
       "1      1\n",
       "2      1\n",
       "3      1\n",
       "4      0\n",
       "      ..\n",
       "886    0\n",
       "887    1\n",
       "888    0\n",
       "889    1\n",
       "890    0\n",
       "Name: Survived, Length: 891, dtype: int64"
      ]
     },
     "execution_count": 63,
     "metadata": {},
     "output_type": "execute_result"
    }
   ],
   "source": [
    "y"
   ]
  },
  {
   "cell_type": "code",
   "execution_count": 64,
   "id": "be847bba",
   "metadata": {},
   "outputs": [],
   "source": [
    "from sklearn.model_selection import train_test_split"
   ]
  },
  {
   "cell_type": "code",
   "execution_count": 65,
   "id": "f832df6c",
   "metadata": {},
   "outputs": [],
   "source": [
    "x_train,x_test, y_train,y_test = train_test_split(x,y,stratify=y,train_size=0.8,random_state=2)"
   ]
  },
  {
   "cell_type": "code",
   "execution_count": 66,
   "id": "4e0c5d29",
   "metadata": {},
   "outputs": [
    {
     "name": "stdout",
     "output_type": "stream",
     "text": [
      "(712, 7) (712,)\n",
      "(179, 7) (179,)\n"
     ]
    }
   ],
   "source": [
    "print(x_train.shape,y_train.shape)\n",
    "print(x_test.shape,y_test.shape)"
   ]
  },
  {
   "cell_type": "markdown",
   "id": "7f767a6f",
   "metadata": {},
   "source": [
    "## Logistic Regression Model"
   ]
  },
  {
   "cell_type": "code",
   "execution_count": 67,
   "id": "0c8137ec",
   "metadata": {},
   "outputs": [],
   "source": [
    "from sklearn.linear_model import LogisticRegression"
   ]
  },
  {
   "cell_type": "code",
   "execution_count": 68,
   "id": "1d544cb9",
   "metadata": {},
   "outputs": [],
   "source": [
    "model_lr = LogisticRegression()"
   ]
  },
  {
   "cell_type": "code",
   "execution_count": 69,
   "id": "a17d123b",
   "metadata": {},
   "outputs": [
    {
     "data": {
      "text/plain": [
       "LogisticRegression()"
      ]
     },
     "execution_count": 69,
     "metadata": {},
     "output_type": "execute_result"
    }
   ],
   "source": [
    "model_lr.fit(x_train,y_train)"
   ]
  },
  {
   "cell_type": "code",
   "execution_count": 70,
   "id": "a2816dbe",
   "metadata": {},
   "outputs": [],
   "source": [
    "# ln(y/1-y) = b0 + b1x1 + b2x2.......bnxn  [Sigmoid Function]\n",
    "# Log loss function  j = -min(yi*log(p(y^))+(1-yi)log(p(1-y^)))"
   ]
  },
  {
   "cell_type": "code",
   "execution_count": 71,
   "id": "c376d436",
   "metadata": {},
   "outputs": [
    {
     "data": {
      "text/plain": [
       "array([[-0.02535741, -0.41570464, -0.23754026,  0.0279269 , -2.51459833,\n",
       "        -0.31471231, -0.29738   ]])"
      ]
     },
     "execution_count": 71,
     "metadata": {},
     "output_type": "execute_result"
    }
   ],
   "source": [
    "model_lr.coef_"
   ]
  },
  {
   "cell_type": "code",
   "execution_count": 72,
   "id": "32fb6ece",
   "metadata": {},
   "outputs": [
    {
     "data": {
      "text/plain": [
       "array([1.57111452])"
      ]
     },
     "execution_count": 72,
     "metadata": {},
     "output_type": "execute_result"
    }
   ],
   "source": [
    "model_lr.intercept_"
   ]
  },
  {
   "cell_type": "code",
   "execution_count": 73,
   "id": "782da5c2",
   "metadata": {},
   "outputs": [],
   "source": [
    "# Hard Predictions"
   ]
  },
  {
   "cell_type": "code",
   "execution_count": 74,
   "id": "afe8fb7b",
   "metadata": {},
   "outputs": [],
   "source": [
    "y_pred = model_lr.predict(x_test)"
   ]
  },
  {
   "cell_type": "code",
   "execution_count": 75,
   "id": "b69e08d0",
   "metadata": {},
   "outputs": [
    {
     "data": {
      "text/html": [
       "<div>\n",
       "<style scoped>\n",
       "    .dataframe tbody tr th:only-of-type {\n",
       "        vertical-align: middle;\n",
       "    }\n",
       "\n",
       "    .dataframe tbody tr th {\n",
       "        vertical-align: top;\n",
       "    }\n",
       "\n",
       "    .dataframe thead th {\n",
       "        text-align: right;\n",
       "    }\n",
       "</style>\n",
       "<table border=\"1\" class=\"dataframe\">\n",
       "  <thead>\n",
       "    <tr style=\"text-align: right;\">\n",
       "      <th></th>\n",
       "      <th>Actual Y</th>\n",
       "      <th>Predicted Y</th>\n",
       "    </tr>\n",
       "  </thead>\n",
       "  <tbody>\n",
       "    <tr>\n",
       "      <th>90</th>\n",
       "      <td>0</td>\n",
       "      <td>0</td>\n",
       "    </tr>\n",
       "    <tr>\n",
       "      <th>736</th>\n",
       "      <td>0</td>\n",
       "      <td>0</td>\n",
       "    </tr>\n",
       "    <tr>\n",
       "      <th>48</th>\n",
       "      <td>0</td>\n",
       "      <td>0</td>\n",
       "    </tr>\n",
       "    <tr>\n",
       "      <th>783</th>\n",
       "      <td>0</td>\n",
       "      <td>0</td>\n",
       "    </tr>\n",
       "    <tr>\n",
       "      <th>404</th>\n",
       "      <td>0</td>\n",
       "      <td>1</td>\n",
       "    </tr>\n",
       "    <tr>\n",
       "      <th>884</th>\n",
       "      <td>0</td>\n",
       "      <td>0</td>\n",
       "    </tr>\n",
       "    <tr>\n",
       "      <th>865</th>\n",
       "      <td>1</td>\n",
       "      <td>1</td>\n",
       "    </tr>\n",
       "    <tr>\n",
       "      <th>796</th>\n",
       "      <td>1</td>\n",
       "      <td>1</td>\n",
       "    </tr>\n",
       "    <tr>\n",
       "      <th>819</th>\n",
       "      <td>0</td>\n",
       "      <td>0</td>\n",
       "    </tr>\n",
       "    <tr>\n",
       "      <th>75</th>\n",
       "      <td>0</td>\n",
       "      <td>0</td>\n",
       "    </tr>\n",
       "    <tr>\n",
       "      <th>428</th>\n",
       "      <td>0</td>\n",
       "      <td>0</td>\n",
       "    </tr>\n",
       "    <tr>\n",
       "      <th>322</th>\n",
       "      <td>1</td>\n",
       "      <td>1</td>\n",
       "    </tr>\n",
       "    <tr>\n",
       "      <th>616</th>\n",
       "      <td>0</td>\n",
       "      <td>0</td>\n",
       "    </tr>\n",
       "    <tr>\n",
       "      <th>661</th>\n",
       "      <td>0</td>\n",
       "      <td>0</td>\n",
       "    </tr>\n",
       "    <tr>\n",
       "      <th>136</th>\n",
       "      <td>1</td>\n",
       "      <td>1</td>\n",
       "    </tr>\n",
       "    <tr>\n",
       "      <th>523</th>\n",
       "      <td>1</td>\n",
       "      <td>1</td>\n",
       "    </tr>\n",
       "    <tr>\n",
       "      <th>418</th>\n",
       "      <td>0</td>\n",
       "      <td>0</td>\n",
       "    </tr>\n",
       "    <tr>\n",
       "      <th>834</th>\n",
       "      <td>0</td>\n",
       "      <td>0</td>\n",
       "    </tr>\n",
       "    <tr>\n",
       "      <th>157</th>\n",
       "      <td>0</td>\n",
       "      <td>0</td>\n",
       "    </tr>\n",
       "    <tr>\n",
       "      <th>146</th>\n",
       "      <td>1</td>\n",
       "      <td>0</td>\n",
       "    </tr>\n",
       "  </tbody>\n",
       "</table>\n",
       "</div>"
      ],
      "text/plain": [
       "     Actual Y  Predicted Y\n",
       "90          0            0\n",
       "736         0            0\n",
       "48          0            0\n",
       "783         0            0\n",
       "404         0            1\n",
       "884         0            0\n",
       "865         1            1\n",
       "796         1            1\n",
       "819         0            0\n",
       "75          0            0\n",
       "428         0            0\n",
       "322         1            1\n",
       "616         0            0\n",
       "661         0            0\n",
       "136         1            1\n",
       "523         1            1\n",
       "418         0            0\n",
       "834         0            0\n",
       "157         0            0\n",
       "146         1            0"
      ]
     },
     "execution_count": 75,
     "metadata": {},
     "output_type": "execute_result"
    }
   ],
   "source": [
    "pd.DataFrame({'Actual Y':y_test,'Predicted Y':y_pred}).head(20)"
   ]
  },
  {
   "cell_type": "code",
   "execution_count": 76,
   "id": "6a9f27fc",
   "metadata": {},
   "outputs": [],
   "source": [
    "# Validation"
   ]
  },
  {
   "cell_type": "code",
   "execution_count": 77,
   "id": "d6a8cc21",
   "metadata": {},
   "outputs": [],
   "source": [
    "from sklearn.metrics import confusion_matrix,accuracy_score,recall_score,precision_score,f1_score,log_loss"
   ]
  },
  {
   "cell_type": "code",
   "execution_count": 78,
   "id": "6f954836",
   "metadata": {},
   "outputs": [],
   "source": [
    "def validation(test,pred):\n",
    "    print('Confusion Matrix:\\n',confusion_matrix(test,pred))\n",
    "    print('Acuuracy:',accuracy_score(test,pred))\n",
    "    print('Recall:',recall_score(test,pred))\n",
    "    print('Precision:',precision_score(test,pred))\n",
    "    print('F1 Score:',f1_score(test,pred))"
   ]
  },
  {
   "cell_type": "code",
   "execution_count": 79,
   "id": "fe6a51dd",
   "metadata": {},
   "outputs": [
    {
     "name": "stdout",
     "output_type": "stream",
     "text": [
      "Confusion Matrix:\n",
      " [[94 16]\n",
      " [22 47]]\n",
      "Acuuracy: 0.7877094972067039\n",
      "Recall: 0.6811594202898551\n",
      "Precision: 0.746031746031746\n",
      "F1 Score: 0.7121212121212122\n"
     ]
    }
   ],
   "source": [
    "validation(y_test,y_pred)"
   ]
  },
  {
   "cell_type": "code",
   "execution_count": 80,
   "id": "5d726ff3",
   "metadata": {},
   "outputs": [],
   "source": [
    "# ROC Curve"
   ]
  },
  {
   "cell_type": "code",
   "execution_count": 81,
   "id": "256513cd",
   "metadata": {},
   "outputs": [],
   "source": [
    "# Soft predictions"
   ]
  },
  {
   "cell_type": "code",
   "execution_count": 82,
   "id": "06ca3732",
   "metadata": {},
   "outputs": [],
   "source": [
    "y_pred_soft = model_lr.predict_proba(x_test)"
   ]
  },
  {
   "cell_type": "code",
   "execution_count": 83,
   "id": "d28b143a",
   "metadata": {},
   "outputs": [
    {
     "data": {
      "text/plain": [
       "array([0.14786854, 0.47208917, 0.13245002, 0.10094479, 0.7327271 ,\n",
       "       0.15737183, 0.63917218, 0.68034191, 0.08035954, 0.15960657,\n",
       "       0.14782407, 0.69858674, 0.08673938, 0.14729097, 0.74094274,\n",
       "       0.86259676, 0.16266431, 0.18762695, 0.14470186, 0.15344911,\n",
       "       0.1564847 , 0.14118669, 0.13812154, 0.6269415 , 0.94736324,\n",
       "       0.47334297, 0.0763595 , 0.66935522, 0.73713563, 0.10116857,\n",
       "       0.14471449, 0.72920688, 0.34626121, 0.64511744, 0.1170312 ,\n",
       "       0.70030787, 0.38545584, 0.6304626 , 0.14503175, 0.13872557,\n",
       "       0.18973708, 0.71916632, 0.09367689, 0.57144463, 0.77305057,\n",
       "       0.63423668, 0.21423655, 0.20398743, 0.06827642, 0.69669357,\n",
       "       0.1581139 , 0.12516569, 0.39059567, 0.08967103, 0.68659154,\n",
       "       0.81384061, 0.92300835, 0.17329333, 0.16850543, 0.07169363,\n",
       "       0.20845764, 0.24851991, 0.71443091, 0.21521555, 0.72818613,\n",
       "       0.85011003, 0.22291783, 0.14066086, 0.71219134, 0.05214464,\n",
       "       0.83297101, 0.18975511, 0.93146596, 0.19318428, 0.66643244,\n",
       "       0.25527863, 0.86629585, 0.17104749, 0.58017032, 0.71754268,\n",
       "       0.37785265, 0.61500574, 0.66817275, 0.18781345, 0.19932118,\n",
       "       0.19953733, 0.12443986, 0.17011891, 0.13369299, 0.59007751,\n",
       "       0.13812154, 0.12533779, 0.52559855, 0.6653652 , 0.73310321,\n",
       "       0.1749235 , 0.14298926, 0.80576434, 0.17529465, 0.60466055,\n",
       "       0.21506259, 0.92534739, 0.07448237, 0.68196745, 0.22980508,\n",
       "       0.68583116, 0.11171198, 0.97736965, 0.13788633, 0.16456731,\n",
       "       0.07097061, 0.13997192, 0.10090972, 0.97786628, 0.63285021,\n",
       "       0.14116798, 0.81819315, 0.67483872, 0.90476122, 0.46315768,\n",
       "       0.1784783 , 0.2835112 , 0.15109227, 0.68196745, 0.93935623,\n",
       "       0.06120179, 0.15919096, 0.68751745, 0.16007921, 0.10604629,\n",
       "       0.69346333, 0.18067968, 0.15669912, 0.36536533, 0.72209345,\n",
       "       0.18210517, 0.15346503, 0.1036663 , 0.11831523, 0.15635988,\n",
       "       0.44776102, 0.44776102, 0.17529465, 0.15003742, 0.48963507,\n",
       "       0.68751745, 0.10597402, 0.57482565, 0.22980508, 0.13849551,\n",
       "       0.11070217, 0.55989323, 0.06778513, 0.1319227 , 0.37005007,\n",
       "       0.15298357, 0.17045437, 0.12445838, 0.13549764, 0.36481488,\n",
       "       0.53680589, 0.97781396, 0.15635988, 0.28308   , 0.89660865,\n",
       "       0.17329333, 0.17065188, 0.72565535, 0.14782407, 0.66802962,\n",
       "       0.68196745, 0.12650114, 0.4077876 , 0.10422811, 0.02168368,\n",
       "       0.16076366, 0.17208821, 0.19175981, 0.18973708])"
      ]
     },
     "execution_count": 83,
     "metadata": {},
     "output_type": "execute_result"
    }
   ],
   "source": [
    "y_pred_soft[:,1]"
   ]
  },
  {
   "cell_type": "code",
   "execution_count": 84,
   "id": "c4babd6e",
   "metadata": {},
   "outputs": [
    {
     "data": {
      "text/html": [
       "<div>\n",
       "<style scoped>\n",
       "    .dataframe tbody tr th:only-of-type {\n",
       "        vertical-align: middle;\n",
       "    }\n",
       "\n",
       "    .dataframe tbody tr th {\n",
       "        vertical-align: top;\n",
       "    }\n",
       "\n",
       "    .dataframe thead th {\n",
       "        text-align: right;\n",
       "    }\n",
       "</style>\n",
       "<table border=\"1\" class=\"dataframe\">\n",
       "  <thead>\n",
       "    <tr style=\"text-align: right;\">\n",
       "      <th></th>\n",
       "      <th>Actual Y</th>\n",
       "      <th>Predicted Y</th>\n",
       "      <th>Pred Y Soft</th>\n",
       "    </tr>\n",
       "  </thead>\n",
       "  <tbody>\n",
       "    <tr>\n",
       "      <th>90</th>\n",
       "      <td>0</td>\n",
       "      <td>0</td>\n",
       "      <td>0.147869</td>\n",
       "    </tr>\n",
       "    <tr>\n",
       "      <th>736</th>\n",
       "      <td>0</td>\n",
       "      <td>0</td>\n",
       "      <td>0.472089</td>\n",
       "    </tr>\n",
       "    <tr>\n",
       "      <th>48</th>\n",
       "      <td>0</td>\n",
       "      <td>0</td>\n",
       "      <td>0.132450</td>\n",
       "    </tr>\n",
       "    <tr>\n",
       "      <th>783</th>\n",
       "      <td>0</td>\n",
       "      <td>0</td>\n",
       "      <td>0.100945</td>\n",
       "    </tr>\n",
       "    <tr>\n",
       "      <th>404</th>\n",
       "      <td>0</td>\n",
       "      <td>1</td>\n",
       "      <td>0.732727</td>\n",
       "    </tr>\n",
       "    <tr>\n",
       "      <th>884</th>\n",
       "      <td>0</td>\n",
       "      <td>0</td>\n",
       "      <td>0.157372</td>\n",
       "    </tr>\n",
       "    <tr>\n",
       "      <th>865</th>\n",
       "      <td>1</td>\n",
       "      <td>1</td>\n",
       "      <td>0.639172</td>\n",
       "    </tr>\n",
       "    <tr>\n",
       "      <th>796</th>\n",
       "      <td>1</td>\n",
       "      <td>1</td>\n",
       "      <td>0.680342</td>\n",
       "    </tr>\n",
       "    <tr>\n",
       "      <th>819</th>\n",
       "      <td>0</td>\n",
       "      <td>0</td>\n",
       "      <td>0.080360</td>\n",
       "    </tr>\n",
       "    <tr>\n",
       "      <th>75</th>\n",
       "      <td>0</td>\n",
       "      <td>0</td>\n",
       "      <td>0.159607</td>\n",
       "    </tr>\n",
       "    <tr>\n",
       "      <th>428</th>\n",
       "      <td>0</td>\n",
       "      <td>0</td>\n",
       "      <td>0.147824</td>\n",
       "    </tr>\n",
       "    <tr>\n",
       "      <th>322</th>\n",
       "      <td>1</td>\n",
       "      <td>1</td>\n",
       "      <td>0.698587</td>\n",
       "    </tr>\n",
       "    <tr>\n",
       "      <th>616</th>\n",
       "      <td>0</td>\n",
       "      <td>0</td>\n",
       "      <td>0.086739</td>\n",
       "    </tr>\n",
       "    <tr>\n",
       "      <th>661</th>\n",
       "      <td>0</td>\n",
       "      <td>0</td>\n",
       "      <td>0.147291</td>\n",
       "    </tr>\n",
       "    <tr>\n",
       "      <th>136</th>\n",
       "      <td>1</td>\n",
       "      <td>1</td>\n",
       "      <td>0.740943</td>\n",
       "    </tr>\n",
       "    <tr>\n",
       "      <th>523</th>\n",
       "      <td>1</td>\n",
       "      <td>1</td>\n",
       "      <td>0.862597</td>\n",
       "    </tr>\n",
       "    <tr>\n",
       "      <th>418</th>\n",
       "      <td>0</td>\n",
       "      <td>0</td>\n",
       "      <td>0.162664</td>\n",
       "    </tr>\n",
       "    <tr>\n",
       "      <th>834</th>\n",
       "      <td>0</td>\n",
       "      <td>0</td>\n",
       "      <td>0.187627</td>\n",
       "    </tr>\n",
       "    <tr>\n",
       "      <th>157</th>\n",
       "      <td>0</td>\n",
       "      <td>0</td>\n",
       "      <td>0.144702</td>\n",
       "    </tr>\n",
       "    <tr>\n",
       "      <th>146</th>\n",
       "      <td>1</td>\n",
       "      <td>0</td>\n",
       "      <td>0.153449</td>\n",
       "    </tr>\n",
       "  </tbody>\n",
       "</table>\n",
       "</div>"
      ],
      "text/plain": [
       "     Actual Y  Predicted Y  Pred Y Soft\n",
       "90          0            0     0.147869\n",
       "736         0            0     0.472089\n",
       "48          0            0     0.132450\n",
       "783         0            0     0.100945\n",
       "404         0            1     0.732727\n",
       "884         0            0     0.157372\n",
       "865         1            1     0.639172\n",
       "796         1            1     0.680342\n",
       "819         0            0     0.080360\n",
       "75          0            0     0.159607\n",
       "428         0            0     0.147824\n",
       "322         1            1     0.698587\n",
       "616         0            0     0.086739\n",
       "661         0            0     0.147291\n",
       "136         1            1     0.740943\n",
       "523         1            1     0.862597\n",
       "418         0            0     0.162664\n",
       "834         0            0     0.187627\n",
       "157         0            0     0.144702\n",
       "146         1            0     0.153449"
      ]
     },
     "execution_count": 84,
     "metadata": {},
     "output_type": "execute_result"
    }
   ],
   "source": [
    "pd.DataFrame({'Actual Y':y_test,'Predicted Y':y_pred,'Pred Y Soft':y_pred_soft[:,1]}).head(20)"
   ]
  },
  {
   "cell_type": "code",
   "execution_count": 85,
   "id": "131ff134",
   "metadata": {},
   "outputs": [
    {
     "data": {
      "text/plain": [
       "0.4751480755512017"
      ]
     },
     "execution_count": 85,
     "metadata": {},
     "output_type": "execute_result"
    }
   ],
   "source": [
    "# Log loss function  j = -min(yi*log(p(y^))+(1-yi)log(p(1-y^)))\n",
    "log_loss(y_test,y_pred_soft[:,1])"
   ]
  },
  {
   "cell_type": "code",
   "execution_count": 86,
   "id": "2541e611",
   "metadata": {},
   "outputs": [],
   "source": [
    "from sklearn.metrics import roc_auc_score,roc_curve"
   ]
  },
  {
   "cell_type": "code",
   "execution_count": 87,
   "id": "c35683fc",
   "metadata": {},
   "outputs": [],
   "source": [
    "fpr,tpr,thres = roc_curve(y_test,y_pred_soft[:,1])"
   ]
  },
  {
   "cell_type": "code",
   "execution_count": 88,
   "id": "c7d6a9c6",
   "metadata": {},
   "outputs": [
    {
     "name": "stdout",
     "output_type": "stream",
     "text": [
      "Area Under the Curve:  0.8270750988142292\n"
     ]
    },
    {
     "data": {
      "image/png": "[encoded data removed]",
      "text/plain": [
       "<Figure size 432x288 with 1 Axes>"
      ]
     },
     "metadata": {
      "needs_background": "light"
     },
     "output_type": "display_data"
    }
   ],
   "source": [
    "plt.plot(fpr,tpr)\n",
    "plt.xlabel('FPR')\n",
    "plt.ylabel('TPR')\n",
    "plt.title('ROC Curve')\n",
    "print('Area Under the Curve: ',roc_auc_score(y_test,y_pred_soft[:,1]))\n",
    "plt.show()"
   ]
  },
  {
   "cell_type": "code",
   "execution_count": 89,
   "id": "b1b0eebd",
   "metadata": {},
   "outputs": [],
   "source": [
    "# Changing the threshold or classifier cutoff"
   ]
  },
  {
   "cell_type": "code",
   "execution_count": 90,
   "id": "2b21e7fc",
   "metadata": {},
   "outputs": [],
   "source": [
    "threshold = 0.45\n",
    "y_pred_new = (y_pred_soft[:,1]>=threshold).astype(int)"
   ]
  },
  {
   "cell_type": "code",
   "execution_count": 91,
   "id": "a5369128",
   "metadata": {},
   "outputs": [
    {
     "data": {
      "text/plain": [
       "array([0, 1, 0, 0, 1, 0, 1, 1, 0, 0, 0, 1, 0, 0, 1, 1, 0, 0, 0, 0, 0, 0,\n",
       "       0, 1, 1, 1, 0, 1, 1, 0, 0, 1, 0, 1, 0, 1, 0, 1, 0, 0, 0, 1, 0, 1,\n",
       "       1, 1, 0, 0, 0, 1, 0, 0, 0, 0, 1, 1, 1, 0, 0, 0, 0, 0, 1, 0, 1, 1,\n",
       "       0, 0, 1, 0, 1, 0, 1, 0, 1, 0, 1, 0, 1, 1, 0, 1, 1, 0, 0, 0, 0, 0,\n",
       "       0, 1, 0, 0, 1, 1, 1, 0, 0, 1, 0, 1, 0, 1, 0, 1, 0, 1, 0, 1, 0, 0,\n",
       "       0, 0, 0, 1, 1, 0, 1, 1, 1, 1, 0, 0, 0, 1, 1, 0, 0, 1, 0, 0, 1, 0,\n",
       "       0, 0, 1, 0, 0, 0, 0, 0, 0, 0, 0, 0, 1, 1, 0, 1, 0, 0, 0, 1, 0, 0,\n",
       "       0, 0, 0, 0, 0, 0, 1, 1, 0, 0, 1, 0, 0, 1, 0, 1, 1, 0, 0, 0, 0, 0,\n",
       "       0, 0, 0])"
      ]
     },
     "execution_count": 91,
     "metadata": {},
     "output_type": "execute_result"
    }
   ],
   "source": [
    "y_pred_new"
   ]
  },
  {
   "cell_type": "code",
   "execution_count": 92,
   "id": "f0751ca9",
   "metadata": {},
   "outputs": [
    {
     "name": "stdout",
     "output_type": "stream",
     "text": [
      "Confusion Matrix:\n",
      " [[92 18]\n",
      " [20 49]]\n",
      "Acuuracy: 0.7877094972067039\n",
      "Recall: 0.7101449275362319\n",
      "Precision: 0.7313432835820896\n",
      "F1 Score: 0.7205882352941175\n"
     ]
    }
   ],
   "source": [
    "validation(y_test,y_pred_new)"
   ]
  },
  {
   "cell_type": "markdown",
   "id": "76d70556",
   "metadata": {},
   "source": [
    "## Overfitting"
   ]
  },
  {
   "cell_type": "code",
   "execution_count": 93,
   "id": "6aa01ca0",
   "metadata": {},
   "outputs": [],
   "source": [
    "y_pred_train = model_lr.predict(x_train)"
   ]
  },
  {
   "cell_type": "code",
   "execution_count": 94,
   "id": "52e64024",
   "metadata": {},
   "outputs": [
    {
     "name": "stdout",
     "output_type": "stream",
     "text": [
      "Confusion Matrix:\n",
      " [[374  65]\n",
      " [ 85 188]]\n",
      "Acuuracy: 0.7893258426966292\n",
      "Recall: 0.6886446886446886\n",
      "Precision: 0.7430830039525692\n",
      "F1 Score: 0.714828897338403\n"
     ]
    }
   ],
   "source": [
    "validation(y_train,y_pred_train)"
   ]
  },
  {
   "cell_type": "code",
   "execution_count": 95,
   "id": "f48e7277",
   "metadata": {},
   "outputs": [
    {
     "name": "stdout",
     "output_type": "stream",
     "text": [
      "Confusion Matrix:\n",
      " [[94 16]\n",
      " [22 47]]\n",
      "Acuuracy: 0.7877094972067039\n",
      "Recall: 0.6811594202898551\n",
      "Precision: 0.746031746031746\n",
      "F1 Score: 0.7121212121212122\n"
     ]
    }
   ],
   "source": [
    "validation(y_test,y_pred)"
   ]
  },
  {
   "cell_type": "markdown",
   "id": "1f03dfeb",
   "metadata": {},
   "source": [
    "## Regularization"
   ]
  },
  {
   "cell_type": "markdown",
   "id": "32a0fa66",
   "metadata": {},
   "source": [
    "### Ridge and Lasso"
   ]
  },
  {
   "cell_type": "code",
   "execution_count": 96,
   "id": "07f03eda",
   "metadata": {},
   "outputs": [],
   "source": [
    "from sklearn.model_selection import GridSearchCV"
   ]
  },
  {
   "cell_type": "code",
   "execution_count": 97,
   "id": "64af2166",
   "metadata": {},
   "outputs": [],
   "source": [
    "params ={'C':[0.001,0.01,0.1,1,10,100,500]}"
   ]
  },
  {
   "cell_type": "code",
   "execution_count": 98,
   "id": "f50719fa",
   "metadata": {},
   "outputs": [],
   "source": [
    "gscv = GridSearchCV(estimator=LogisticRegression(penalty='l2'),\n",
    "                   param_grid=params,\n",
    "                   scoring='accuracy',\n",
    "                   verbose=3)"
   ]
  },
  {
   "cell_type": "code",
   "execution_count": 99,
   "id": "5fdf5776",
   "metadata": {},
   "outputs": [
    {
     "name": "stdout",
     "output_type": "stream",
     "text": [
      "Fitting 5 folds for each of 7 candidates, totalling 35 fits\n",
      "[CV 1/5] END ...........................C=0.001;, score=0.671 total time=   0.0s\n",
      "[CV 2/5] END ...........................C=0.001;, score=0.664 total time=   0.0s\n",
      "[CV 3/5] END ...........................C=0.001;, score=0.669 total time=   0.0s\n",
      "[CV 4/5] END ...........................C=0.001;, score=0.718 total time=   0.0s\n",
      "[CV 5/5] END ...........................C=0.001;, score=0.711 total time=   0.0s\n",
      "[CV 1/5] END ............................C=0.01;, score=0.713 total time=   0.0s\n",
      "[CV 2/5] END ............................C=0.01;, score=0.713 total time=   0.0s\n",
      "[CV 3/5] END ............................C=0.01;, score=0.704 total time=   0.0s\n",
      "[CV 4/5] END ............................C=0.01;, score=0.725 total time=   0.0s\n",
      "[CV 5/5] END ............................C=0.01;, score=0.754 total time=   0.0s\n",
      "[CV 1/5] END .............................C=0.1;, score=0.804 total time=   0.0s\n",
      "[CV 2/5] END .............................C=0.1;, score=0.818 total time=   0.0s\n",
      "[CV 3/5] END .............................C=0.1;, score=0.775 total time=   0.0s\n",
      "[CV 4/5] END .............................C=0.1;, score=0.782 total time=   0.0s\n",
      "[CV 5/5] END .............................C=0.1;, score=0.768 total time=   0.0s\n",
      "[CV 1/5] END ...............................C=1;, score=0.797 total time=   0.0s\n",
      "[CV 2/5] END ...............................C=1;, score=0.804 total time=   0.0s\n",
      "[CV 3/5] END ...............................C=1;, score=0.761 total time=   0.0s\n",
      "[CV 4/5] END ...............................C=1;, score=0.782 total time=   0.0s\n",
      "[CV 5/5] END ...............................C=1;, score=0.775 total time=   0.0s\n",
      "[CV 1/5] END ..............................C=10;, score=0.797 total time=   0.0s\n",
      "[CV 2/5] END ..............................C=10;, score=0.804 total time=   0.0s\n",
      "[CV 3/5] END ..............................C=10;, score=0.754 total time=   0.0s\n",
      "[CV 4/5] END ..............................C=10;, score=0.782 total time=   0.0s\n",
      "[CV 5/5] END ..............................C=10;, score=0.782 total time=   0.0s\n",
      "[CV 1/5] END .............................C=100;, score=0.797 total time=   0.0s\n",
      "[CV 2/5] END .............................C=100;, score=0.804 total time=   0.0s\n",
      "[CV 3/5] END .............................C=100;, score=0.754 total time=   0.0s\n",
      "[CV 4/5] END .............................C=100;, score=0.782 total time=   0.0s\n",
      "[CV 5/5] END .............................C=100;, score=0.782 total time=   0.0s\n",
      "[CV 1/5] END .............................C=500;, score=0.797 total time=   0.0s\n",
      "[CV 2/5] END .............................C=500;, score=0.804 total time=   0.0s\n",
      "[CV 3/5] END .............................C=500;, score=0.754 total time=   0.0s\n",
      "[CV 4/5] END .............................C=500;, score=0.782 total time=   0.0s\n",
      "[CV 5/5] END .............................C=500;, score=0.782 total time=   0.0s\n"
     ]
    },
    {
     "data": {
      "text/plain": [
       "GridSearchCV(estimator=LogisticRegression(),\n",
       "             param_grid={'C': [0.001, 0.01, 0.1, 1, 10, 100, 500]},\n",
       "             scoring='accuracy', verbose=3)"
      ]
     },
     "execution_count": 99,
     "metadata": {},
     "output_type": "execute_result"
    }
   ],
   "source": [
    "gscv.fit(x_train,y_train)"
   ]
  },
  {
   "cell_type": "code",
   "execution_count": 100,
   "id": "7bdc9cbf",
   "metadata": {},
   "outputs": [
    {
     "data": {
      "text/plain": [
       "0.7892642568698907"
      ]
     },
     "execution_count": 100,
     "metadata": {},
     "output_type": "execute_result"
    }
   ],
   "source": [
    "gscv.best_score_"
   ]
  },
  {
   "cell_type": "code",
   "execution_count": 101,
   "id": "b9cfa667",
   "metadata": {},
   "outputs": [
    {
     "data": {
      "text/plain": [
       "{'C': 0.1}"
      ]
     },
     "execution_count": 101,
     "metadata": {},
     "output_type": "execute_result"
    }
   ],
   "source": [
    "gscv.best_params_  # C=1/alpha"
   ]
  },
  {
   "cell_type": "code",
   "execution_count": 102,
   "id": "8dcc9c1f",
   "metadata": {},
   "outputs": [],
   "source": [
    "gscv = GridSearchCV(estimator=LogisticRegression(penalty='l1',solver='liblinear'),\n",
    "                   param_grid=params,\n",
    "                   scoring='accuracy',\n",
    "                   verbose=3)"
   ]
  },
  {
   "cell_type": "code",
   "execution_count": 103,
   "id": "b315fe64",
   "metadata": {},
   "outputs": [
    {
     "name": "stdout",
     "output_type": "stream",
     "text": [
      "Fitting 5 folds for each of 7 candidates, totalling 35 fits\n",
      "[CV 1/5] END ...........................C=0.001;, score=0.671 total time=   0.0s\n",
      "[CV 2/5] END ...........................C=0.001;, score=0.650 total time=   0.0s\n",
      "[CV 3/5] END ...........................C=0.001;, score=0.648 total time=   0.0s\n",
      "[CV 4/5] END ...........................C=0.001;, score=0.711 total time=   0.0s\n",
      "[CV 5/5] END ...........................C=0.001;, score=0.662 total time=   0.0s\n",
      "[CV 1/5] END ............................C=0.01;, score=0.678 total time=   0.0s\n",
      "[CV 2/5] END ............................C=0.01;, score=0.664 total time=   0.0s\n",
      "[CV 3/5] END ............................C=0.01;, score=0.648 total time=   0.0s\n",
      "[CV 4/5] END ............................C=0.01;, score=0.718 total time=   0.0s\n",
      "[CV 5/5] END ............................C=0.01;, score=0.697 total time=   0.0s\n",
      "[CV 1/5] END .............................C=0.1;, score=0.790 total time=   0.0s\n",
      "[CV 2/5] END .............................C=0.1;, score=0.790 total time=   0.0s\n",
      "[CV 3/5] END .............................C=0.1;, score=0.775 total time=   0.0s\n",
      "[CV 4/5] END .............................C=0.1;, score=0.782 total time=   0.0s\n",
      "[CV 5/5] END .............................C=0.1;, score=0.789 total time=   0.0s\n",
      "[CV 1/5] END ...............................C=1;, score=0.797 total time=   0.0s\n",
      "[CV 2/5] END ...............................C=1;, score=0.804 total time=   0.0s\n",
      "[CV 3/5] END ...............................C=1;, score=0.761 total time=   0.0s\n",
      "[CV 4/5] END ...............................C=1;, score=0.782 total time=   0.0s\n",
      "[CV 5/5] END ...............................C=1;, score=0.782 total time=   0.0s\n",
      "[CV 1/5] END ..............................C=10;, score=0.797 total time=   0.0s\n",
      "[CV 2/5] END ..............................C=10;, score=0.804 total time=   0.0s\n",
      "[CV 3/5] END ..............................C=10;, score=0.754 total time=   0.0s\n",
      "[CV 4/5] END ..............................C=10;, score=0.782 total time=   0.0s\n",
      "[CV 5/5] END ..............................C=10;, score=0.782 total time=   0.0s\n",
      "[CV 1/5] END .............................C=100;, score=0.797 total time=   0.0s\n",
      "[CV 2/5] END .............................C=100;, score=0.804 total time=   0.0s\n",
      "[CV 3/5] END .............................C=100;, score=0.754 total time=   0.0s\n",
      "[CV 4/5] END .............................C=100;, score=0.782 total time=   0.0s\n",
      "[CV 5/5] END .............................C=100;, score=0.782 total time=   0.0s\n",
      "[CV 1/5] END .............................C=500;, score=0.797 total time=   0.0s\n",
      "[CV 2/5] END .............................C=500;, score=0.804 total time=   0.0s\n",
      "[CV 3/5] END .............................C=500;, score=0.754 total time=   0.0s\n",
      "[CV 4/5] END .............................C=500;, score=0.782 total time=   0.0s\n",
      "[CV 5/5] END .............................C=500;, score=0.782 total time=   0.0s\n"
     ]
    },
    {
     "data": {
      "text/plain": [
       "GridSearchCV(estimator=LogisticRegression(penalty='l1', solver='liblinear'),\n",
       "             param_grid={'C': [0.001, 0.01, 0.1, 1, 10, 100, 500]},\n",
       "             scoring='accuracy', verbose=3)"
      ]
     },
     "execution_count": 103,
     "metadata": {},
     "output_type": "execute_result"
    }
   ],
   "source": [
    "gscv.fit(x_train,y_train)"
   ]
  },
  {
   "cell_type": "code",
   "execution_count": 104,
   "id": "853935b7",
   "metadata": {},
   "outputs": [
    {
     "data": {
      "text/plain": [
       "0.7850980005909582"
      ]
     },
     "execution_count": 104,
     "metadata": {},
     "output_type": "execute_result"
    }
   ],
   "source": [
    "gscv.best_score_"
   ]
  },
  {
   "cell_type": "code",
   "execution_count": 105,
   "id": "752cb57d",
   "metadata": {},
   "outputs": [
    {
     "data": {
      "text/plain": [
       "{'C': 0.1}"
      ]
     },
     "execution_count": 105,
     "metadata": {},
     "output_type": "execute_result"
    }
   ],
   "source": [
    "gscv.best_params_"
   ]
  },
  {
   "cell_type": "markdown",
   "id": "e331ed6a",
   "metadata": {},
   "source": [
    "## Naive Bayes"
   ]
  },
  {
   "cell_type": "code",
   "execution_count": 106,
   "id": "e7379ad2",
   "metadata": {},
   "outputs": [],
   "source": [
    "from sklearn.naive_bayes import GaussianNB"
   ]
  },
  {
   "cell_type": "code",
   "execution_count": 107,
   "id": "9769b463",
   "metadata": {},
   "outputs": [],
   "source": [
    "model_nb = GaussianNB()"
   ]
  },
  {
   "cell_type": "code",
   "execution_count": 108,
   "id": "2032e1d4",
   "metadata": {},
   "outputs": [
    {
     "data": {
      "text/plain": [
       "GaussianNB()"
      ]
     },
     "execution_count": 108,
     "metadata": {},
     "output_type": "execute_result"
    }
   ],
   "source": [
    "model_nb.fit(x_train,y_train)"
   ]
  },
  {
   "cell_type": "code",
   "execution_count": 109,
   "id": "e8a1a2ef",
   "metadata": {},
   "outputs": [],
   "source": [
    "y_pred_nb = model_nb.predict(x_test)"
   ]
  },
  {
   "cell_type": "code",
   "execution_count": 110,
   "id": "553a3eed",
   "metadata": {},
   "outputs": [
    {
     "data": {
      "text/plain": [
       "array([0, 1, 0, 0, 1, 0, 1, 1, 0, 0, 0, 1, 0, 0, 1, 1, 0, 0, 0, 0, 0, 0,\n",
       "       0, 1, 1, 1, 0, 1, 1, 0, 0, 1, 0, 1, 0, 1, 1, 1, 0, 0, 0, 1, 0, 1,\n",
       "       1, 1, 0, 0, 0, 1, 0, 0, 0, 0, 1, 1, 1, 0, 0, 0, 0, 0, 1, 0, 1, 1,\n",
       "       0, 0, 1, 0, 1, 0, 1, 0, 1, 0, 1, 0, 1, 1, 0, 1, 1, 0, 0, 0, 0, 0,\n",
       "       0, 1, 0, 0, 0, 1, 1, 0, 0, 1, 0, 1, 0, 1, 0, 1, 0, 1, 0, 1, 0, 0,\n",
       "       0, 0, 0, 1, 1, 0, 1, 1, 1, 0, 0, 0, 0, 1, 1, 0, 0, 1, 0, 0, 1, 0,\n",
       "       0, 0, 1, 0, 0, 0, 0, 0, 0, 0, 0, 0, 0, 1, 0, 0, 0, 0, 0, 1, 0, 0,\n",
       "       0, 0, 0, 0, 0, 0, 1, 1, 0, 0, 1, 0, 0, 1, 0, 1, 1, 0, 0, 0, 0, 0,\n",
       "       0, 0, 0], dtype=int64)"
      ]
     },
     "execution_count": 110,
     "metadata": {},
     "output_type": "execute_result"
    }
   ],
   "source": [
    "y_pred_nb"
   ]
  },
  {
   "cell_type": "code",
   "execution_count": 111,
   "id": "18b1442b",
   "metadata": {},
   "outputs": [
    {
     "data": {
      "text/html": [
       "<div>\n",
       "<style scoped>\n",
       "    .dataframe tbody tr th:only-of-type {\n",
       "        vertical-align: middle;\n",
       "    }\n",
       "\n",
       "    .dataframe tbody tr th {\n",
       "        vertical-align: top;\n",
       "    }\n",
       "\n",
       "    .dataframe thead th {\n",
       "        text-align: right;\n",
       "    }\n",
       "</style>\n",
       "<table border=\"1\" class=\"dataframe\">\n",
       "  <thead>\n",
       "    <tr style=\"text-align: right;\">\n",
       "      <th></th>\n",
       "      <th>Actual Y</th>\n",
       "      <th>Pred LR</th>\n",
       "      <th>Pred NB</th>\n",
       "    </tr>\n",
       "  </thead>\n",
       "  <tbody>\n",
       "    <tr>\n",
       "      <th>90</th>\n",
       "      <td>0</td>\n",
       "      <td>0</td>\n",
       "      <td>0</td>\n",
       "    </tr>\n",
       "    <tr>\n",
       "      <th>736</th>\n",
       "      <td>0</td>\n",
       "      <td>0</td>\n",
       "      <td>1</td>\n",
       "    </tr>\n",
       "    <tr>\n",
       "      <th>48</th>\n",
       "      <td>0</td>\n",
       "      <td>0</td>\n",
       "      <td>0</td>\n",
       "    </tr>\n",
       "    <tr>\n",
       "      <th>783</th>\n",
       "      <td>0</td>\n",
       "      <td>0</td>\n",
       "      <td>0</td>\n",
       "    </tr>\n",
       "    <tr>\n",
       "      <th>404</th>\n",
       "      <td>0</td>\n",
       "      <td>1</td>\n",
       "      <td>1</td>\n",
       "    </tr>\n",
       "    <tr>\n",
       "      <th>884</th>\n",
       "      <td>0</td>\n",
       "      <td>0</td>\n",
       "      <td>0</td>\n",
       "    </tr>\n",
       "    <tr>\n",
       "      <th>865</th>\n",
       "      <td>1</td>\n",
       "      <td>1</td>\n",
       "      <td>1</td>\n",
       "    </tr>\n",
       "    <tr>\n",
       "      <th>796</th>\n",
       "      <td>1</td>\n",
       "      <td>1</td>\n",
       "      <td>1</td>\n",
       "    </tr>\n",
       "    <tr>\n",
       "      <th>819</th>\n",
       "      <td>0</td>\n",
       "      <td>0</td>\n",
       "      <td>0</td>\n",
       "    </tr>\n",
       "    <tr>\n",
       "      <th>75</th>\n",
       "      <td>0</td>\n",
       "      <td>0</td>\n",
       "      <td>0</td>\n",
       "    </tr>\n",
       "    <tr>\n",
       "      <th>428</th>\n",
       "      <td>0</td>\n",
       "      <td>0</td>\n",
       "      <td>0</td>\n",
       "    </tr>\n",
       "    <tr>\n",
       "      <th>322</th>\n",
       "      <td>1</td>\n",
       "      <td>1</td>\n",
       "      <td>1</td>\n",
       "    </tr>\n",
       "    <tr>\n",
       "      <th>616</th>\n",
       "      <td>0</td>\n",
       "      <td>0</td>\n",
       "      <td>0</td>\n",
       "    </tr>\n",
       "    <tr>\n",
       "      <th>661</th>\n",
       "      <td>0</td>\n",
       "      <td>0</td>\n",
       "      <td>0</td>\n",
       "    </tr>\n",
       "    <tr>\n",
       "      <th>136</th>\n",
       "      <td>1</td>\n",
       "      <td>1</td>\n",
       "      <td>1</td>\n",
       "    </tr>\n",
       "    <tr>\n",
       "      <th>523</th>\n",
       "      <td>1</td>\n",
       "      <td>1</td>\n",
       "      <td>1</td>\n",
       "    </tr>\n",
       "    <tr>\n",
       "      <th>418</th>\n",
       "      <td>0</td>\n",
       "      <td>0</td>\n",
       "      <td>0</td>\n",
       "    </tr>\n",
       "    <tr>\n",
       "      <th>834</th>\n",
       "      <td>0</td>\n",
       "      <td>0</td>\n",
       "      <td>0</td>\n",
       "    </tr>\n",
       "    <tr>\n",
       "      <th>157</th>\n",
       "      <td>0</td>\n",
       "      <td>0</td>\n",
       "      <td>0</td>\n",
       "    </tr>\n",
       "    <tr>\n",
       "      <th>146</th>\n",
       "      <td>1</td>\n",
       "      <td>0</td>\n",
       "      <td>0</td>\n",
       "    </tr>\n",
       "  </tbody>\n",
       "</table>\n",
       "</div>"
      ],
      "text/plain": [
       "     Actual Y  Pred LR  Pred NB\n",
       "90          0        0        0\n",
       "736         0        0        1\n",
       "48          0        0        0\n",
       "783         0        0        0\n",
       "404         0        1        1\n",
       "884         0        0        0\n",
       "865         1        1        1\n",
       "796         1        1        1\n",
       "819         0        0        0\n",
       "75          0        0        0\n",
       "428         0        0        0\n",
       "322         1        1        1\n",
       "616         0        0        0\n",
       "661         0        0        0\n",
       "136         1        1        1\n",
       "523         1        1        1\n",
       "418         0        0        0\n",
       "834         0        0        0\n",
       "157         0        0        0\n",
       "146         1        0        0"
      ]
     },
     "execution_count": 111,
     "metadata": {},
     "output_type": "execute_result"
    }
   ],
   "source": [
    "pd.DataFrame({'Actual Y':y_test,'Pred LR':y_pred,'Pred NB':y_pred_nb}).head(20)"
   ]
  },
  {
   "cell_type": "code",
   "execution_count": 112,
   "id": "79df448e",
   "metadata": {},
   "outputs": [
    {
     "name": "stdout",
     "output_type": "stream",
     "text": [
      "Confusion Matrix:\n",
      " [[94 16]\n",
      " [21 48]]\n",
      "Acuuracy: 0.7932960893854749\n",
      "Recall: 0.6956521739130435\n",
      "Precision: 0.75\n",
      "F1 Score: 0.7218045112781954\n"
     ]
    }
   ],
   "source": [
    "validation(y_test,y_pred_nb)"
   ]
  },
  {
   "cell_type": "code",
   "execution_count": 113,
   "id": "bf213a68",
   "metadata": {},
   "outputs": [
    {
     "name": "stdout",
     "output_type": "stream",
     "text": [
      "Confusion Matrix:\n",
      " [[94 16]\n",
      " [22 47]]\n",
      "Acuuracy: 0.7877094972067039\n",
      "Recall: 0.6811594202898551\n",
      "Precision: 0.746031746031746\n",
      "F1 Score: 0.7121212121212122\n"
     ]
    }
   ],
   "source": [
    "validation(y_test,y_pred)"
   ]
  },
  {
   "cell_type": "code",
   "execution_count": 114,
   "id": "4f49e36a",
   "metadata": {},
   "outputs": [],
   "source": [
    "# Soft Predictions\n",
    "\n",
    "y_pred_nb_soft = model_nb.predict_proba(x_test)"
   ]
  },
  {
   "cell_type": "code",
   "execution_count": 115,
   "id": "58f1afc3",
   "metadata": {},
   "outputs": [
    {
     "data": {
      "text/plain": [
       "array([7.67750443e-02, 8.29179171e-01, 6.51321842e-02, 1.01817889e-01,\n",
       "       8.02055747e-01, 8.06933511e-02, 7.72249903e-01, 8.12629627e-01,\n",
       "       4.14768181e-03, 8.07173301e-02, 1.89605136e-01, 9.06965181e-01,\n",
       "       8.78187028e-02, 1.79994810e-01, 8.61716865e-01, 9.81436798e-01,\n",
       "       7.75060538e-02, 9.18944034e-02, 7.60154087e-02, 7.85475544e-02,\n",
       "       1.58387229e-01, 8.14353311e-02, 7.47489113e-02, 7.95935763e-01,\n",
       "       9.93686930e-01, 8.08837952e-01, 2.10960310e-01, 8.39609056e-01,\n",
       "       9.04723854e-01, 8.05479311e-02, 1.89538681e-01, 7.95913761e-01,\n",
       "       1.77852271e-01, 7.78608810e-01, 1.14070049e-01, 8.03684886e-01,\n",
       "       7.01989475e-01, 8.27401493e-01, 1.89538929e-01, 2.52481303e-01,\n",
       "       1.89913076e-01, 9.16772972e-01, 1.04723728e-01, 9.22213287e-01,\n",
       "       9.91530680e-01, 9.35993586e-01, 2.05170494e-01, 9.07934545e-02,\n",
       "       9.53629718e-02, 7.78208889e-01, 8.06978752e-02, 7.32179146e-02,\n",
       "       4.79562349e-01, 7.92155114e-02, 7.79055666e-01, 9.24760101e-01,\n",
       "       9.94434271e-01, 8.01061802e-02, 8.47511938e-02, 2.15332617e-02,\n",
       "       9.36329762e-02, 2.08423271e-01, 7.82274988e-01, 2.17736634e-01,\n",
       "       8.91954681e-01, 9.94314886e-01, 2.12019007e-01, 7.53214992e-02,\n",
       "       8.99575692e-01, 1.40669993e-01, 9.59156115e-01, 1.89913331e-01,\n",
       "       9.99605927e-01, 9.61678823e-02, 7.88251857e-01, 2.11962017e-01,\n",
       "       9.77876953e-01, 8.47912363e-02, 8.16020312e-01, 7.95157913e-01,\n",
       "       2.16419331e-01, 7.97581074e-01, 8.17402805e-01, 1.88974093e-01,\n",
       "       1.14982442e-01, 9.64034589e-02, 1.88274427e-01, 2.70089862e-01,\n",
       "       8.47728941e-02, 7.49821103e-01, 7.47489113e-02, 7.48575166e-02,\n",
       "       1.52983908e-01, 8.39801211e-01, 9.31794038e-01, 8.80202825e-02,\n",
       "       7.46976908e-02, 9.11996135e-01, 8.63839691e-02, 8.13540680e-01,\n",
       "       2.46739218e-14, 9.98013404e-01, 9.83515163e-02, 9.07446062e-01,\n",
       "       9.53535203e-02, 8.10866774e-01, 7.69803589e-02, 9.99801212e-01,\n",
       "       7.47431858e-02, 8.19941305e-02, 2.87663049e-02, 8.17844055e-02,\n",
       "       7.45246372e-02, 9.99831453e-01, 8.37245370e-01, 7.53332327e-02,\n",
       "       9.17429634e-01, 7.73671963e-01, 9.96901104e-01, 7.47752060e-02,\n",
       "       8.80694177e-02, 2.26780548e-01, 7.76256360e-02, 9.07446062e-01,\n",
       "       9.96108292e-01, 1.09477523e-04, 2.47735367e-01, 7.79089284e-01,\n",
       "       7.81162053e-02, 7.41079115e-02, 8.27090991e-01, 8.23258981e-02,\n",
       "       7.72606884e-02, 2.48295762e-01, 7.98406246e-01, 8.98907683e-02,\n",
       "       1.07872485e-01, 7.45786754e-02, 7.29662213e-02, 7.78547764e-02,\n",
       "       9.97865568e-02, 9.97865568e-02, 8.63839691e-02, 1.21281890e-01,\n",
       "       5.97062562e-03, 7.79089284e-01, 9.90303585e-02, 1.67464851e-01,\n",
       "       9.53535203e-02, 1.84692046e-01, 1.93264324e-04, 9.95310498e-01,\n",
       "       1.09412411e-01, 1.00528459e-01, 3.87968306e-01, 7.69982733e-02,\n",
       "       1.88171879e-01, 7.95770865e-02, 1.83427751e-01, 1.99445416e-01,\n",
       "       6.78004474e-01, 9.99724194e-01, 7.78547764e-02, 2.28104850e-01,\n",
       "       9.67320713e-01, 8.01061802e-02, 8.47825599e-02, 7.88683517e-01,\n",
       "       1.89605136e-01, 7.75503763e-01, 9.07446062e-01, 7.83416397e-02,\n",
       "       2.61572018e-01, 7.36739249e-02, 5.88797129e-16, 8.19360085e-02,\n",
       "       8.63278380e-02, 9.03582741e-02, 1.89913076e-01])"
      ]
     },
     "execution_count": 115,
     "metadata": {},
     "output_type": "execute_result"
    }
   ],
   "source": [
    "y_pred_nb_soft[:,1]"
   ]
  },
  {
   "cell_type": "code",
   "execution_count": 116,
   "id": "3724088a",
   "metadata": {},
   "outputs": [],
   "source": [
    "fpr_nb,tpr_nb,thres_nb = roc_curve(y_test,y_pred_nb_soft[:,1])"
   ]
  },
  {
   "cell_type": "code",
   "execution_count": 117,
   "id": "afcc3bdf",
   "metadata": {},
   "outputs": [
    {
     "name": "stdout",
     "output_type": "stream",
     "text": [
      "Area Under the Curve LR:  0.8270750988142292\n",
      "Area Under the Curve NB:  0.8199604743083004\n"
     ]
    },
    {
     "data": {
      "image/png": "[encoded data removed]",
      "text/plain": [
       "<Figure size 432x288 with 1 Axes>"
      ]
     },
     "metadata": {
      "needs_background": "light"
     },
     "output_type": "display_data"
    }
   ],
   "source": [
    "plt.plot(fpr,tpr)\n",
    "plt.plot(fpr_nb,tpr_nb)\n",
    "plt.xlabel('FPR')\n",
    "plt.ylabel('TPR')\n",
    "plt.title('ROC Curve')\n",
    "plt.legend(['LR','NB'])\n",
    "print('Area Under the Curve LR: ',roc_auc_score(y_test,y_pred_soft[:,1]))\n",
    "print('Area Under the Curve NB: ',roc_auc_score(y_test,y_pred_nb_soft[:,1]))\n",
    "plt.show()"
   ]
  },
  {
   "cell_type": "code",
   "execution_count": 118,
   "id": "10d62e8a",
   "metadata": {},
   "outputs": [],
   "source": [
    "from sklearn.tree import DecisionTreeClassifier"
   ]
  },
  {
   "cell_type": "code",
   "execution_count": 119,
   "id": "f4d3e5ec",
   "metadata": {},
   "outputs": [],
   "source": [
    "Dt_Model = DecisionTreeClassifier()"
   ]
  },
  {
   "cell_type": "code",
   "execution_count": 120,
   "id": "c13d1122",
   "metadata": {},
   "outputs": [],
   "source": [
    "param = {'cretation':['gini','entropy'],'max_dept':[4.5,6,7,8]}"
   ]
  },
  {
   "cell_type": "code",
   "execution_count": 121,
   "id": "bc1ac9ca",
   "metadata": {},
   "outputs": [],
   "source": [
    "gscv = GridSearchCV(estimator=Dt_Model,param_grid=param,scoring='accurary',verbose=3)"
   ]
  },
  {
   "cell_type": "code",
   "execution_count": 122,
   "id": "631a06fb",
   "metadata": {},
   "outputs": [
    {
     "data": {
      "text/plain": [
       "(GridSearchCV(estimator=DecisionTreeClassifier(),\n",
       "              param_grid={'cretation': ['gini', 'entropy'],\n",
       "                          'max_dept': [4.5, 6, 7, 8]},\n",
       "              scoring='accurary', verbose=3),\n",
       " {'cretation': ['gini', 'entropy'], 'max_dept': [4.5, 6, 7, 8]})"
      ]
     },
     "execution_count": 122,
     "metadata": {},
     "output_type": "execute_result"
    }
   ],
   "source": [
    "gscv,param"
   ]
  },
  {
   "cell_type": "code",
   "execution_count": 123,
   "id": "3fa84973",
   "metadata": {},
   "outputs": [],
   "source": [
    "from sklearn import tree"
   ]
  },
  {
   "cell_type": "code",
   "execution_count": 124,
   "id": "45af6b1b",
   "metadata": {},
   "outputs": [],
   "source": [
    "# plt.figure(figsize=(10,8),dpi=200)\n",
    "# tree.plot_tree(Dt_Model,feature_name=x_train.columns,fontsize=12)\n",
    "# plt.show()"
   ]
  },
  {
   "cell_type": "code",
   "execution_count": 125,
   "id": "1020e7af",
   "metadata": {},
   "outputs": [],
   "source": [
    "from sklearn.ensemble import RandomForestClassifier\n",
    "rnf_model = RandomForestClassifier()"
   ]
  },
  {
   "cell_type": "code",
   "execution_count": 126,
   "id": "b711b624",
   "metadata": {},
   "outputs": [],
   "source": [
    "param = {'n_estimators': [50,100,200,500],'criterion':['gini','entropy'],'max_depth':[2,3,4,5]  }"
   ]
  },
  {
   "cell_type": "code",
   "execution_count": 127,
   "id": "d60e8637",
   "metadata": {},
   "outputs": [],
   "source": [
    "gscv = GridSearchCV(estimator= rnf_model,param_grid = param,cv=3,scoring='accuracy',verbose=3)"
   ]
  },
  {
   "cell_type": "code",
   "execution_count": 128,
   "id": "14d2eb5e",
   "metadata": {
    "scrolled": true
   },
   "outputs": [
    {
     "name": "stdout",
     "output_type": "stream",
     "text": [
      "Fitting 3 folds for each of 32 candidates, totalling 96 fits\n",
      "[CV 1/3] END criterion=gini, max_depth=2, n_estimators=50;, score=0.782 total time=   0.0s\n",
      "[CV 2/3] END criterion=gini, max_depth=2, n_estimators=50;, score=0.776 total time=   0.0s\n",
      "[CV 3/3] END criterion=gini, max_depth=2, n_estimators=50;, score=0.785 total time=   0.0s\n",
      "[CV 1/3] END criterion=gini, max_depth=2, n_estimators=100;, score=0.803 total time=   0.0s\n",
      "[CV 2/3] END criterion=gini, max_depth=2, n_estimators=100;, score=0.751 total time=   0.1s\n",
      "[CV 3/3] END criterion=gini, max_depth=2, n_estimators=100;, score=0.781 total time=   0.1s\n",
      "[CV 1/3] END criterion=gini, max_depth=2, n_estimators=200;, score=0.794 total time=   0.2s\n",
      "[CV 2/3] END criterion=gini, max_depth=2, n_estimators=200;, score=0.755 total time=   0.2s\n",
      "[CV 3/3] END criterion=gini, max_depth=2, n_estimators=200;, score=0.776 total time=   0.2s\n",
      "[CV 1/3] END criterion=gini, max_depth=2, n_estimators=500;, score=0.794 total time=   0.6s\n",
      "[CV 2/3] END criterion=gini, max_depth=2, n_estimators=500;, score=0.776 total time=   0.6s\n",
      "[CV 3/3] END criterion=gini, max_depth=2, n_estimators=500;, score=0.781 total time=   0.5s\n",
      "[CV 1/3] END criterion=gini, max_depth=3, n_estimators=50;, score=0.824 total time=   0.0s\n",
      "[CV 2/3] END criterion=gini, max_depth=3, n_estimators=50;, score=0.776 total time=   0.0s\n",
      "[CV 3/3] END criterion=gini, max_depth=3, n_estimators=50;, score=0.802 total time=   0.0s\n",
      "[CV 1/3] END criterion=gini, max_depth=3, n_estimators=100;, score=0.819 total time=   0.1s\n",
      "[CV 2/3] END criterion=gini, max_depth=3, n_estimators=100;, score=0.785 total time=   0.2s\n",
      "[CV 3/3] END criterion=gini, max_depth=3, n_estimators=100;, score=0.785 total time=   0.2s\n",
      "[CV 1/3] END criterion=gini, max_depth=3, n_estimators=200;, score=0.824 total time=   0.2s\n",
      "[CV 2/3] END criterion=gini, max_depth=3, n_estimators=200;, score=0.789 total time=   0.2s\n",
      "[CV 3/3] END criterion=gini, max_depth=3, n_estimators=200;, score=0.797 total time=   0.2s\n",
      "[CV 1/3] END criterion=gini, max_depth=3, n_estimators=500;, score=0.811 total time=   0.7s\n",
      "[CV 2/3] END criterion=gini, max_depth=3, n_estimators=500;, score=0.793 total time=   0.5s\n",
      "[CV 3/3] END criterion=gini, max_depth=3, n_estimators=500;, score=0.806 total time=   0.7s\n",
      "[CV 1/3] END criterion=gini, max_depth=4, n_estimators=50;, score=0.824 total time=   0.0s\n",
      "[CV 2/3] END criterion=gini, max_depth=4, n_estimators=50;, score=0.797 total time=   0.0s\n",
      "[CV 3/3] END criterion=gini, max_depth=4, n_estimators=50;, score=0.802 total time=   0.0s\n",
      "[CV 1/3] END criterion=gini, max_depth=4, n_estimators=100;, score=0.824 total time=   0.0s\n",
      "[CV 2/3] END criterion=gini, max_depth=4, n_estimators=100;, score=0.797 total time=   0.0s\n",
      "[CV 3/3] END criterion=gini, max_depth=4, n_estimators=100;, score=0.797 total time=   0.1s\n",
      "[CV 1/3] END criterion=gini, max_depth=4, n_estimators=200;, score=0.824 total time=   0.2s\n",
      "[CV 2/3] END criterion=gini, max_depth=4, n_estimators=200;, score=0.797 total time=   0.2s\n",
      "[CV 3/3] END criterion=gini, max_depth=4, n_estimators=200;, score=0.797 total time=   0.2s\n",
      "[CV 1/3] END criterion=gini, max_depth=4, n_estimators=500;, score=0.824 total time=   0.6s\n",
      "[CV 2/3] END criterion=gini, max_depth=4, n_estimators=500;, score=0.797 total time=   0.5s\n",
      "[CV 3/3] END criterion=gini, max_depth=4, n_estimators=500;, score=0.793 total time=   0.5s\n",
      "[CV 1/3] END criterion=gini, max_depth=5, n_estimators=50;, score=0.819 total time=   0.0s\n",
      "[CV 2/3] END criterion=gini, max_depth=5, n_estimators=50;, score=0.810 total time=   0.0s\n",
      "[CV 3/3] END criterion=gini, max_depth=5, n_estimators=50;, score=0.789 total time=   0.0s\n",
      "[CV 1/3] END criterion=gini, max_depth=5, n_estimators=100;, score=0.824 total time=   0.0s\n",
      "[CV 2/3] END criterion=gini, max_depth=5, n_estimators=100;, score=0.797 total time=   0.1s\n",
      "[CV 3/3] END criterion=gini, max_depth=5, n_estimators=100;, score=0.793 total time=   0.0s\n",
      "[CV 1/3] END criterion=gini, max_depth=5, n_estimators=200;, score=0.815 total time=   0.2s\n",
      "[CV 2/3] END criterion=gini, max_depth=5, n_estimators=200;, score=0.789 total time=   0.2s\n",
      "[CV 3/3] END criterion=gini, max_depth=5, n_estimators=200;, score=0.793 total time=   0.2s\n",
      "[CV 1/3] END criterion=gini, max_depth=5, n_estimators=500;, score=0.819 total time=   0.6s\n",
      "[CV 2/3] END criterion=gini, max_depth=5, n_estimators=500;, score=0.797 total time=   0.5s\n",
      "[CV 3/3] END criterion=gini, max_depth=5, n_estimators=500;, score=0.797 total time=   0.5s\n",
      "[CV 1/3] END criterion=entropy, max_depth=2, n_estimators=50;, score=0.756 total time=   0.0s\n",
      "[CV 2/3] END criterion=entropy, max_depth=2, n_estimators=50;, score=0.755 total time=   0.0s\n",
      "[CV 3/3] END criterion=entropy, max_depth=2, n_estimators=50;, score=0.785 total time=   0.0s\n",
      "[CV 1/3] END criterion=entropy, max_depth=2, n_estimators=100;, score=0.803 total time=   0.0s\n",
      "[CV 2/3] END criterion=entropy, max_depth=2, n_estimators=100;, score=0.776 total time=   0.1s\n",
      "[CV 3/3] END criterion=entropy, max_depth=2, n_estimators=100;, score=0.776 total time=   0.0s\n",
      "[CV 1/3] END criterion=entropy, max_depth=2, n_estimators=200;, score=0.815 total time=   0.2s\n",
      "[CV 2/3] END criterion=entropy, max_depth=2, n_estimators=200;, score=0.776 total time=   0.2s\n",
      "[CV 3/3] END criterion=entropy, max_depth=2, n_estimators=200;, score=0.772 total time=   0.2s\n",
      "[CV 1/3] END criterion=entropy, max_depth=2, n_estimators=500;, score=0.815 total time=   0.5s\n",
      "[CV 2/3] END criterion=entropy, max_depth=2, n_estimators=500;, score=0.776 total time=   0.5s\n",
      "[CV 3/3] END criterion=entropy, max_depth=2, n_estimators=500;, score=0.776 total time=   0.5s\n",
      "[CV 1/3] END criterion=entropy, max_depth=3, n_estimators=50;, score=0.828 total time=   0.0s\n",
      "[CV 2/3] END criterion=entropy, max_depth=3, n_estimators=50;, score=0.785 total time=   0.0s\n",
      "[CV 3/3] END criterion=entropy, max_depth=3, n_estimators=50;, score=0.789 total time=   0.0s\n",
      "[CV 1/3] END criterion=entropy, max_depth=3, n_estimators=100;, score=0.819 total time=   0.0s\n",
      "[CV 2/3] END criterion=entropy, max_depth=3, n_estimators=100;, score=0.797 total time=   0.0s\n",
      "[CV 3/3] END criterion=entropy, max_depth=3, n_estimators=100;, score=0.797 total time=   0.0s\n",
      "[CV 1/3] END criterion=entropy, max_depth=3, n_estimators=200;, score=0.815 total time=   0.2s\n",
      "[CV 2/3] END criterion=entropy, max_depth=3, n_estimators=200;, score=0.806 total time=   0.2s\n",
      "[CV 3/3] END criterion=entropy, max_depth=3, n_estimators=200;, score=0.806 total time=   0.2s\n",
      "[CV 1/3] END criterion=entropy, max_depth=3, n_estimators=500;, score=0.811 total time=   0.5s\n",
      "[CV 2/3] END criterion=entropy, max_depth=3, n_estimators=500;, score=0.785 total time=   0.5s\n",
      "[CV 3/3] END criterion=entropy, max_depth=3, n_estimators=500;, score=0.802 total time=   0.5s\n",
      "[CV 1/3] END criterion=entropy, max_depth=4, n_estimators=50;, score=0.824 total time=   0.0s\n",
      "[CV 2/3] END criterion=entropy, max_depth=4, n_estimators=50;, score=0.806 total time=   0.0s\n",
      "[CV 3/3] END criterion=entropy, max_depth=4, n_estimators=50;, score=0.797 total time=   0.0s\n",
      "[CV 1/3] END criterion=entropy, max_depth=4, n_estimators=100;, score=0.819 total time=   0.0s\n",
      "[CV 2/3] END criterion=entropy, max_depth=4, n_estimators=100;, score=0.793 total time=   0.0s\n",
      "[CV 3/3] END criterion=entropy, max_depth=4, n_estimators=100;, score=0.797 total time=   0.0s\n",
      "[CV 1/3] END criterion=entropy, max_depth=4, n_estimators=200;, score=0.824 total time=   0.2s\n",
      "[CV 2/3] END criterion=entropy, max_depth=4, n_estimators=200;, score=0.806 total time=   0.2s\n",
      "[CV 3/3] END criterion=entropy, max_depth=4, n_estimators=200;, score=0.802 total time=   0.2s\n",
      "[CV 1/3] END criterion=entropy, max_depth=4, n_estimators=500;, score=0.824 total time=   0.5s\n",
      "[CV 2/3] END criterion=entropy, max_depth=4, n_estimators=500;, score=0.802 total time=   0.5s\n",
      "[CV 3/3] END criterion=entropy, max_depth=4, n_estimators=500;, score=0.797 total time=   0.5s\n",
      "[CV 1/3] END criterion=entropy, max_depth=5, n_estimators=50;, score=0.824 total time=   0.0s\n",
      "[CV 2/3] END criterion=entropy, max_depth=5, n_estimators=50;, score=0.793 total time=   0.0s\n",
      "[CV 3/3] END criterion=entropy, max_depth=5, n_estimators=50;, score=0.806 total time=   0.0s\n",
      "[CV 1/3] END criterion=entropy, max_depth=5, n_estimators=100;, score=0.828 total time=   0.1s\n"
     ]
    },
    {
     "name": "stdout",
     "output_type": "stream",
     "text": [
      "[CV 2/3] END criterion=entropy, max_depth=5, n_estimators=100;, score=0.793 total time=   0.0s\n",
      "[CV 3/3] END criterion=entropy, max_depth=5, n_estimators=100;, score=0.797 total time=   0.0s\n",
      "[CV 1/3] END criterion=entropy, max_depth=5, n_estimators=200;, score=0.811 total time=   0.2s\n",
      "[CV 2/3] END criterion=entropy, max_depth=5, n_estimators=200;, score=0.802 total time=   0.2s\n",
      "[CV 3/3] END criterion=entropy, max_depth=5, n_estimators=200;, score=0.793 total time=   0.2s\n",
      "[CV 1/3] END criterion=entropy, max_depth=5, n_estimators=500;, score=0.819 total time=   0.7s\n",
      "[CV 2/3] END criterion=entropy, max_depth=5, n_estimators=500;, score=0.797 total time=   0.5s\n",
      "[CV 3/3] END criterion=entropy, max_depth=5, n_estimators=500;, score=0.797 total time=   0.5s\n"
     ]
    },
    {
     "data": {
      "text/plain": [
       "GridSearchCV(cv=3, estimator=RandomForestClassifier(),\n",
       "             param_grid={'criterion': ['gini', 'entropy'],\n",
       "                         'max_depth': [2, 3, 4, 5],\n",
       "                         'n_estimators': [50, 100, 200, 500]},\n",
       "             scoring='accuracy', verbose=3)"
      ]
     },
     "execution_count": 128,
     "metadata": {},
     "output_type": "execute_result"
    }
   ],
   "source": [
    "gscv.fit(x_train,y_train)"
   ]
  },
  {
   "cell_type": "code",
   "execution_count": 129,
   "id": "2af868ff",
   "metadata": {},
   "outputs": [
    {
     "data": {
      "text/plain": [
       "0.824438202247191"
      ]
     },
     "execution_count": 129,
     "metadata": {},
     "output_type": "execute_result"
    }
   ],
   "source": [
    "gscv.score(x_train,y_train)"
   ]
  },
  {
   "cell_type": "code",
   "execution_count": 130,
   "id": "aac80683",
   "metadata": {},
   "outputs": [
    {
     "data": {
      "text/plain": [
       "0.8103747828245221"
      ]
     },
     "execution_count": 130,
     "metadata": {},
     "output_type": "execute_result"
    }
   ],
   "source": [
    "gscv.best_score_"
   ]
  },
  {
   "cell_type": "code",
   "execution_count": 131,
   "id": "90a06a59",
   "metadata": {},
   "outputs": [
    {
     "data": {
      "text/plain": [
       "{'criterion': 'entropy', 'max_depth': 4, 'n_estimators': 200}"
      ]
     },
     "execution_count": 131,
     "metadata": {},
     "output_type": "execute_result"
    }
   ],
   "source": [
    "gscv.best_params_"
   ]
  },
  {
   "cell_type": "code",
   "execution_count": 132,
   "id": "a39b2b1c",
   "metadata": {},
   "outputs": [],
   "source": [
    "rnf_model = RandomForestClassifier(**gscv.best_params_)"
   ]
  },
  {
   "cell_type": "code",
   "execution_count": 133,
   "id": "f797a5c2",
   "metadata": {},
   "outputs": [
    {
     "data": {
      "text/plain": [
       "RandomForestClassifier(criterion='entropy', max_depth=4, n_estimators=200)"
      ]
     },
     "execution_count": 133,
     "metadata": {},
     "output_type": "execute_result"
    }
   ],
   "source": [
    "rnf_model.fit(x_train,y_train)"
   ]
  },
  {
   "cell_type": "code",
   "execution_count": 134,
   "id": "ac2bae71",
   "metadata": {},
   "outputs": [],
   "source": [
    "y_pred_rf = rnf_model.predict(x_test)"
   ]
  },
  {
   "cell_type": "code",
   "execution_count": 135,
   "id": "bc309623",
   "metadata": {},
   "outputs": [
    {
     "name": "stdout",
     "output_type": "stream",
     "text": [
      "Confusion Matrix:\n",
      " [[95 15]\n",
      " [19 50]]\n",
      "Acuuracy: 0.8100558659217877\n",
      "Recall: 0.7246376811594203\n",
      "Precision: 0.7692307692307693\n",
      "F1 Score: 0.7462686567164178\n"
     ]
    }
   ],
   "source": [
    "validation(y_test,y_pred_rf)"
   ]
  },
  {
   "cell_type": "code",
   "execution_count": 136,
   "id": "3ffe1dd8",
   "metadata": {},
   "outputs": [
    {
     "data": {
      "text/plain": [
       "0.8100558659217877"
      ]
     },
     "execution_count": 136,
     "metadata": {},
     "output_type": "execute_result"
    }
   ],
   "source": [
    "rnf_model.score(x_test,y_test)"
   ]
  },
  {
   "cell_type": "markdown",
   "id": "bd227a8c",
   "metadata": {},
   "source": [
    "# Boosting ADA"
   ]
  },
  {
   "cell_type": "code",
   "execution_count": 137,
   "id": "78378749",
   "metadata": {},
   "outputs": [],
   "source": [
    "from sklearn.ensemble import AdaBoostClassifier\n",
    "ada_model = AdaBoostClassifier()"
   ]
  },
  {
   "cell_type": "code",
   "execution_count": 138,
   "id": "bff37e92",
   "metadata": {},
   "outputs": [],
   "source": [
    "param = {'n_estimators':[50,100,200,350,500],'learning_rate':[0.001,0.01,0.1,1,10]}"
   ]
  },
  {
   "cell_type": "code",
   "execution_count": null,
   "id": "a58dd032",
   "metadata": {},
   "outputs": [],
   "source": []
  },
  {
   "cell_type": "code",
   "execution_count": 139,
   "id": "722f911c",
   "metadata": {},
   "outputs": [],
   "source": [
    "from sklearn.ensemble import GradientBoostingClassifier\n",
    "model_gb = GradientBoostingClassifier()"
   ]
  },
  {
   "cell_type": "code",
   "execution_count": 143,
   "id": "8dc48bd4",
   "metadata": {},
   "outputs": [],
   "source": [
    "param =  {'n_estimators': [50,100,200,500],'learning_rate':[0.001,0.01,0.1,1,10],'max_features':[3,4,5]  }"
   ]
  },
  {
   "cell_type": "code",
   "execution_count": 146,
   "id": "063df55e",
   "metadata": {},
   "outputs": [],
   "source": [
    "gscv = GridSearchCV(estimator=model_gb,param_grid=param,cv=3,scoring='accuracy',verbose=3)"
   ]
  },
  {
   "cell_type": "code",
   "execution_count": 147,
   "id": "55f4adf6",
   "metadata": {},
   "outputs": [
    {
     "name": "stdout",
     "output_type": "stream",
     "text": [
      "Fitting 3 folds for each of 80 candidates, totalling 240 fits\n",
      "[CV 1/3] END learning_rate=0.001, max_features=2, n_estimators=50;, score=0.618 total time=   0.0s\n",
      "[CV 2/3] END learning_rate=0.001, max_features=2, n_estimators=50;, score=0.616 total time=   0.0s\n",
      "[CV 3/3] END learning_rate=0.001, max_features=2, n_estimators=50;, score=0.616 total time=   0.0s\n",
      "[CV 1/3] END learning_rate=0.001, max_features=2, n_estimators=100;, score=0.618 total time=   0.0s\n",
      "[CV 2/3] END learning_rate=0.001, max_features=2, n_estimators=100;, score=0.616 total time=   0.0s\n",
      "[CV 3/3] END learning_rate=0.001, max_features=2, n_estimators=100;, score=0.616 total time=   0.0s\n",
      "[CV 1/3] END learning_rate=0.001, max_features=2, n_estimators=200;, score=0.618 total time=   0.0s\n",
      "[CV 2/3] END learning_rate=0.001, max_features=2, n_estimators=200;, score=0.616 total time=   0.0s\n",
      "[CV 3/3] END learning_rate=0.001, max_features=2, n_estimators=200;, score=0.616 total time=   0.0s\n",
      "[CV 1/3] END learning_rate=0.001, max_features=2, n_estimators=500;, score=0.710 total time=   0.2s\n",
      "[CV 2/3] END learning_rate=0.001, max_features=2, n_estimators=500;, score=0.738 total time=   0.2s\n",
      "[CV 3/3] END learning_rate=0.001, max_features=2, n_estimators=500;, score=0.734 total time=   0.2s\n",
      "[CV 1/3] END learning_rate=0.001, max_features=3, n_estimators=50;, score=0.618 total time=   0.0s\n",
      "[CV 2/3] END learning_rate=0.001, max_features=3, n_estimators=50;, score=0.616 total time=   0.0s\n",
      "[CV 3/3] END learning_rate=0.001, max_features=3, n_estimators=50;, score=0.616 total time=   0.0s\n",
      "[CV 1/3] END learning_rate=0.001, max_features=3, n_estimators=100;, score=0.618 total time=   0.0s\n",
      "[CV 2/3] END learning_rate=0.001, max_features=3, n_estimators=100;, score=0.616 total time=   0.0s\n",
      "[CV 3/3] END learning_rate=0.001, max_features=3, n_estimators=100;, score=0.616 total time=   0.0s\n",
      "[CV 1/3] END learning_rate=0.001, max_features=3, n_estimators=200;, score=0.618 total time=   0.0s\n",
      "[CV 2/3] END learning_rate=0.001, max_features=3, n_estimators=200;, score=0.616 total time=   0.0s\n",
      "[CV 3/3] END learning_rate=0.001, max_features=3, n_estimators=200;, score=0.616 total time=   0.0s\n",
      "[CV 1/3] END learning_rate=0.001, max_features=3, n_estimators=500;, score=0.731 total time=   0.2s\n",
      "[CV 2/3] END learning_rate=0.001, max_features=3, n_estimators=500;, score=0.747 total time=   0.2s\n",
      "[CV 3/3] END learning_rate=0.001, max_features=3, n_estimators=500;, score=0.772 total time=   0.2s\n",
      "[CV 1/3] END learning_rate=0.001, max_features=4, n_estimators=50;, score=0.618 total time=   0.0s\n",
      "[CV 2/3] END learning_rate=0.001, max_features=4, n_estimators=50;, score=0.616 total time=   0.0s\n",
      "[CV 3/3] END learning_rate=0.001, max_features=4, n_estimators=50;, score=0.616 total time=   0.0s\n",
      "[CV 1/3] END learning_rate=0.001, max_features=4, n_estimators=100;, score=0.618 total time=   0.0s\n",
      "[CV 2/3] END learning_rate=0.001, max_features=4, n_estimators=100;, score=0.616 total time=   0.0s\n",
      "[CV 3/3] END learning_rate=0.001, max_features=4, n_estimators=100;, score=0.616 total time=   0.0s\n",
      "[CV 1/3] END learning_rate=0.001, max_features=4, n_estimators=200;, score=0.618 total time=   0.0s\n",
      "[CV 2/3] END learning_rate=0.001, max_features=4, n_estimators=200;, score=0.616 total time=   0.0s\n",
      "[CV 3/3] END learning_rate=0.001, max_features=4, n_estimators=200;, score=0.616 total time=   0.0s\n",
      "[CV 1/3] END learning_rate=0.001, max_features=4, n_estimators=500;, score=0.777 total time=   0.2s\n",
      "[CV 2/3] END learning_rate=0.001, max_features=4, n_estimators=500;, score=0.734 total time=   0.2s\n",
      "[CV 3/3] END learning_rate=0.001, max_features=4, n_estimators=500;, score=0.776 total time=   0.2s\n",
      "[CV 1/3] END learning_rate=0.001, max_features=5, n_estimators=50;, score=0.618 total time=   0.0s\n",
      "[CV 2/3] END learning_rate=0.001, max_features=5, n_estimators=50;, score=0.616 total time=   0.0s\n",
      "[CV 3/3] END learning_rate=0.001, max_features=5, n_estimators=50;, score=0.616 total time=   0.0s\n",
      "[CV 1/3] END learning_rate=0.001, max_features=5, n_estimators=100;, score=0.618 total time=   0.0s\n",
      "[CV 2/3] END learning_rate=0.001, max_features=5, n_estimators=100;, score=0.616 total time=   0.0s\n",
      "[CV 3/3] END learning_rate=0.001, max_features=5, n_estimators=100;, score=0.616 total time=   0.0s\n",
      "[CV 1/3] END learning_rate=0.001, max_features=5, n_estimators=200;, score=0.618 total time=   0.1s\n",
      "[CV 2/3] END learning_rate=0.001, max_features=5, n_estimators=200;, score=0.616 total time=   0.0s\n",
      "[CV 3/3] END learning_rate=0.001, max_features=5, n_estimators=200;, score=0.616 total time=   0.0s\n",
      "[CV 1/3] END learning_rate=0.001, max_features=5, n_estimators=500;, score=0.803 total time=   0.2s\n",
      "[CV 2/3] END learning_rate=0.001, max_features=5, n_estimators=500;, score=0.734 total time=   0.2s\n",
      "[CV 3/3] END learning_rate=0.001, max_features=5, n_estimators=500;, score=0.768 total time=   0.2s\n",
      "[CV 1/3] END learning_rate=0.01, max_features=2, n_estimators=50;, score=0.718 total time=   0.0s\n",
      "[CV 2/3] END learning_rate=0.01, max_features=2, n_estimators=50;, score=0.738 total time=   0.0s\n",
      "[CV 3/3] END learning_rate=0.01, max_features=2, n_estimators=50;, score=0.717 total time=   0.0s\n",
      "[CV 1/3] END learning_rate=0.01, max_features=2, n_estimators=100;, score=0.807 total time=   0.0s\n",
      "[CV 2/3] END learning_rate=0.01, max_features=2, n_estimators=100;, score=0.759 total time=   0.0s\n",
      "[CV 3/3] END learning_rate=0.01, max_features=2, n_estimators=100;, score=0.802 total time=   0.0s\n",
      "[CV 1/3] END learning_rate=0.01, max_features=2, n_estimators=200;, score=0.824 total time=   0.0s\n",
      "[CV 2/3] END learning_rate=0.01, max_features=2, n_estimators=200;, score=0.802 total time=   0.0s\n",
      "[CV 3/3] END learning_rate=0.01, max_features=2, n_estimators=200;, score=0.802 total time=   0.0s\n",
      "[CV 1/3] END learning_rate=0.01, max_features=2, n_estimators=500;, score=0.819 total time=   0.2s\n",
      "[CV 2/3] END learning_rate=0.01, max_features=2, n_estimators=500;, score=0.793 total time=   0.2s\n",
      "[CV 3/3] END learning_rate=0.01, max_features=2, n_estimators=500;, score=0.802 total time=   0.2s\n",
      "[CV 1/3] END learning_rate=0.01, max_features=3, n_estimators=50;, score=0.731 total time=   0.0s\n",
      "[CV 2/3] END learning_rate=0.01, max_features=3, n_estimators=50;, score=0.738 total time=   0.0s\n",
      "[CV 3/3] END learning_rate=0.01, max_features=3, n_estimators=50;, score=0.776 total time=   0.0s\n",
      "[CV 1/3] END learning_rate=0.01, max_features=3, n_estimators=100;, score=0.819 total time=   0.0s\n",
      "[CV 2/3] END learning_rate=0.01, max_features=3, n_estimators=100;, score=0.789 total time=   0.0s\n",
      "[CV 3/3] END learning_rate=0.01, max_features=3, n_estimators=100;, score=0.797 total time=   0.0s\n",
      "[CV 1/3] END learning_rate=0.01, max_features=3, n_estimators=200;, score=0.824 total time=   0.0s\n",
      "[CV 2/3] END learning_rate=0.01, max_features=3, n_estimators=200;, score=0.797 total time=   0.0s\n",
      "[CV 3/3] END learning_rate=0.01, max_features=3, n_estimators=200;, score=0.810 total time=   0.0s\n",
      "[CV 1/3] END learning_rate=0.01, max_features=3, n_estimators=500;, score=0.819 total time=   0.2s\n",
      "[CV 2/3] END learning_rate=0.01, max_features=3, n_estimators=500;, score=0.793 total time=   0.2s\n",
      "[CV 3/3] END learning_rate=0.01, max_features=3, n_estimators=500;, score=0.806 total time=   0.2s\n",
      "[CV 1/3] END learning_rate=0.01, max_features=4, n_estimators=50;, score=0.786 total time=   0.0s\n",
      "[CV 2/3] END learning_rate=0.01, max_features=4, n_estimators=50;, score=0.738 total time=   0.0s\n",
      "[CV 3/3] END learning_rate=0.01, max_features=4, n_estimators=50;, score=0.785 total time=   0.0s\n",
      "[CV 1/3] END learning_rate=0.01, max_features=4, n_estimators=100;, score=0.819 total time=   0.0s\n",
      "[CV 2/3] END learning_rate=0.01, max_features=4, n_estimators=100;, score=0.785 total time=   0.0s\n",
      "[CV 3/3] END learning_rate=0.01, max_features=4, n_estimators=100;, score=0.802 total time=   0.0s\n",
      "[CV 1/3] END learning_rate=0.01, max_features=4, n_estimators=200;, score=0.824 total time=   0.0s\n",
      "[CV 2/3] END learning_rate=0.01, max_features=4, n_estimators=200;, score=0.789 total time=   0.0s\n",
      "[CV 3/3] END learning_rate=0.01, max_features=4, n_estimators=200;, score=0.797 total time=   0.0s\n",
      "[CV 1/3] END learning_rate=0.01, max_features=4, n_estimators=500;, score=0.815 total time=   0.2s\n"
     ]
    },
    {
     "name": "stdout",
     "output_type": "stream",
     "text": [
      "[CV 2/3] END learning_rate=0.01, max_features=4, n_estimators=500;, score=0.785 total time=   0.2s\n",
      "[CV 3/3] END learning_rate=0.01, max_features=4, n_estimators=500;, score=0.810 total time=   0.2s\n",
      "[CV 1/3] END learning_rate=0.01, max_features=5, n_estimators=50;, score=0.815 total time=   0.0s\n",
      "[CV 2/3] END learning_rate=0.01, max_features=5, n_estimators=50;, score=0.738 total time=   0.0s\n",
      "[CV 3/3] END learning_rate=0.01, max_features=5, n_estimators=50;, score=0.768 total time=   0.0s\n",
      "[CV 1/3] END learning_rate=0.01, max_features=5, n_estimators=100;, score=0.819 total time=   0.0s\n",
      "[CV 2/3] END learning_rate=0.01, max_features=5, n_estimators=100;, score=0.785 total time=   0.0s\n",
      "[CV 3/3] END learning_rate=0.01, max_features=5, n_estimators=100;, score=0.789 total time=   0.0s\n",
      "[CV 1/3] END learning_rate=0.01, max_features=5, n_estimators=200;, score=0.824 total time=   0.0s\n",
      "[CV 2/3] END learning_rate=0.01, max_features=5, n_estimators=200;, score=0.789 total time=   0.1s\n",
      "[CV 3/3] END learning_rate=0.01, max_features=5, n_estimators=200;, score=0.797 total time=   0.1s\n",
      "[CV 1/3] END learning_rate=0.01, max_features=5, n_estimators=500;, score=0.815 total time=   0.2s\n",
      "[CV 2/3] END learning_rate=0.01, max_features=5, n_estimators=500;, score=0.785 total time=   0.2s\n",
      "[CV 3/3] END learning_rate=0.01, max_features=5, n_estimators=500;, score=0.802 total time=   0.3s\n",
      "[CV 1/3] END learning_rate=0.1, max_features=2, n_estimators=50;, score=0.798 total time=   0.0s\n",
      "[CV 2/3] END learning_rate=0.1, max_features=2, n_estimators=50;, score=0.793 total time=   0.0s\n",
      "[CV 3/3] END learning_rate=0.1, max_features=2, n_estimators=50;, score=0.797 total time=   0.0s\n",
      "[CV 1/3] END learning_rate=0.1, max_features=2, n_estimators=100;, score=0.815 total time=   0.0s\n",
      "[CV 2/3] END learning_rate=0.1, max_features=2, n_estimators=100;, score=0.797 total time=   0.0s\n",
      "[CV 3/3] END learning_rate=0.1, max_features=2, n_estimators=100;, score=0.797 total time=   0.0s\n",
      "[CV 1/3] END learning_rate=0.1, max_features=2, n_estimators=200;, score=0.807 total time=   0.1s\n",
      "[CV 2/3] END learning_rate=0.1, max_features=2, n_estimators=200;, score=0.772 total time=   0.0s\n",
      "[CV 3/3] END learning_rate=0.1, max_features=2, n_estimators=200;, score=0.793 total time=   0.0s\n",
      "[CV 1/3] END learning_rate=0.1, max_features=2, n_estimators=500;, score=0.819 total time=   0.2s\n",
      "[CV 2/3] END learning_rate=0.1, max_features=2, n_estimators=500;, score=0.797 total time=   0.2s\n",
      "[CV 3/3] END learning_rate=0.1, max_features=2, n_estimators=500;, score=0.793 total time=   0.2s\n",
      "[CV 1/3] END learning_rate=0.1, max_features=3, n_estimators=50;, score=0.815 total time=   0.0s\n",
      "[CV 2/3] END learning_rate=0.1, max_features=3, n_estimators=50;, score=0.789 total time=   0.0s\n",
      "[CV 3/3] END learning_rate=0.1, max_features=3, n_estimators=50;, score=0.810 total time=   0.0s\n",
      "[CV 1/3] END learning_rate=0.1, max_features=3, n_estimators=100;, score=0.811 total time=   0.0s\n",
      "[CV 2/3] END learning_rate=0.1, max_features=3, n_estimators=100;, score=0.789 total time=   0.0s\n",
      "[CV 3/3] END learning_rate=0.1, max_features=3, n_estimators=100;, score=0.802 total time=   0.0s\n",
      "[CV 1/3] END learning_rate=0.1, max_features=3, n_estimators=200;, score=0.819 total time=   0.0s\n",
      "[CV 2/3] END learning_rate=0.1, max_features=3, n_estimators=200;, score=0.793 total time=   0.0s\n",
      "[CV 3/3] END learning_rate=0.1, max_features=3, n_estimators=200;, score=0.785 total time=   0.0s\n",
      "[CV 1/3] END learning_rate=0.1, max_features=3, n_estimators=500;, score=0.794 total time=   0.2s\n",
      "[CV 2/3] END learning_rate=0.1, max_features=3, n_estimators=500;, score=0.789 total time=   0.2s\n",
      "[CV 3/3] END learning_rate=0.1, max_features=3, n_estimators=500;, score=0.776 total time=   0.2s\n",
      "[CV 1/3] END learning_rate=0.1, max_features=4, n_estimators=50;, score=0.824 total time=   0.0s\n",
      "[CV 2/3] END learning_rate=0.1, max_features=4, n_estimators=50;, score=0.789 total time=   0.0s\n",
      "[CV 3/3] END learning_rate=0.1, max_features=4, n_estimators=50;, score=0.797 total time=   0.0s\n",
      "[CV 1/3] END learning_rate=0.1, max_features=4, n_estimators=100;, score=0.807 total time=   0.0s\n",
      "[CV 2/3] END learning_rate=0.1, max_features=4, n_estimators=100;, score=0.785 total time=   0.0s\n",
      "[CV 3/3] END learning_rate=0.1, max_features=4, n_estimators=100;, score=0.797 total time=   0.0s\n",
      "[CV 1/3] END learning_rate=0.1, max_features=4, n_estimators=200;, score=0.807 total time=   0.0s\n",
      "[CV 2/3] END learning_rate=0.1, max_features=4, n_estimators=200;, score=0.793 total time=   0.0s\n",
      "[CV 3/3] END learning_rate=0.1, max_features=4, n_estimators=200;, score=0.772 total time=   0.0s\n",
      "[CV 1/3] END learning_rate=0.1, max_features=4, n_estimators=500;, score=0.807 total time=   0.2s\n",
      "[CV 2/3] END learning_rate=0.1, max_features=4, n_estimators=500;, score=0.802 total time=   0.2s\n",
      "[CV 3/3] END learning_rate=0.1, max_features=4, n_estimators=500;, score=0.793 total time=   0.2s\n",
      "[CV 1/3] END learning_rate=0.1, max_features=5, n_estimators=50;, score=0.819 total time=   0.0s\n",
      "[CV 2/3] END learning_rate=0.1, max_features=5, n_estimators=50;, score=0.772 total time=   0.0s\n",
      "[CV 3/3] END learning_rate=0.1, max_features=5, n_estimators=50;, score=0.810 total time=   0.0s\n",
      "[CV 1/3] END learning_rate=0.1, max_features=5, n_estimators=100;, score=0.824 total time=   0.0s\n",
      "[CV 2/3] END learning_rate=0.1, max_features=5, n_estimators=100;, score=0.776 total time=   0.0s\n",
      "[CV 3/3] END learning_rate=0.1, max_features=5, n_estimators=100;, score=0.793 total time=   0.0s\n",
      "[CV 1/3] END learning_rate=0.1, max_features=5, n_estimators=200;, score=0.807 total time=   0.0s\n",
      "[CV 2/3] END learning_rate=0.1, max_features=5, n_estimators=200;, score=0.781 total time=   0.0s\n",
      "[CV 3/3] END learning_rate=0.1, max_features=5, n_estimators=200;, score=0.797 total time=   0.1s\n",
      "[CV 1/3] END learning_rate=0.1, max_features=5, n_estimators=500;, score=0.807 total time=   0.2s\n",
      "[CV 2/3] END learning_rate=0.1, max_features=5, n_estimators=500;, score=0.797 total time=   0.2s\n",
      "[CV 3/3] END learning_rate=0.1, max_features=5, n_estimators=500;, score=0.793 total time=   0.2s\n",
      "[CV 1/3] END learning_rate=1, max_features=2, n_estimators=50;, score=0.798 total time=   0.0s\n",
      "[CV 2/3] END learning_rate=1, max_features=2, n_estimators=50;, score=0.781 total time=   0.0s\n",
      "[CV 3/3] END learning_rate=1, max_features=2, n_estimators=50;, score=0.793 total time=   0.0s\n",
      "[CV 1/3] END learning_rate=1, max_features=2, n_estimators=100;, score=0.777 total time=   0.0s\n",
      "[CV 2/3] END learning_rate=1, max_features=2, n_estimators=100;, score=0.785 total time=   0.0s\n",
      "[CV 3/3] END learning_rate=1, max_features=2, n_estimators=100;, score=0.781 total time=   0.0s\n",
      "[CV 1/3] END learning_rate=1, max_features=2, n_estimators=200;, score=0.786 total time=   0.0s\n",
      "[CV 2/3] END learning_rate=1, max_features=2, n_estimators=200;, score=0.776 total time=   0.0s\n",
      "[CV 3/3] END learning_rate=1, max_features=2, n_estimators=200;, score=0.764 total time=   0.0s\n",
      "[CV 1/3] END learning_rate=1, max_features=2, n_estimators=500;, score=0.794 total time=   0.2s\n",
      "[CV 2/3] END learning_rate=1, max_features=2, n_estimators=500;, score=0.768 total time=   0.2s\n",
      "[CV 3/3] END learning_rate=1, max_features=2, n_estimators=500;, score=0.759 total time=   0.2s\n",
      "[CV 1/3] END learning_rate=1, max_features=3, n_estimators=50;, score=0.786 total time=   0.0s\n",
      "[CV 2/3] END learning_rate=1, max_features=3, n_estimators=50;, score=0.797 total time=   0.0s\n",
      "[CV 3/3] END learning_rate=1, max_features=3, n_estimators=50;, score=0.759 total time=   0.0s\n",
      "[CV 1/3] END learning_rate=1, max_features=3, n_estimators=100;, score=0.798 total time=   0.0s\n",
      "[CV 2/3] END learning_rate=1, max_features=3, n_estimators=100;, score=0.781 total time=   0.0s\n",
      "[CV 3/3] END learning_rate=1, max_features=3, n_estimators=100;, score=0.764 total time=   0.0s\n",
      "[CV 1/3] END learning_rate=1, max_features=3, n_estimators=200;, score=0.803 total time=   0.0s\n",
      "[CV 2/3] END learning_rate=1, max_features=3, n_estimators=200;, score=0.785 total time=   0.0s\n",
      "[CV 3/3] END learning_rate=1, max_features=3, n_estimators=200;, score=0.772 total time=   0.0s\n",
      "[CV 1/3] END learning_rate=1, max_features=3, n_estimators=500;, score=0.811 total time=   0.2s\n",
      "[CV 2/3] END learning_rate=1, max_features=3, n_estimators=500;, score=0.768 total time=   0.2s\n"
     ]
    },
    {
     "name": "stdout",
     "output_type": "stream",
     "text": [
      "[CV 3/3] END learning_rate=1, max_features=3, n_estimators=500;, score=0.781 total time=   0.2s\n",
      "[CV 1/3] END learning_rate=1, max_features=4, n_estimators=50;, score=0.819 total time=   0.0s\n",
      "[CV 2/3] END learning_rate=1, max_features=4, n_estimators=50;, score=0.785 total time=   0.0s\n",
      "[CV 3/3] END learning_rate=1, max_features=4, n_estimators=50;, score=0.747 total time=   0.0s\n",
      "[CV 1/3] END learning_rate=1, max_features=4, n_estimators=100;, score=0.798 total time=   0.0s\n",
      "[CV 2/3] END learning_rate=1, max_features=4, n_estimators=100;, score=0.797 total time=   0.0s\n",
      "[CV 3/3] END learning_rate=1, max_features=4, n_estimators=100;, score=0.764 total time=   0.0s\n",
      "[CV 1/3] END learning_rate=1, max_features=4, n_estimators=200;, score=0.803 total time=   0.0s\n",
      "[CV 2/3] END learning_rate=1, max_features=4, n_estimators=200;, score=0.764 total time=   0.0s\n",
      "[CV 3/3] END learning_rate=1, max_features=4, n_estimators=200;, score=0.781 total time=   0.0s\n",
      "[CV 1/3] END learning_rate=1, max_features=4, n_estimators=500;, score=0.773 total time=   0.2s\n",
      "[CV 2/3] END learning_rate=1, max_features=4, n_estimators=500;, score=0.772 total time=   0.2s\n",
      "[CV 3/3] END learning_rate=1, max_features=4, n_estimators=500;, score=0.751 total time=   0.2s\n",
      "[CV 1/3] END learning_rate=1, max_features=5, n_estimators=50;, score=0.807 total time=   0.0s\n",
      "[CV 2/3] END learning_rate=1, max_features=5, n_estimators=50;, score=0.797 total time=   0.0s\n",
      "[CV 3/3] END learning_rate=1, max_features=5, n_estimators=50;, score=0.781 total time=   0.0s\n",
      "[CV 1/3] END learning_rate=1, max_features=5, n_estimators=100;, score=0.794 total time=   0.0s\n",
      "[CV 2/3] END learning_rate=1, max_features=5, n_estimators=100;, score=0.776 total time=   0.0s\n",
      "[CV 3/3] END learning_rate=1, max_features=5, n_estimators=100;, score=0.781 total time=   0.0s\n",
      "[CV 1/3] END learning_rate=1, max_features=5, n_estimators=200;, score=0.756 total time=   0.0s\n",
      "[CV 2/3] END learning_rate=1, max_features=5, n_estimators=200;, score=0.781 total time=   0.0s\n",
      "[CV 3/3] END learning_rate=1, max_features=5, n_estimators=200;, score=0.768 total time=   0.0s\n",
      "[CV 1/3] END learning_rate=1, max_features=5, n_estimators=500;, score=0.786 total time=   0.2s\n",
      "[CV 2/3] END learning_rate=1, max_features=5, n_estimators=500;, score=0.624 total time=   0.2s\n",
      "[CV 3/3] END learning_rate=1, max_features=5, n_estimators=500;, score=0.759 total time=   0.2s\n",
      "[CV 1/3] END learning_rate=10, max_features=2, n_estimators=50;, score=0.227 total time=   0.0s\n",
      "[CV 2/3] END learning_rate=10, max_features=2, n_estimators=50;, score=0.675 total time=   0.0s\n",
      "[CV 3/3] END learning_rate=10, max_features=2, n_estimators=50;, score=0.384 total time=   0.0s\n",
      "[CV 1/3] END learning_rate=10, max_features=2, n_estimators=100;, score=0.567 total time=   0.0s\n",
      "[CV 2/3] END learning_rate=10, max_features=2, n_estimators=100;, score=0.363 total time=   0.0s\n",
      "[CV 3/3] END learning_rate=10, max_features=2, n_estimators=100;, score=0.278 total time=   0.0s\n",
      "[CV 1/3] END learning_rate=10, max_features=2, n_estimators=200;, score=0.542 total time=   0.0s\n",
      "[CV 2/3] END learning_rate=10, max_features=2, n_estimators=200;, score=0.354 total time=   0.0s\n",
      "[CV 3/3] END learning_rate=10, max_features=2, n_estimators=200;, score=0.422 total time=   0.0s\n",
      "[CV 1/3] END learning_rate=10, max_features=2, n_estimators=500;, score=0.681 total time=   0.2s\n",
      "[CV 2/3] END learning_rate=10, max_features=2, n_estimators=500;, score=0.608 total time=   0.2s\n",
      "[CV 3/3] END learning_rate=10, max_features=2, n_estimators=500;, score=0.414 total time=   0.2s\n",
      "[CV 1/3] END learning_rate=10, max_features=3, n_estimators=50;, score=0.235 total time=   0.0s\n",
      "[CV 2/3] END learning_rate=10, max_features=3, n_estimators=50;, score=0.270 total time=   0.0s\n",
      "[CV 3/3] END learning_rate=10, max_features=3, n_estimators=50;, score=0.253 total time=   0.0s\n",
      "[CV 1/3] END learning_rate=10, max_features=3, n_estimators=100;, score=0.475 total time=   0.0s\n",
      "[CV 2/3] END learning_rate=10, max_features=3, n_estimators=100;, score=0.641 total time=   0.0s\n",
      "[CV 3/3] END learning_rate=10, max_features=3, n_estimators=100;, score=0.253 total time=   0.0s\n",
      "[CV 1/3] END learning_rate=10, max_features=3, n_estimators=200;, score=0.244 total time=   0.0s\n",
      "[CV 2/3] END learning_rate=10, max_features=3, n_estimators=200;, score=0.443 total time=   0.0s\n",
      "[CV 3/3] END learning_rate=10, max_features=3, n_estimators=200;, score=0.603 total time=   0.0s\n",
      "[CV 1/3] END learning_rate=10, max_features=3, n_estimators=500;, score=0.218 total time=   0.2s\n",
      "[CV 2/3] END learning_rate=10, max_features=3, n_estimators=500;, score=0.308 total time=   0.2s\n",
      "[CV 3/3] END learning_rate=10, max_features=3, n_estimators=500;, score=0.325 total time=   0.2s\n",
      "[CV 1/3] END learning_rate=10, max_features=4, n_estimators=50;, score=0.424 total time=   0.0s\n",
      "[CV 2/3] END learning_rate=10, max_features=4, n_estimators=50;, score=0.388 total time=   0.0s\n",
      "[CV 3/3] END learning_rate=10, max_features=4, n_estimators=50;, score=0.376 total time=   0.0s\n",
      "[CV 1/3] END learning_rate=10, max_features=4, n_estimators=100;, score=0.256 total time=   0.0s\n",
      "[CV 2/3] END learning_rate=10, max_features=4, n_estimators=100;, score=0.540 total time=   0.0s\n",
      "[CV 3/3] END learning_rate=10, max_features=4, n_estimators=100;, score=0.325 total time=   0.0s\n",
      "[CV 1/3] END learning_rate=10, max_features=4, n_estimators=200;, score=0.395 total time=   0.0s\n",
      "[CV 2/3] END learning_rate=10, max_features=4, n_estimators=200;, score=0.667 total time=   0.1s\n",
      "[CV 3/3] END learning_rate=10, max_features=4, n_estimators=200;, score=0.620 total time=   0.0s\n",
      "[CV 1/3] END learning_rate=10, max_features=4, n_estimators=500;, score=0.399 total time=   0.2s\n",
      "[CV 2/3] END learning_rate=10, max_features=4, n_estimators=500;, score=0.325 total time=   0.3s\n",
      "[CV 3/3] END learning_rate=10, max_features=4, n_estimators=500;, score=0.409 total time=   0.3s\n",
      "[CV 1/3] END learning_rate=10, max_features=5, n_estimators=50;, score=0.282 total time=   0.0s\n",
      "[CV 2/3] END learning_rate=10, max_features=5, n_estimators=50;, score=0.257 total time=   0.0s\n",
      "[CV 3/3] END learning_rate=10, max_features=5, n_estimators=50;, score=0.684 total time=   0.0s\n",
      "[CV 1/3] END learning_rate=10, max_features=5, n_estimators=100;, score=0.622 total time=   0.0s\n",
      "[CV 2/3] END learning_rate=10, max_features=5, n_estimators=100;, score=0.215 total time=   0.0s\n",
      "[CV 3/3] END learning_rate=10, max_features=5, n_estimators=100;, score=0.219 total time=   0.0s\n",
      "[CV 1/3] END learning_rate=10, max_features=5, n_estimators=200;, score=0.290 total time=   0.1s\n",
      "[CV 2/3] END learning_rate=10, max_features=5, n_estimators=200;, score=0.650 total time=   0.1s\n",
      "[CV 3/3] END learning_rate=10, max_features=5, n_estimators=200;, score=0.430 total time=   0.1s\n",
      "[CV 1/3] END learning_rate=10, max_features=5, n_estimators=500;, score=0.597 total time=   0.3s\n",
      "[CV 2/3] END learning_rate=10, max_features=5, n_estimators=500;, score=0.354 total time=   0.2s\n",
      "[CV 3/3] END learning_rate=10, max_features=5, n_estimators=500;, score=0.253 total time=   0.2s\n"
     ]
    },
    {
     "data": {
      "text/plain": [
       "GridSearchCV(cv=3, estimator=GradientBoostingClassifier(),\n",
       "             param_grid={'learning_rate': [0.001, 0.01, 0.1, 1, 10],\n",
       "                         'max_features': [2, 3, 4, 5],\n",
       "                         'n_estimators': [50, 100, 200, 500]},\n",
       "             scoring='accuracy', verbose=3)"
      ]
     },
     "execution_count": 147,
     "metadata": {},
     "output_type": "execute_result"
    }
   ],
   "source": [
    "gscv.fit(x_train,y_train)"
   ]
  },
  {
   "cell_type": "code",
   "execution_count": 148,
   "id": "719e4578",
   "metadata": {},
   "outputs": [],
   "source": [
    "y_pred_gb = gscv.predict(x_test)"
   ]
  },
  {
   "cell_type": "code",
   "execution_count": 149,
   "id": "12f03ae3",
   "metadata": {},
   "outputs": [
    {
     "name": "stdout",
     "output_type": "stream",
     "text": [
      "Confusion Matrix:\n",
      " [[98 12]\n",
      " [20 49]]\n",
      "Acuuracy: 0.8212290502793296\n",
      "Recall: 0.7101449275362319\n",
      "Precision: 0.8032786885245902\n",
      "F1 Score: 0.7538461538461538\n"
     ]
    }
   ],
   "source": [
    "validation(y_test,y_pred_gb)"
   ]
  },
  {
   "cell_type": "markdown",
   "id": "ccfb7056",
   "metadata": {},
   "source": [
    "# XGBoosting"
   ]
  },
  {
   "cell_type": "code",
   "execution_count": 150,
   "id": "2d886ac1",
   "metadata": {},
   "outputs": [],
   "source": [
    "from xgboost import XGBClassifier\n",
    "model_xgb = XGBClassifier()"
   ]
  },
  {
   "cell_type": "code",
   "execution_count": 151,
   "id": "3ff63889",
   "metadata": {},
   "outputs": [],
   "source": [
    "param =  {'n_estimators': [50,100,200,350,500],'learning_rate':[0.001,0.01,0.1,1,10],'max_depth':[4,3,4,5]  }\n",
    "gscv = GridSearchCV(estimator=model_xgb,param_grid=param,cv=3,scoring='accuracy',verbose=3)"
   ]
  },
  {
   "cell_type": "code",
   "execution_count": 152,
   "id": "e97a1480",
   "metadata": {},
   "outputs": [
    {
     "name": "stdout",
     "output_type": "stream",
     "text": [
      "Fitting 3 folds for each of 100 candidates, totalling 300 fits\n",
      "[CV 1/3] END learning_rate=0.001, max_depth=4, n_estimators=50;, score=0.819 total time=   0.0s\n",
      "[CV 2/3] END learning_rate=0.001, max_depth=4, n_estimators=50;, score=0.797 total time=   0.0s\n",
      "[CV 3/3] END learning_rate=0.001, max_depth=4, n_estimators=50;, score=0.776 total time=   0.0s\n",
      "[CV 1/3] END learning_rate=0.001, max_depth=4, n_estimators=100;, score=0.819 total time=   0.0s\n",
      "[CV 2/3] END learning_rate=0.001, max_depth=4, n_estimators=100;, score=0.797 total time=   0.0s\n",
      "[CV 3/3] END learning_rate=0.001, max_depth=4, n_estimators=100;, score=0.776 total time=   0.0s\n",
      "[CV 1/3] END learning_rate=0.001, max_depth=4, n_estimators=200;, score=0.819 total time=   0.1s\n",
      "[CV 2/3] END learning_rate=0.001, max_depth=4, n_estimators=200;, score=0.797 total time=   0.0s\n",
      "[CV 3/3] END learning_rate=0.001, max_depth=4, n_estimators=200;, score=0.781 total time=   0.1s\n",
      "[CV 1/3] END learning_rate=0.001, max_depth=4, n_estimators=350;, score=0.819 total time=   0.2s\n",
      "[CV 2/3] END learning_rate=0.001, max_depth=4, n_estimators=350;, score=0.797 total time=   0.2s\n",
      "[CV 3/3] END learning_rate=0.001, max_depth=4, n_estimators=350;, score=0.789 total time=   0.2s\n",
      "[CV 1/3] END learning_rate=0.001, max_depth=4, n_estimators=500;, score=0.815 total time=   0.3s\n",
      "[CV 2/3] END learning_rate=0.001, max_depth=4, n_estimators=500;, score=0.793 total time=   0.3s\n",
      "[CV 3/3] END learning_rate=0.001, max_depth=4, n_estimators=500;, score=0.789 total time=   0.3s\n",
      "[CV 1/3] END learning_rate=0.001, max_depth=3, n_estimators=50;, score=0.807 total time=   0.0s\n",
      "[CV 2/3] END learning_rate=0.001, max_depth=3, n_estimators=50;, score=0.781 total time=   0.0s\n",
      "[CV 3/3] END learning_rate=0.001, max_depth=3, n_estimators=50;, score=0.785 total time=   0.0s\n",
      "[CV 1/3] END learning_rate=0.001, max_depth=3, n_estimators=100;, score=0.807 total time=   0.0s\n",
      "[CV 2/3] END learning_rate=0.001, max_depth=3, n_estimators=100;, score=0.781 total time=   0.0s\n",
      "[CV 3/3] END learning_rate=0.001, max_depth=3, n_estimators=100;, score=0.785 total time=   0.0s\n",
      "[CV 1/3] END learning_rate=0.001, max_depth=3, n_estimators=200;, score=0.798 total time=   0.1s\n",
      "[CV 2/3] END learning_rate=0.001, max_depth=3, n_estimators=200;, score=0.781 total time=   0.0s\n",
      "[CV 3/3] END learning_rate=0.001, max_depth=3, n_estimators=200;, score=0.781 total time=   0.1s\n",
      "[CV 1/3] END learning_rate=0.001, max_depth=3, n_estimators=350;, score=0.815 total time=   0.1s\n",
      "[CV 2/3] END learning_rate=0.001, max_depth=3, n_estimators=350;, score=0.781 total time=   0.1s\n",
      "[CV 3/3] END learning_rate=0.001, max_depth=3, n_estimators=350;, score=0.785 total time=   0.1s\n",
      "[CV 1/3] END learning_rate=0.001, max_depth=3, n_estimators=500;, score=0.815 total time=   0.2s\n",
      "[CV 2/3] END learning_rate=0.001, max_depth=3, n_estimators=500;, score=0.781 total time=   0.2s\n",
      "[CV 3/3] END learning_rate=0.001, max_depth=3, n_estimators=500;, score=0.802 total time=   0.2s\n",
      "[CV 1/3] END learning_rate=0.001, max_depth=4, n_estimators=50;, score=0.819 total time=   0.0s\n",
      "[CV 2/3] END learning_rate=0.001, max_depth=4, n_estimators=50;, score=0.797 total time=   0.0s\n",
      "[CV 3/3] END learning_rate=0.001, max_depth=4, n_estimators=50;, score=0.776 total time=   0.0s\n",
      "[CV 1/3] END learning_rate=0.001, max_depth=4, n_estimators=100;, score=0.819 total time=   0.0s\n",
      "[CV 2/3] END learning_rate=0.001, max_depth=4, n_estimators=100;, score=0.797 total time=   0.0s\n",
      "[CV 3/3] END learning_rate=0.001, max_depth=4, n_estimators=100;, score=0.776 total time=   0.0s\n",
      "[CV 1/3] END learning_rate=0.001, max_depth=4, n_estimators=200;, score=0.819 total time=   0.1s\n",
      "[CV 2/3] END learning_rate=0.001, max_depth=4, n_estimators=200;, score=0.797 total time=   0.0s\n",
      "[CV 3/3] END learning_rate=0.001, max_depth=4, n_estimators=200;, score=0.781 total time=   0.1s\n",
      "[CV 1/3] END learning_rate=0.001, max_depth=4, n_estimators=350;, score=0.819 total time=   0.2s\n",
      "[CV 2/3] END learning_rate=0.001, max_depth=4, n_estimators=350;, score=0.797 total time=   0.2s\n",
      "[CV 3/3] END learning_rate=0.001, max_depth=4, n_estimators=350;, score=0.789 total time=   0.1s\n",
      "[CV 1/3] END learning_rate=0.001, max_depth=4, n_estimators=500;, score=0.815 total time=   0.3s\n",
      "[CV 2/3] END learning_rate=0.001, max_depth=4, n_estimators=500;, score=0.793 total time=   0.3s\n",
      "[CV 3/3] END learning_rate=0.001, max_depth=4, n_estimators=500;, score=0.789 total time=   0.3s\n",
      "[CV 1/3] END learning_rate=0.001, max_depth=5, n_estimators=50;, score=0.815 total time=   0.0s\n",
      "[CV 2/3] END learning_rate=0.001, max_depth=5, n_estimators=50;, score=0.819 total time=   0.0s\n",
      "[CV 3/3] END learning_rate=0.001, max_depth=5, n_estimators=50;, score=0.802 total time=   0.0s\n",
      "[CV 1/3] END learning_rate=0.001, max_depth=5, n_estimators=100;, score=0.815 total time=   0.0s\n",
      "[CV 2/3] END learning_rate=0.001, max_depth=5, n_estimators=100;, score=0.819 total time=   0.0s\n",
      "[CV 3/3] END learning_rate=0.001, max_depth=5, n_estimators=100;, score=0.802 total time=   0.0s\n",
      "[CV 1/3] END learning_rate=0.001, max_depth=5, n_estimators=200;, score=0.815 total time=   0.1s\n",
      "[CV 2/3] END learning_rate=0.001, max_depth=5, n_estimators=200;, score=0.819 total time=   0.1s\n",
      "[CV 3/3] END learning_rate=0.001, max_depth=5, n_estimators=200;, score=0.793 total time=   0.1s\n",
      "[CV 1/3] END learning_rate=0.001, max_depth=5, n_estimators=350;, score=0.807 total time=   0.2s\n",
      "[CV 2/3] END learning_rate=0.001, max_depth=5, n_estimators=350;, score=0.802 total time=   0.2s\n",
      "[CV 3/3] END learning_rate=0.001, max_depth=5, n_estimators=350;, score=0.781 total time=   0.2s\n",
      "[CV 1/3] END learning_rate=0.001, max_depth=5, n_estimators=500;, score=0.803 total time=   0.3s\n",
      "[CV 2/3] END learning_rate=0.001, max_depth=5, n_estimators=500;, score=0.789 total time=   0.3s\n",
      "[CV 3/3] END learning_rate=0.001, max_depth=5, n_estimators=500;, score=0.797 total time=   0.3s\n",
      "[CV 1/3] END learning_rate=0.01, max_depth=4, n_estimators=50;, score=0.815 total time=   0.0s\n",
      "[CV 2/3] END learning_rate=0.01, max_depth=4, n_estimators=50;, score=0.793 total time=   0.0s\n",
      "[CV 3/3] END learning_rate=0.01, max_depth=4, n_estimators=50;, score=0.789 total time=   0.0s\n",
      "[CV 1/3] END learning_rate=0.01, max_depth=4, n_estimators=100;, score=0.815 total time=   0.0s\n",
      "[CV 2/3] END learning_rate=0.01, max_depth=4, n_estimators=100;, score=0.793 total time=   0.0s\n",
      "[CV 3/3] END learning_rate=0.01, max_depth=4, n_estimators=100;, score=0.789 total time=   0.0s\n",
      "[CV 1/3] END learning_rate=0.01, max_depth=4, n_estimators=200;, score=0.811 total time=   0.1s\n",
      "[CV 2/3] END learning_rate=0.01, max_depth=4, n_estimators=200;, score=0.793 total time=   0.0s\n",
      "[CV 3/3] END learning_rate=0.01, max_depth=4, n_estimators=200;, score=0.785 total time=   0.1s\n",
      "[CV 1/3] END learning_rate=0.01, max_depth=4, n_estimators=350;, score=0.819 total time=   0.2s\n",
      "[CV 2/3] END learning_rate=0.01, max_depth=4, n_estimators=350;, score=0.785 total time=   0.2s\n",
      "[CV 3/3] END learning_rate=0.01, max_depth=4, n_estimators=350;, score=0.793 total time=   0.2s\n",
      "[CV 1/3] END learning_rate=0.01, max_depth=4, n_estimators=500;, score=0.815 total time=   0.3s\n",
      "[CV 2/3] END learning_rate=0.01, max_depth=4, n_estimators=500;, score=0.781 total time=   0.4s\n",
      "[CV 3/3] END learning_rate=0.01, max_depth=4, n_estimators=500;, score=0.806 total time=   0.3s\n",
      "[CV 1/3] END learning_rate=0.01, max_depth=3, n_estimators=50;, score=0.815 total time=   0.0s\n",
      "[CV 2/3] END learning_rate=0.01, max_depth=3, n_estimators=50;, score=0.781 total time=   0.0s\n",
      "[CV 3/3] END learning_rate=0.01, max_depth=3, n_estimators=50;, score=0.802 total time=   0.0s\n",
      "[CV 1/3] END learning_rate=0.01, max_depth=3, n_estimators=100;, score=0.815 total time=   0.0s\n",
      "[CV 2/3] END learning_rate=0.01, max_depth=3, n_estimators=100;, score=0.789 total time=   0.0s\n",
      "[CV 3/3] END learning_rate=0.01, max_depth=3, n_estimators=100;, score=0.810 total time=   0.0s\n",
      "[CV 1/3] END learning_rate=0.01, max_depth=3, n_estimators=200;, score=0.819 total time=   0.0s\n",
      "[CV 2/3] END learning_rate=0.01, max_depth=3, n_estimators=200;, score=0.785 total time=   0.0s\n",
      "[CV 3/3] END learning_rate=0.01, max_depth=3, n_estimators=200;, score=0.806 total time=   0.0s\n",
      "[CV 1/3] END learning_rate=0.01, max_depth=3, n_estimators=350;, score=0.824 total time=   0.1s\n"
     ]
    },
    {
     "name": "stdout",
     "output_type": "stream",
     "text": [
      "[CV 2/3] END learning_rate=0.01, max_depth=3, n_estimators=350;, score=0.785 total time=   0.1s\n",
      "[CV 3/3] END learning_rate=0.01, max_depth=3, n_estimators=350;, score=0.802 total time=   0.1s\n",
      "[CV 1/3] END learning_rate=0.01, max_depth=3, n_estimators=500;, score=0.828 total time=   0.3s\n",
      "[CV 2/3] END learning_rate=0.01, max_depth=3, n_estimators=500;, score=0.776 total time=   0.3s\n",
      "[CV 3/3] END learning_rate=0.01, max_depth=3, n_estimators=500;, score=0.789 total time=   0.3s\n",
      "[CV 1/3] END learning_rate=0.01, max_depth=4, n_estimators=50;, score=0.815 total time=   0.0s\n",
      "[CV 2/3] END learning_rate=0.01, max_depth=4, n_estimators=50;, score=0.793 total time=   0.0s\n",
      "[CV 3/3] END learning_rate=0.01, max_depth=4, n_estimators=50;, score=0.789 total time=   0.0s\n",
      "[CV 1/3] END learning_rate=0.01, max_depth=4, n_estimators=100;, score=0.815 total time=   0.0s\n",
      "[CV 2/3] END learning_rate=0.01, max_depth=4, n_estimators=100;, score=0.793 total time=   0.0s\n",
      "[CV 3/3] END learning_rate=0.01, max_depth=4, n_estimators=100;, score=0.789 total time=   0.0s\n",
      "[CV 1/3] END learning_rate=0.01, max_depth=4, n_estimators=200;, score=0.811 total time=   0.1s\n",
      "[CV 2/3] END learning_rate=0.01, max_depth=4, n_estimators=200;, score=0.793 total time=   0.0s\n",
      "[CV 3/3] END learning_rate=0.01, max_depth=4, n_estimators=200;, score=0.785 total time=   0.1s\n",
      "[CV 1/3] END learning_rate=0.01, max_depth=4, n_estimators=350;, score=0.819 total time=   0.1s\n",
      "[CV 2/3] END learning_rate=0.01, max_depth=4, n_estimators=350;, score=0.785 total time=   0.2s\n",
      "[CV 3/3] END learning_rate=0.01, max_depth=4, n_estimators=350;, score=0.793 total time=   0.1s\n",
      "[CV 1/3] END learning_rate=0.01, max_depth=4, n_estimators=500;, score=0.815 total time=   0.2s\n",
      "[CV 2/3] END learning_rate=0.01, max_depth=4, n_estimators=500;, score=0.781 total time=   0.3s\n",
      "[CV 3/3] END learning_rate=0.01, max_depth=4, n_estimators=500;, score=0.806 total time=   0.3s\n",
      "[CV 1/3] END learning_rate=0.01, max_depth=5, n_estimators=50;, score=0.807 total time=   0.0s\n",
      "[CV 2/3] END learning_rate=0.01, max_depth=5, n_estimators=50;, score=0.789 total time=   0.0s\n",
      "[CV 3/3] END learning_rate=0.01, max_depth=5, n_estimators=50;, score=0.797 total time=   0.0s\n",
      "[CV 1/3] END learning_rate=0.01, max_depth=5, n_estimators=100;, score=0.798 total time=   0.0s\n",
      "[CV 2/3] END learning_rate=0.01, max_depth=5, n_estimators=100;, score=0.797 total time=   0.0s\n",
      "[CV 3/3] END learning_rate=0.01, max_depth=5, n_estimators=100;, score=0.793 total time=   0.0s\n",
      "[CV 1/3] END learning_rate=0.01, max_depth=5, n_estimators=200;, score=0.815 total time=   0.1s\n",
      "[CV 2/3] END learning_rate=0.01, max_depth=5, n_estimators=200;, score=0.793 total time=   0.1s\n",
      "[CV 3/3] END learning_rate=0.01, max_depth=5, n_estimators=200;, score=0.785 total time=   0.1s\n",
      "[CV 1/3] END learning_rate=0.01, max_depth=5, n_estimators=350;, score=0.811 total time=   0.2s\n",
      "[CV 2/3] END learning_rate=0.01, max_depth=5, n_estimators=350;, score=0.793 total time=   0.2s\n",
      "[CV 3/3] END learning_rate=0.01, max_depth=5, n_estimators=350;, score=0.785 total time=   0.2s\n",
      "[CV 1/3] END learning_rate=0.01, max_depth=5, n_estimators=500;, score=0.819 total time=   0.3s\n",
      "[CV 2/3] END learning_rate=0.01, max_depth=5, n_estimators=500;, score=0.781 total time=   0.3s\n",
      "[CV 3/3] END learning_rate=0.01, max_depth=5, n_estimators=500;, score=0.785 total time=   0.3s\n",
      "[CV 1/3] END learning_rate=0.1, max_depth=4, n_estimators=50;, score=0.824 total time=   0.0s\n",
      "[CV 2/3] END learning_rate=0.1, max_depth=4, n_estimators=50;, score=0.776 total time=   0.0s\n",
      "[CV 3/3] END learning_rate=0.1, max_depth=4, n_estimators=50;, score=0.819 total time=   0.0s\n",
      "[CV 1/3] END learning_rate=0.1, max_depth=4, n_estimators=100;, score=0.824 total time=   0.0s\n",
      "[CV 2/3] END learning_rate=0.1, max_depth=4, n_estimators=100;, score=0.781 total time=   0.0s\n",
      "[CV 3/3] END learning_rate=0.1, max_depth=4, n_estimators=100;, score=0.781 total time=   0.0s\n",
      "[CV 1/3] END learning_rate=0.1, max_depth=4, n_estimators=200;, score=0.815 total time=   0.1s\n",
      "[CV 2/3] END learning_rate=0.1, max_depth=4, n_estimators=200;, score=0.776 total time=   0.0s\n",
      "[CV 3/3] END learning_rate=0.1, max_depth=4, n_estimators=200;, score=0.776 total time=   0.1s\n",
      "[CV 1/3] END learning_rate=0.1, max_depth=4, n_estimators=350;, score=0.807 total time=   0.1s\n",
      "[CV 2/3] END learning_rate=0.1, max_depth=4, n_estimators=350;, score=0.789 total time=   0.1s\n",
      "[CV 3/3] END learning_rate=0.1, max_depth=4, n_estimators=350;, score=0.764 total time=   0.2s\n",
      "[CV 1/3] END learning_rate=0.1, max_depth=4, n_estimators=500;, score=0.798 total time=   0.2s\n",
      "[CV 2/3] END learning_rate=0.1, max_depth=4, n_estimators=500;, score=0.785 total time=   0.3s\n",
      "[CV 3/3] END learning_rate=0.1, max_depth=4, n_estimators=500;, score=0.751 total time=   0.3s\n",
      "[CV 1/3] END learning_rate=0.1, max_depth=3, n_estimators=50;, score=0.824 total time=   0.0s\n",
      "[CV 2/3] END learning_rate=0.1, max_depth=3, n_estimators=50;, score=0.776 total time=   0.0s\n",
      "[CV 3/3] END learning_rate=0.1, max_depth=3, n_estimators=50;, score=0.793 total time=   0.0s\n",
      "[CV 1/3] END learning_rate=0.1, max_depth=3, n_estimators=100;, score=0.828 total time=   0.0s\n",
      "[CV 2/3] END learning_rate=0.1, max_depth=3, n_estimators=100;, score=0.781 total time=   0.0s\n",
      "[CV 3/3] END learning_rate=0.1, max_depth=3, n_estimators=100;, score=0.806 total time=   0.0s\n",
      "[CV 1/3] END learning_rate=0.1, max_depth=3, n_estimators=200;, score=0.811 total time=   0.0s\n",
      "[CV 2/3] END learning_rate=0.1, max_depth=3, n_estimators=200;, score=0.768 total time=   0.0s\n",
      "[CV 3/3] END learning_rate=0.1, max_depth=3, n_estimators=200;, score=0.785 total time=   0.0s\n",
      "[CV 1/3] END learning_rate=0.1, max_depth=3, n_estimators=350;, score=0.824 total time=   0.1s\n",
      "[CV 2/3] END learning_rate=0.1, max_depth=3, n_estimators=350;, score=0.772 total time=   0.1s\n",
      "[CV 3/3] END learning_rate=0.1, max_depth=3, n_estimators=350;, score=0.776 total time=   0.1s\n",
      "[CV 1/3] END learning_rate=0.1, max_depth=3, n_estimators=500;, score=0.803 total time=   0.2s\n",
      "[CV 2/3] END learning_rate=0.1, max_depth=3, n_estimators=500;, score=0.781 total time=   0.2s\n",
      "[CV 3/3] END learning_rate=0.1, max_depth=3, n_estimators=500;, score=0.772 total time=   0.2s\n",
      "[CV 1/3] END learning_rate=0.1, max_depth=4, n_estimators=50;, score=0.824 total time=   0.0s\n",
      "[CV 2/3] END learning_rate=0.1, max_depth=4, n_estimators=50;, score=0.776 total time=   0.0s\n",
      "[CV 3/3] END learning_rate=0.1, max_depth=4, n_estimators=50;, score=0.819 total time=   0.0s\n",
      "[CV 1/3] END learning_rate=0.1, max_depth=4, n_estimators=100;, score=0.824 total time=   0.0s\n",
      "[CV 2/3] END learning_rate=0.1, max_depth=4, n_estimators=100;, score=0.781 total time=   0.0s\n",
      "[CV 3/3] END learning_rate=0.1, max_depth=4, n_estimators=100;, score=0.781 total time=   0.0s\n",
      "[CV 1/3] END learning_rate=0.1, max_depth=4, n_estimators=200;, score=0.815 total time=   0.0s\n",
      "[CV 2/3] END learning_rate=0.1, max_depth=4, n_estimators=200;, score=0.776 total time=   0.0s\n",
      "[CV 3/3] END learning_rate=0.1, max_depth=4, n_estimators=200;, score=0.776 total time=   0.0s\n",
      "[CV 1/3] END learning_rate=0.1, max_depth=4, n_estimators=350;, score=0.807 total time=   0.1s\n",
      "[CV 2/3] END learning_rate=0.1, max_depth=4, n_estimators=350;, score=0.789 total time=   0.2s\n",
      "[CV 3/3] END learning_rate=0.1, max_depth=4, n_estimators=350;, score=0.764 total time=   0.1s\n",
      "[CV 1/3] END learning_rate=0.1, max_depth=4, n_estimators=500;, score=0.798 total time=   0.3s\n",
      "[CV 2/3] END learning_rate=0.1, max_depth=4, n_estimators=500;, score=0.785 total time=   0.2s\n",
      "[CV 3/3] END learning_rate=0.1, max_depth=4, n_estimators=500;, score=0.751 total time=   0.2s\n",
      "[CV 1/3] END learning_rate=0.1, max_depth=5, n_estimators=50;, score=0.824 total time=   0.0s\n",
      "[CV 2/3] END learning_rate=0.1, max_depth=5, n_estimators=50;, score=0.781 total time=   0.0s\n",
      "[CV 3/3] END learning_rate=0.1, max_depth=5, n_estimators=50;, score=0.772 total time=   0.0s\n",
      "[CV 1/3] END learning_rate=0.1, max_depth=5, n_estimators=100;, score=0.824 total time=   0.0s\n",
      "[CV 2/3] END learning_rate=0.1, max_depth=5, n_estimators=100;, score=0.776 total time=   0.0s\n",
      "[CV 3/3] END learning_rate=0.1, max_depth=5, n_estimators=100;, score=0.768 total time=   0.0s\n",
      "[CV 1/3] END learning_rate=0.1, max_depth=5, n_estimators=200;, score=0.807 total time=   0.1s\n",
      "[CV 2/3] END learning_rate=0.1, max_depth=5, n_estimators=200;, score=0.785 total time=   0.1s\n"
     ]
    },
    {
     "name": "stdout",
     "output_type": "stream",
     "text": [
      "[CV 3/3] END learning_rate=0.1, max_depth=5, n_estimators=200;, score=0.764 total time=   0.1s\n",
      "[CV 1/3] END learning_rate=0.1, max_depth=5, n_estimators=350;, score=0.807 total time=   0.2s\n",
      "[CV 2/3] END learning_rate=0.1, max_depth=5, n_estimators=350;, score=0.785 total time=   0.2s\n",
      "[CV 3/3] END learning_rate=0.1, max_depth=5, n_estimators=350;, score=0.768 total time=   0.2s\n",
      "[CV 1/3] END learning_rate=0.1, max_depth=5, n_estimators=500;, score=0.798 total time=   0.3s\n",
      "[CV 2/3] END learning_rate=0.1, max_depth=5, n_estimators=500;, score=0.785 total time=   0.3s\n",
      "[CV 3/3] END learning_rate=0.1, max_depth=5, n_estimators=500;, score=0.743 total time=   0.3s\n",
      "[CV 1/3] END learning_rate=1, max_depth=4, n_estimators=50;, score=0.807 total time=   0.0s\n",
      "[CV 2/3] END learning_rate=1, max_depth=4, n_estimators=50;, score=0.806 total time=   0.0s\n",
      "[CV 3/3] END learning_rate=1, max_depth=4, n_estimators=50;, score=0.776 total time=   0.0s\n",
      "[CV 1/3] END learning_rate=1, max_depth=4, n_estimators=100;, score=0.794 total time=   0.0s\n",
      "[CV 2/3] END learning_rate=1, max_depth=4, n_estimators=100;, score=0.810 total time=   0.0s\n",
      "[CV 3/3] END learning_rate=1, max_depth=4, n_estimators=100;, score=0.751 total time=   0.0s\n",
      "[CV 1/3] END learning_rate=1, max_depth=4, n_estimators=200;, score=0.794 total time=   0.1s\n",
      "[CV 2/3] END learning_rate=1, max_depth=4, n_estimators=200;, score=0.806 total time=   0.0s\n",
      "[CV 3/3] END learning_rate=1, max_depth=4, n_estimators=200;, score=0.759 total time=   0.0s\n",
      "[CV 1/3] END learning_rate=1, max_depth=4, n_estimators=350;, score=0.786 total time=   0.1s\n",
      "[CV 2/3] END learning_rate=1, max_depth=4, n_estimators=350;, score=0.793 total time=   0.3s\n",
      "[CV 3/3] END learning_rate=1, max_depth=4, n_estimators=350;, score=0.759 total time=   0.2s\n",
      "[CV 1/3] END learning_rate=1, max_depth=4, n_estimators=500;, score=0.777 total time=   0.3s\n",
      "[CV 2/3] END learning_rate=1, max_depth=4, n_estimators=500;, score=0.797 total time=   0.3s\n",
      "[CV 3/3] END learning_rate=1, max_depth=4, n_estimators=500;, score=0.764 total time=   0.2s\n",
      "[CV 1/3] END learning_rate=1, max_depth=3, n_estimators=50;, score=0.773 total time=   0.0s\n",
      "[CV 2/3] END learning_rate=1, max_depth=3, n_estimators=50;, score=0.806 total time=   0.0s\n",
      "[CV 3/3] END learning_rate=1, max_depth=3, n_estimators=50;, score=0.764 total time=   0.0s\n",
      "[CV 1/3] END learning_rate=1, max_depth=3, n_estimators=100;, score=0.761 total time=   0.0s\n",
      "[CV 2/3] END learning_rate=1, max_depth=3, n_estimators=100;, score=0.785 total time=   0.0s\n",
      "[CV 3/3] END learning_rate=1, max_depth=3, n_estimators=100;, score=0.751 total time=   0.0s\n",
      "[CV 1/3] END learning_rate=1, max_depth=3, n_estimators=200;, score=0.761 total time=   0.0s\n",
      "[CV 2/3] END learning_rate=1, max_depth=3, n_estimators=200;, score=0.781 total time=   0.0s\n",
      "[CV 3/3] END learning_rate=1, max_depth=3, n_estimators=200;, score=0.759 total time=   0.0s\n",
      "[CV 1/3] END learning_rate=1, max_depth=3, n_estimators=350;, score=0.769 total time=   0.1s\n",
      "[CV 2/3] END learning_rate=1, max_depth=3, n_estimators=350;, score=0.772 total time=   0.1s\n",
      "[CV 3/3] END learning_rate=1, max_depth=3, n_estimators=350;, score=0.759 total time=   0.1s\n",
      "[CV 1/3] END learning_rate=1, max_depth=3, n_estimators=500;, score=0.769 total time=   0.2s\n",
      "[CV 2/3] END learning_rate=1, max_depth=3, n_estimators=500;, score=0.776 total time=   0.2s\n",
      "[CV 3/3] END learning_rate=1, max_depth=3, n_estimators=500;, score=0.759 total time=   0.2s\n",
      "[CV 1/3] END learning_rate=1, max_depth=4, n_estimators=50;, score=0.807 total time=   0.0s\n",
      "[CV 2/3] END learning_rate=1, max_depth=4, n_estimators=50;, score=0.806 total time=   0.0s\n",
      "[CV 3/3] END learning_rate=1, max_depth=4, n_estimators=50;, score=0.776 total time=   0.0s\n",
      "[CV 1/3] END learning_rate=1, max_depth=4, n_estimators=100;, score=0.794 total time=   0.0s\n",
      "[CV 2/3] END learning_rate=1, max_depth=4, n_estimators=100;, score=0.810 total time=   0.0s\n",
      "[CV 3/3] END learning_rate=1, max_depth=4, n_estimators=100;, score=0.751 total time=   0.0s\n",
      "[CV 1/3] END learning_rate=1, max_depth=4, n_estimators=200;, score=0.794 total time=   0.1s\n",
      "[CV 2/3] END learning_rate=1, max_depth=4, n_estimators=200;, score=0.806 total time=   0.1s\n",
      "[CV 3/3] END learning_rate=1, max_depth=4, n_estimators=200;, score=0.759 total time=   0.1s\n",
      "[CV 1/3] END learning_rate=1, max_depth=4, n_estimators=350;, score=0.786 total time=   0.1s\n",
      "[CV 2/3] END learning_rate=1, max_depth=4, n_estimators=350;, score=0.793 total time=   0.2s\n",
      "[CV 3/3] END learning_rate=1, max_depth=4, n_estimators=350;, score=0.759 total time=   0.2s\n",
      "[CV 1/3] END learning_rate=1, max_depth=4, n_estimators=500;, score=0.777 total time=   0.3s\n",
      "[CV 2/3] END learning_rate=1, max_depth=4, n_estimators=500;, score=0.797 total time=   0.3s\n",
      "[CV 3/3] END learning_rate=1, max_depth=4, n_estimators=500;, score=0.764 total time=   0.3s\n",
      "[CV 1/3] END learning_rate=1, max_depth=5, n_estimators=50;, score=0.786 total time=   0.0s\n",
      "[CV 2/3] END learning_rate=1, max_depth=5, n_estimators=50;, score=0.793 total time=   0.0s\n",
      "[CV 3/3] END learning_rate=1, max_depth=5, n_estimators=50;, score=0.772 total time=   0.0s\n",
      "[CV 1/3] END learning_rate=1, max_depth=5, n_estimators=100;, score=0.777 total time=   0.0s\n",
      "[CV 2/3] END learning_rate=1, max_depth=5, n_estimators=100;, score=0.793 total time=   0.0s\n",
      "[CV 3/3] END learning_rate=1, max_depth=5, n_estimators=100;, score=0.759 total time=   0.0s\n",
      "[CV 1/3] END learning_rate=1, max_depth=5, n_estimators=200;, score=0.782 total time=   0.1s\n",
      "[CV 2/3] END learning_rate=1, max_depth=5, n_estimators=200;, score=0.781 total time=   0.1s\n",
      "[CV 3/3] END learning_rate=1, max_depth=5, n_estimators=200;, score=0.755 total time=   0.1s\n",
      "[CV 1/3] END learning_rate=1, max_depth=5, n_estimators=350;, score=0.773 total time=   0.2s\n",
      "[CV 2/3] END learning_rate=1, max_depth=5, n_estimators=350;, score=0.789 total time=   0.2s\n",
      "[CV 3/3] END learning_rate=1, max_depth=5, n_estimators=350;, score=0.768 total time=   0.2s\n",
      "[CV 1/3] END learning_rate=1, max_depth=5, n_estimators=500;, score=0.769 total time=   0.3s\n",
      "[CV 2/3] END learning_rate=1, max_depth=5, n_estimators=500;, score=0.793 total time=   0.3s\n",
      "[CV 3/3] END learning_rate=1, max_depth=5, n_estimators=500;, score=0.772 total time=   0.3s\n",
      "[CV 1/3] END learning_rate=10, max_depth=4, n_estimators=50;, score=0.639 total time=   0.0s\n",
      "[CV 2/3] END learning_rate=10, max_depth=4, n_estimators=50;, score=0.384 total time=   0.0s\n",
      "[CV 3/3] END learning_rate=10, max_depth=4, n_estimators=50;, score=0.781 total time=   0.0s\n",
      "[CV 1/3] END learning_rate=10, max_depth=4, n_estimators=100;, score=0.639 total time=   0.0s\n",
      "[CV 2/3] END learning_rate=10, max_depth=4, n_estimators=100;, score=0.384 total time=   0.0s\n",
      "[CV 3/3] END learning_rate=10, max_depth=4, n_estimators=100;, score=0.781 total time=   0.0s\n",
      "[CV 1/3] END learning_rate=10, max_depth=4, n_estimators=200;, score=0.639 total time=   0.0s\n",
      "[CV 2/3] END learning_rate=10, max_depth=4, n_estimators=200;, score=0.384 total time=   0.0s\n",
      "[CV 3/3] END learning_rate=10, max_depth=4, n_estimators=200;, score=0.781 total time=   0.0s\n",
      "[CV 1/3] END learning_rate=10, max_depth=4, n_estimators=350;, score=0.639 total time=   0.1s\n",
      "[CV 2/3] END learning_rate=10, max_depth=4, n_estimators=350;, score=0.384 total time=   0.1s\n",
      "[CV 3/3] END learning_rate=10, max_depth=4, n_estimators=350;, score=0.781 total time=   0.2s\n",
      "[CV 1/3] END learning_rate=10, max_depth=4, n_estimators=500;, score=0.639 total time=   0.2s\n",
      "[CV 2/3] END learning_rate=10, max_depth=4, n_estimators=500;, score=0.384 total time=   0.2s\n",
      "[CV 3/3] END learning_rate=10, max_depth=4, n_estimators=500;, score=0.781 total time=   0.2s\n",
      "[CV 1/3] END learning_rate=10, max_depth=3, n_estimators=50;, score=0.824 total time=   0.0s\n",
      "[CV 2/3] END learning_rate=10, max_depth=3, n_estimators=50;, score=0.781 total time=   0.0s\n",
      "[CV 3/3] END learning_rate=10, max_depth=3, n_estimators=50;, score=0.384 total time=   0.0s\n",
      "[CV 1/3] END learning_rate=10, max_depth=3, n_estimators=100;, score=0.824 total time=   0.0s\n",
      "[CV 2/3] END learning_rate=10, max_depth=3, n_estimators=100;, score=0.781 total time=   0.0s\n",
      "[CV 3/3] END learning_rate=10, max_depth=3, n_estimators=100;, score=0.384 total time=   0.0s\n"
     ]
    },
    {
     "name": "stdout",
     "output_type": "stream",
     "text": [
      "[CV 1/3] END learning_rate=10, max_depth=3, n_estimators=200;, score=0.824 total time=   0.0s\n",
      "[CV 2/3] END learning_rate=10, max_depth=3, n_estimators=200;, score=0.781 total time=   0.0s\n",
      "[CV 3/3] END learning_rate=10, max_depth=3, n_estimators=200;, score=0.384 total time=   0.0s\n",
      "[CV 1/3] END learning_rate=10, max_depth=3, n_estimators=350;, score=0.824 total time=   0.1s\n",
      "[CV 2/3] END learning_rate=10, max_depth=3, n_estimators=350;, score=0.781 total time=   0.1s\n",
      "[CV 3/3] END learning_rate=10, max_depth=3, n_estimators=350;, score=0.384 total time=   0.1s\n",
      "[CV 1/3] END learning_rate=10, max_depth=3, n_estimators=500;, score=0.824 total time=   0.2s\n",
      "[CV 2/3] END learning_rate=10, max_depth=3, n_estimators=500;, score=0.781 total time=   0.2s\n",
      "[CV 3/3] END learning_rate=10, max_depth=3, n_estimators=500;, score=0.384 total time=   0.2s\n",
      "[CV 1/3] END learning_rate=10, max_depth=4, n_estimators=50;, score=0.639 total time=   0.0s\n",
      "[CV 2/3] END learning_rate=10, max_depth=4, n_estimators=50;, score=0.384 total time=   0.0s\n",
      "[CV 3/3] END learning_rate=10, max_depth=4, n_estimators=50;, score=0.781 total time=   0.0s\n",
      "[CV 1/3] END learning_rate=10, max_depth=4, n_estimators=100;, score=0.639 total time=   0.0s\n",
      "[CV 2/3] END learning_rate=10, max_depth=4, n_estimators=100;, score=0.384 total time=   0.0s\n",
      "[CV 3/3] END learning_rate=10, max_depth=4, n_estimators=100;, score=0.781 total time=   0.0s\n",
      "[CV 1/3] END learning_rate=10, max_depth=4, n_estimators=200;, score=0.639 total time=   0.0s\n",
      "[CV 2/3] END learning_rate=10, max_depth=4, n_estimators=200;, score=0.384 total time=   0.0s\n",
      "[CV 3/3] END learning_rate=10, max_depth=4, n_estimators=200;, score=0.781 total time=   0.1s\n",
      "[CV 1/3] END learning_rate=10, max_depth=4, n_estimators=350;, score=0.639 total time=   0.1s\n",
      "[CV 2/3] END learning_rate=10, max_depth=4, n_estimators=350;, score=0.384 total time=   0.1s\n",
      "[CV 3/3] END learning_rate=10, max_depth=4, n_estimators=350;, score=0.781 total time=   0.1s\n",
      "[CV 1/3] END learning_rate=10, max_depth=4, n_estimators=500;, score=0.639 total time=   0.2s\n",
      "[CV 2/3] END learning_rate=10, max_depth=4, n_estimators=500;, score=0.384 total time=   0.2s\n",
      "[CV 3/3] END learning_rate=10, max_depth=4, n_estimators=500;, score=0.781 total time=   0.2s\n",
      "[CV 1/3] END learning_rate=10, max_depth=5, n_estimators=50;, score=0.197 total time=   0.0s\n",
      "[CV 2/3] END learning_rate=10, max_depth=5, n_estimators=50;, score=0.392 total time=   0.0s\n",
      "[CV 3/3] END learning_rate=10, max_depth=5, n_estimators=50;, score=0.456 total time=   0.0s\n",
      "[CV 1/3] END learning_rate=10, max_depth=5, n_estimators=100;, score=0.197 total time=   0.0s\n",
      "[CV 2/3] END learning_rate=10, max_depth=5, n_estimators=100;, score=0.392 total time=   0.0s\n",
      "[CV 3/3] END learning_rate=10, max_depth=5, n_estimators=100;, score=0.456 total time=   0.0s\n",
      "[CV 1/3] END learning_rate=10, max_depth=5, n_estimators=200;, score=0.197 total time=   0.0s\n",
      "[CV 2/3] END learning_rate=10, max_depth=5, n_estimators=200;, score=0.392 total time=   0.0s\n",
      "[CV 3/3] END learning_rate=10, max_depth=5, n_estimators=200;, score=0.456 total time=   0.0s\n",
      "[CV 1/3] END learning_rate=10, max_depth=5, n_estimators=350;, score=0.197 total time=   0.1s\n",
      "[CV 2/3] END learning_rate=10, max_depth=5, n_estimators=350;, score=0.392 total time=   0.1s\n",
      "[CV 3/3] END learning_rate=10, max_depth=5, n_estimators=350;, score=0.456 total time=   0.1s\n",
      "[CV 1/3] END learning_rate=10, max_depth=5, n_estimators=500;, score=0.197 total time=   0.2s\n",
      "[CV 2/3] END learning_rate=10, max_depth=5, n_estimators=500;, score=0.392 total time=   0.2s\n",
      "[CV 3/3] END learning_rate=10, max_depth=5, n_estimators=500;, score=0.456 total time=   0.2s\n"
     ]
    },
    {
     "data": {
      "text/plain": [
       "GridSearchCV(cv=3,\n",
       "             estimator=XGBClassifier(base_score=None, booster=None,\n",
       "                                     callbacks=None, colsample_bylevel=None,\n",
       "                                     colsample_bynode=None,\n",
       "                                     colsample_bytree=None,\n",
       "                                     early_stopping_rounds=None,\n",
       "                                     enable_categorical=False, eval_metric=None,\n",
       "                                     gamma=None, gpu_id=None, grow_policy=None,\n",
       "                                     importance_type=None,\n",
       "                                     interaction_constraints=None,\n",
       "                                     learning_rate=None, max_bin=None,\n",
       "                                     max_ca...\n",
       "                                     max_delta_step=None, max_depth=None,\n",
       "                                     max_leaves=None, min_child_weight=None,\n",
       "                                     missing=nan, monotone_constraints=None,\n",
       "                                     n_estimators=100, n_jobs=None,\n",
       "                                     num_parallel_tree=None, predictor=None,\n",
       "                                     random_state=None, reg_alpha=None,\n",
       "                                     reg_lambda=None, ...),\n",
       "             param_grid={'learning_rate': [0.001, 0.01, 0.1, 1, 10],\n",
       "                         'max_depth': [4, 3, 4, 5],\n",
       "                         'n_estimators': [50, 100, 200, 350, 500]},\n",
       "             scoring='accuracy', verbose=3)"
      ]
     },
     "execution_count": 152,
     "metadata": {},
     "output_type": "execute_result"
    }
   ],
   "source": [
    "gscv.fit(x_train,y_train)"
   ]
  },
  {
   "cell_type": "code",
   "execution_count": 153,
   "id": "6a2f0983",
   "metadata": {},
   "outputs": [
    {
     "data": {
      "text/plain": [
       "XGBClassifier(base_score=0.5, booster='gbtree', callbacks=None,\n",
       "              colsample_bylevel=1, colsample_bynode=1, colsample_bytree=1,\n",
       "              early_stopping_rounds=None, enable_categorical=False,\n",
       "              eval_metric=None, gamma=0, gpu_id=-1, grow_policy='depthwise',\n",
       "              importance_type=None, interaction_constraints='',\n",
       "              learning_rate=0.300000012, max_bin=256, max_cat_to_onehot=4,\n",
       "              max_delta_step=0, max_depth=6, max_leaves=0, min_child_weight=1,\n",
       "              missing=nan, monotone_constraints='()', n_estimators=100,\n",
       "              n_jobs=0, num_parallel_tree=1, predictor='auto', random_state=0,\n",
       "              reg_alpha=0, reg_lambda=1, ...)"
      ]
     },
     "execution_count": 153,
     "metadata": {},
     "output_type": "execute_result"
    }
   ],
   "source": [
    "model_xgb.fit(x_train,y_train)"
   ]
  },
  {
   "cell_type": "code",
   "execution_count": null,
   "id": "19f57129",
   "metadata": {},
   "outputs": [],
   "source": [
    "y_pred_xg = model_xgb.predict(x_test)"
   ]
  },
  {
   "cell_type": "code",
   "execution_count": null,
   "id": "5ed4054a",
   "metadata": {},
   "outputs": [],
   "source": [
    "validation(y_test,y_pred_xg)"
   ]
  },
  {
   "cell_type": "code",
   "execution_count": 154,
   "id": "905a8a4a",
   "metadata": {},
   "outputs": [
    {
     "data": {
      "text/plain": [
       "0.8117930716590434"
      ]
     },
     "execution_count": 154,
     "metadata": {},
     "output_type": "execute_result"
    }
   ],
   "source": [
    "gscv.best_score_"
   ]
  },
  {
   "cell_type": "code",
   "execution_count": 155,
   "id": "51dfc3a4",
   "metadata": {},
   "outputs": [
    {
     "data": {
      "text/plain": [
       "{'learning_rate': 0.001, 'max_depth': 5, 'n_estimators': 50}"
      ]
     },
     "execution_count": 155,
     "metadata": {},
     "output_type": "execute_result"
    }
   ],
   "source": [
    "gscv.best_params_"
   ]
  },
  {
   "cell_type": "code",
   "execution_count": 157,
   "id": "9479d615",
   "metadata": {},
   "outputs": [],
   "source": [
    "model_xgb = XGBClassifier(**gscv.best_params_)"
   ]
  },
  {
   "cell_type": "code",
   "execution_count": null,
   "id": "6df5e81d",
   "metadata": {},
   "outputs": [],
   "source": [
    "df"
   ]
  }
 ],
 "metadata": {
  "kernelspec": {
   "display_name": "Python 3 (ipykernel)",
   "language": "python",
   "name": "python3"
  },
  "language_info": {
   "codemirror_mode": {
    "name": "ipython",
    "version": 3
   },
   "file_extension": ".py",
   "mimetype": "text/x-python",
   "name": "python",
   "nbconvert_exporter": "python",
   "pygments_lexer": "ipython3",
   "version": "3.9.13"
  }
 },
 "nbformat": 4,
 "nbformat_minor": 5
}
